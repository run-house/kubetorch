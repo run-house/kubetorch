{
 "cells": [
  {
   "cell_type": "code",
   "execution_count": 1,
   "metadata": {},
   "outputs": [
    {
     "name": "stderr",
     "output_type": "stream",
     "text": [
      "2024-01-04 03:08:20,817\tINFO util.py:159 -- Missing packages: ['ipywidgets']. Run `pip install -U ipywidgets`, then restart the notebook server for rich notebook output.\n"
     ]
    }
   ],
   "source": [
    "import runhouse as rh"
   ]
  },
  {
   "cell_type": "code",
   "execution_count": 2,
   "metadata": {},
   "outputs": [],
   "source": [
    "# Simple invocation\n",
    "cluster = rh.kubernetes_cluster(\n",
    "              name=\"cpu-cluster-eks-16\",\n",
    "              instance_type=\"1CPU--1GB\",\n",
    "          )"
   ]
  },
  {
   "cell_type": "code",
   "execution_count": 11,
   "metadata": {},
   "outputs": [
    {
     "name": "stdout",
     "output_type": "stream",
     "text": [
      "Context \"arn:aws:eks:us-east-1:172657097474:cluster/ro-eks-sky1\" modified.\n",
      "\n",
      "Kubernetes namespace set to default\n",
      "Switched to context \"arn:aws:eks:us-east-1:172657097474:cluster/ro-eks-sky1\".\n",
      "Kubernetes context has been set to: arn:aws:eks:us-east-1:172657097474:cluster/ro-eks-sky1\n"
     ]
    }
   ],
   "source": [
    "# Passing in a context \n",
    "cluster = rh.kubernetes_cluster(\n",
    "              name=\"cpu-cluster-06\",\n",
    "              instance_type=\"1CPU--1GB\",\n",
    "              context=\"arn:aws:eks:us-east-1:172657097474:cluster/ro-eks-sky1\"  # make sure context exists \n",
    "          )"
   ]
  },
  {
   "cell_type": "code",
   "execution_count": 2,
   "metadata": {},
   "outputs": [
    {
     "name": "stdout",
     "output_type": "stream",
     "text": [
      "Context \"arn:aws:eks:us-east-1:172657097474:cluster/ro-eks-sky1\" modified.\n",
      "\n",
      "Kubernetes namespace set to housemates\n"
     ]
    }
   ],
   "source": [
    "# Passing in a namespace \n",
    "cluster = rh.kubernetes_cluster(\n",
    "              name=\"cpu-cluster-06\",\n",
    "              instance_type=\"1CPU--1GB\",\n",
    "              namespace=\"test\", # make sure namespace exists  \n",
    "          )"
   ]
  },
  {
   "cell_type": "code",
   "execution_count": null,
   "metadata": {},
   "outputs": [],
   "source": [
    "# Passing in a kubeconfig path\n",
    "cluster = rh.kubernetes_cluster(\n",
    "              name=\"cpu-cluster-05\",\n",
    "              instance_type=\"1CPU--1GB\",\n",
    "              kube_config_path=\"~/Downloads/kubeconfig\"\n",
    "          )"
   ]
  },
  {
   "cell_type": "code",
   "execution_count": 3,
   "metadata": {},
   "outputs": [
    {
     "name": "stdout",
     "output_type": "stream",
     "text": [
      "I 01-04 03:08:30 optimizer.py:674] == Optimizer ==\n",
      "I 01-04 03:08:30 optimizer.py:697] \u001b[1mEstimated cost: \u001b[0m$0.0 / hour\n",
      "I 01-04 03:08:30 optimizer.py:697] \n",
      "I 01-04 03:08:30 optimizer.py:769] \u001b[1mConsidered resources (1 node):\u001b[0m\n",
      "I 01-04 03:08:30 optimizer.py:818] ---------------------------------------------------------------------------------------------\n",
      "I 01-04 03:08:30 optimizer.py:818]  CLOUD        INSTANCE    vCPUs   Mem(GB)   ACCELERATORS   REGION/ZONE   COST ($)   CHOSEN   \n",
      "I 01-04 03:08:30 optimizer.py:818] ---------------------------------------------------------------------------------------------\n",
      "I 01-04 03:08:30 optimizer.py:818]  \u001b[1mKubernetes\u001b[0m   \u001b[1m1CPU--1GB\u001b[0m   \u001b[1m1\u001b[0m       \u001b[1m1\u001b[0m         \u001b[1m-\u001b[0m              \u001b[1mkubernetes\u001b[0m    \u001b[1m0.00\u001b[0m       \u001b[1m\u001b[32m   ✔\u001b[0m\u001b[0m     \n",
      "I 01-04 03:08:30 optimizer.py:818] ---------------------------------------------------------------------------------------------\n",
      "I 01-04 03:08:30 optimizer.py:818] \n",
      "I 01-04 03:08:30 cloud_vm_ray_backend.py:4380] \u001b[36mCreating a new cluster: 'cpu-cluster-eks-16' [1x Kubernetes(1CPU--1GB)].\u001b[0m\n",
      "I 01-04 03:08:30 cloud_vm_ray_backend.py:4380] Tip: to reuse an existing cluster, specify --cluster (-c). Run `sky status` to see existing clusters.\n",
      "I 01-04 03:08:30 cloud_vm_ray_backend.py:1449] To view detailed progress: \u001b[1mtail -n100 -f /Users/rohansreerama/sky_logs/sky-2024-01-04-03-08-30-093255/provision.log\u001b[0m\n",
      "I 01-04 03:08:32 cloud_vm_ray_backend.py:1884] \u001b[1mLaunching on Kubernetes \u001b[0m\n"
     ]
    },
    {
     "data": {
      "text/html": [
       "<pre style=\"white-space:pre;overflow-x:auto;line-height:normal;font-family:Menlo,'DejaVu Sans Mono',consolas,'Courier New',monospace\">/Users/rohansreerama/anaconda3/envs/sky_test_03/lib/python3.10/site-packages/rich/live.py:231: UserWarning: install\n",
       "\"ipywidgets\" for Jupyter support\n",
       "  warnings.warn('install \"ipywidgets\" for Jupyter support')\n",
       "</pre>\n"
      ],
      "text/plain": [
       "/Users/rohansreerama/anaconda3/envs/sky_test_03/lib/python3.10/site-packages/rich/live.py:231: UserWarning: install\n",
       "\"ipywidgets\" for Jupyter support\n",
       "  warnings.warn('install \"ipywidgets\" for Jupyter support')\n"
      ]
     },
     "metadata": {},
     "output_type": "display_data"
    },
    {
     "data": {
      "text/html": [
       "<pre style=\"white-space:pre;overflow-x:auto;line-height:normal;font-family:Menlo,'DejaVu Sans Mono',consolas,'Courier New',monospace\"></pre>\n"
      ],
      "text/plain": []
     },
     "metadata": {},
     "output_type": "display_data"
    },
    {
     "name": "stdout",
     "output_type": "stream",
     "text": [
      "I 01-04 03:08:40 log_utils.py:45] \u001b[32mHead node is up.\u001b[0m\n"
     ]
    },
    {
     "data": {
      "text/html": [
       "<pre style=\"white-space:pre;overflow-x:auto;line-height:normal;font-family:Menlo,'DejaVu Sans Mono',consolas,'Courier New',monospace\"></pre>\n"
      ],
      "text/plain": []
     },
     "metadata": {},
     "output_type": "display_data"
    },
    {
     "name": "stdout",
     "output_type": "stream",
     "text": [
      "I 01-04 03:08:54 cloud_vm_ray_backend.py:1692] \u001b[32mSuccessfully provisioned or found existing VM.\u001b[0m\n"
     ]
    },
    {
     "data": {
      "text/html": [
       "<pre style=\"white-space:pre;overflow-x:auto;line-height:normal;font-family:Menlo,'DejaVu Sans Mono',consolas,'Courier New',monospace\">/Users/rohansreerama/anaconda3/envs/sky_test_03/lib/python3.10/site-packages/rich/live.py:231: UserWarning: install\n",
       "\"ipywidgets\" for Jupyter support\n",
       "  warnings.warn('install \"ipywidgets\" for Jupyter support')\n",
       "</pre>\n"
      ],
      "text/plain": [
       "/Users/rohansreerama/anaconda3/envs/sky_test_03/lib/python3.10/site-packages/rich/live.py:231: UserWarning: install\n",
       "\"ipywidgets\" for Jupyter support\n",
       "  warnings.warn('install \"ipywidgets\" for Jupyter support')\n"
      ]
     },
     "metadata": {},
     "output_type": "display_data"
    },
    {
     "data": {
      "text/html": [
       "<pre style=\"white-space:pre;overflow-x:auto;line-height:normal;font-family:Menlo,'DejaVu Sans Mono',consolas,'Courier New',monospace\"></pre>\n"
      ],
      "text/plain": []
     },
     "metadata": {},
     "output_type": "display_data"
    },
    {
     "name": "stdout",
     "output_type": "stream",
     "text": [
      "I 01-04 03:08:58 cloud_vm_ray_backend.py:4430] \u001b[36mProcessing file mounts.\u001b[0m\n",
      "I 01-04 03:08:58 cloud_vm_ray_backend.py:4462] To view detailed progress: \u001b[1mtail -n100 -f ~/sky_logs/sky-2024-01-04-03-08-30-093255/file_mounts.log\u001b[0m\n",
      "I 01-04 03:08:58 backend_utils.py:1442] \u001b[36mSyncing (to 1 node): \u001b[1m~/.rh\u001b[0m -> \u001b[1m~/.rh\u001b[0m\n"
     ]
    },
    {
     "data": {
      "text/html": [
       "<pre style=\"white-space:pre;overflow-x:auto;line-height:normal;font-family:Menlo,'DejaVu Sans Mono',consolas,'Courier New',monospace\">/Users/rohansreerama/anaconda3/envs/sky_test_03/lib/python3.10/site-packages/rich/live.py:231: UserWarning: install\n",
       "\"ipywidgets\" for Jupyter support\n",
       "  warnings.warn('install \"ipywidgets\" for Jupyter support')\n",
       "</pre>\n"
      ],
      "text/plain": [
       "/Users/rohansreerama/anaconda3/envs/sky_test_03/lib/python3.10/site-packages/rich/live.py:231: UserWarning: install\n",
       "\"ipywidgets\" for Jupyter support\n",
       "  warnings.warn('install \"ipywidgets\" for Jupyter support')\n"
      ]
     },
     "metadata": {},
     "output_type": "display_data"
    },
    {
     "data": {
      "text/html": [
       "<pre style=\"white-space:pre;overflow-x:auto;line-height:normal;font-family:Menlo,'DejaVu Sans Mono',consolas,'Courier New',monospace\">/Users/rohansreerama/anaconda3/envs/sky_test_03/lib/python3.10/site-packages/rich/live.py:231: UserWarning: install\n",
       "\"ipywidgets\" for Jupyter support\n",
       "  warnings.warn('install \"ipywidgets\" for Jupyter support')\n",
       "</pre>\n"
      ],
      "text/plain": [
       "/Users/rohansreerama/anaconda3/envs/sky_test_03/lib/python3.10/site-packages/rich/live.py:231: UserWarning: install\n",
       "\"ipywidgets\" for Jupyter support\n",
       "  warnings.warn('install \"ipywidgets\" for Jupyter support')\n"
      ]
     },
     "metadata": {},
     "output_type": "display_data"
    },
    {
     "data": {
      "text/html": [
       "<pre style=\"white-space:pre;overflow-x:auto;line-height:normal;font-family:Menlo,'DejaVu Sans Mono',consolas,'Courier New',monospace\"></pre>\n"
      ],
      "text/plain": []
     },
     "metadata": {},
     "output_type": "display_data"
    },
    {
     "name": "stderr",
     "output_type": "stream",
     "text": [
      "/Users/rohansreerama/.sky/port-forward-proxy-cmd.sh: line 48: shuf: command not found\n",
      "usage: sleep seconds\n",
      "Warning: Permanently added '127.0.0.1' (ED25519) to the list of known hosts.\n",
      "Warning: Permanently added '10.123.4.28' (ED25519) to the list of known hosts.\n"
     ]
    },
    {
     "name": "stdout",
     "output_type": "stream",
     "text": [
      "I 01-04 03:09:10 cloud_vm_ray_backend.py:3477] Run commands not specified or empty.\n",
      "Clusters\n",
      "NAME                LAUNCHED      RESOURCES                         STATUS  AUTOSTOP  COMMAND                       \n",
      "cpu-cluster-eks-16  12 secs ago   1x Kubernetes(1CPU--1GB)          UP      (down)    /Users/rohansreerama/anac...  \n",
      "cpu-cluster-gke     4 weeks ago   1x Kubernetes(1CPU--1GB)          UP      (down)    /Users/rohansreerama/anac...  \n",
      "cpu-cluster-final   3 months ago  1x Kubernetes(1CPU--1GB, cpus=1)  UP      (down)    /Users/rohansreerama/anac...  \n",
      "\n",
      "\u001b[?25h"
     ]
    },
    {
     "name": "stderr",
     "output_type": "stream",
     "text": [
      "/Users/rohansreerama/anaconda3/envs/sky_test_03/lib/python3.10/site-packages/rich/live.py:231: UserWarning: install \"ipywidgets\" for Jupyter support\n",
      "  warnings.warn('install \"ipywidgets\" for Jupyter support')\n",
      "/Users/rohansreerama/anaconda3/envs/sky_test_03/lib/python3.10/site-packages/rich/live.py:231: UserWarning: install \"ipywidgets\" for Jupyter support\n",
      "  warnings.warn('install \"ipywidgets\" for Jupyter support')\n"
     ]
    },
    {
     "data": {
      "text/html": [
       "<pre style=\"white-space:pre;overflow-x:auto;line-height:normal;font-family:Menlo,'DejaVu Sans Mono',consolas,'Courier New',monospace\"></pre>\n"
      ],
      "text/plain": []
     },
     "metadata": {},
     "output_type": "display_data"
    },
    {
     "data": {
      "text/html": [
       "<pre style=\"white-space:pre;overflow-x:auto;line-height:normal;font-family:Menlo,'DejaVu Sans Mono',consolas,'Courier New',monospace\">\n",
       "</pre>\n"
      ],
      "text/plain": [
       "\n"
      ]
     },
     "metadata": {},
     "output_type": "display_data"
    },
    {
     "name": "stderr",
     "output_type": "stream",
     "text": [
      "INFO | 2024-01-04 11:09:15.135200 | Restarting Runhouse API server on cpu-cluster-eks-16.\n",
      "INFO | 2024-01-04 11:09:15.136392 | Running command: ssh -T -i ~/.ssh/sky-key -o Port=22 -o StrictHostKeyChecking=no -o UserKnownHostsFile=/dev/null -o IdentitiesOnly=yes -o ExitOnForwardFailure=yes -o ServerAliveInterval=5 -o ServerAliveCountMax=3 -o ConnectTimeout=30s -o ForwardAgent=yes -o ProxyCommand='ssh -tt -i ~/.ssh/sky-key -o StrictHostKeyChecking=no -o UserKnownHostsFile=/dev/null -o IdentitiesOnly=yes -W %h:%p sky@127.0.0.1 -o ProxyCommand='\"'\"'/Users/rohansreerama/.sky/port-forward-proxy-cmd.sh'\"'\"' ' sky@10.123.4.28 'bash --login -c -i '\"'\"'true && source ~/.bashrc && export OMP_NUM_THREADS=1 PYTHONWARNINGS=ignore && (mkdir -p ~/runhouse/)'\"'\"' 2>&1'\n",
      "INFO | 2024-01-04 11:09:33.013008 | Running command on cpu-cluster-eks-16: python3 -m pip install ./runhouse\n",
      "INFO | 2024-01-04 11:09:33.017868 | Running command: ssh -T -i ~/.ssh/sky-key -o Port=22 -o StrictHostKeyChecking=no -o UserKnownHostsFile=/dev/null -o IdentitiesOnly=yes -o ExitOnForwardFailure=yes -o ServerAliveInterval=5 -o ServerAliveCountMax=3 -o ConnectTimeout=30s -o ForwardAgent=yes -o ProxyCommand='ssh -tt -i ~/.ssh/sky-key -o StrictHostKeyChecking=no -o UserKnownHostsFile=/dev/null -o IdentitiesOnly=yes -W %h:%p sky@127.0.0.1 -o ProxyCommand='\"'\"'/Users/rohansreerama/.sky/port-forward-proxy-cmd.sh'\"'\"' ' sky@10.123.4.28 'bash --login -c -i '\"'\"'true && source ~/.bashrc && export OMP_NUM_THREADS=1 PYTHONWARNINGS=ignore && (python3 -m pip install ./runhouse)'\"'\"' 2>&1'\n",
      "/Users/rohansreerama/.sky/port-forward-proxy-cmd.sh: line 48: shuf: command not found\n",
      "usage: sleep seconds\n",
      "Warning: Permanently added '127.0.0.1' (ED25519) to the list of known hosts.\n",
      "Warning: Permanently added '10.123.4.28' (ED25519) to the list of known hosts.\n"
     ]
    },
    {
     "name": "stdout",
     "output_type": "stream",
     "text": [
      "Defaulting to user installation because normal site-packages is not writeable\n",
      "Processing ./runhouse\n",
      "  Preparing metadata (setup.py): started\n",
      "  Preparing metadata (setup.py): finished with status 'done'\n",
      "Requirement already satisfied: python-dotenv in ./.local/lib/python3.10/site-packages (from runhouse==0.0.14) (1.0.0)\n",
      "Collecting fastapi\n",
      "  Downloading fastapi-0.108.0-py3-none-any.whl (92 kB)\n",
      "     ━━━━━━━━━━━━━━━━━━━━━━━━━━━━━━━━━━━━━━━━ 92.0/92.0 kB 19.4 MB/s eta 0:00:00\n",
      "Collecting fsspec<=2023.5.0\n",
      "  Downloading fsspec-2023.5.0-py3-none-any.whl (160 kB)\n",
      "     ━━━━━━━━━━━━━━━━━━━━━━━━━━━━━━━━━━━━━━ 160.1/160.1 kB 32.0 MB/s eta 0:00:00\n",
      "Collecting pyarrow\n",
      "  Downloading pyarrow-14.0.2-cp310-cp310-manylinux_2_28_x86_64.whl (38.0 MB)\n",
      "     ━━━━━━━━━━━━━━━━━━━━━━━━━━━━━━━━━━━━━━━━ 38.0/38.0 MB 45.6 MB/s eta 0:00:00\n",
      "Collecting pyOpenSSL>=23.3.0\n",
      "  Downloading pyOpenSSL-23.3.0-py3-none-any.whl (58 kB)\n",
      "     ━━━━━━━━━━━━━━━━━━━━━━━━━━━━━━━━━━━━━━━━ 58.8/58.8 kB 21.2 MB/s eta 0:00:00\n",
      "Requirement already satisfied: rich in ./.local/lib/python3.10/site-packages (from runhouse==0.0.14) (13.5.2)\n",
      "Collecting sentry-sdk\n",
      "  Downloading sentry_sdk-1.39.1-py2.py3-none-any.whl (254 kB)\n",
      "     ━━━━━━━━━━━━━━━━━━━━━━━━━━━━━━━━━━━━━━ 254.1/254.1 kB 57.1 MB/s eta 0:00:00\n",
      "Requirement already satisfied: skypilot==0.4.1 in ./.local/lib/python3.10/site-packages (from runhouse==0.0.14) (0.4.1)\n",
      "Collecting sshfs\n",
      "  Downloading sshfs-2023.10.0-py3-none-any.whl (15 kB)\n",
      "Collecting sshtunnel>=0.3.0\n",
      "  Downloading sshtunnel-0.4.0-py2.py3-none-any.whl (24 kB)\n",
      "Collecting typer\n",
      "  Downloading typer-0.9.0-py3-none-any.whl (45 kB)\n",
      "     ━━━━━━━━━━━━━━━━━━━━━━━━━━━━━━━━━━━━━━━━ 45.9/45.9 kB 16.0 MB/s eta 0:00:00\n",
      "Collecting uvicorn\n",
      "  Downloading uvicorn-0.25.0-py3-none-any.whl (60 kB)\n",
      "     ━━━━━━━━━━━━━━━━━━━━━━━━━━━━━━━━━━━━━━━━ 60.3/60.3 kB 22.8 MB/s eta 0:00:00\n",
      "Requirement already satisfied: wheel in /opt/conda/lib/python3.10/site-packages (from runhouse==0.0.14) (0.37.1)\n",
      "Requirement already satisfied: awscli>=1.27.10 in ./.local/lib/python3.10/site-packages (from skypilot==0.4.1->runhouse==0.0.14) (1.29.49)\n",
      "Requirement already satisfied: packaging in ./.local/lib/python3.10/site-packages (from skypilot==0.4.1->runhouse==0.0.14) (23.1)\n",
      "Requirement already satisfied: typing-extensions in ./.local/lib/python3.10/site-packages (from skypilot==0.4.1->runhouse==0.0.14) (4.7.1)\n",
      "Requirement already satisfied: pendulum in ./.local/lib/python3.10/site-packages (from skypilot==0.4.1->runhouse==0.0.14) (2.1.2)\n",
      "Requirement already satisfied: pyyaml!=5.4.*,>3.13 in ./.local/lib/python3.10/site-packages (from skypilot==0.4.1->runhouse==0.0.14) (6.0.1)\n",
      "Requirement already satisfied: tabulate in ./.local/lib/python3.10/site-packages (from skypilot==0.4.1->runhouse==0.0.14) (0.9.0)\n",
      "Requirement already satisfied: pulp in ./.local/lib/python3.10/site-packages (from skypilot==0.4.1->runhouse==0.0.14) (2.7.0)\n",
      "Requirement already satisfied: PrettyTable>=2.0.0 in ./.local/lib/python3.10/site-packages (from skypilot==0.4.1->runhouse==0.0.14) (3.9.0)\n",
      "Requirement already satisfied: colorama<0.4.5 in ./.local/lib/python3.10/site-packages (from skypilot==0.4.1->runhouse==0.0.14) (0.4.4)\n",
      "Requirement already satisfied: cachetools in ./.local/lib/python3.10/site-packages (from skypilot==0.4.1->runhouse==0.0.14) (5.3.1)\n",
      "Requirement already satisfied: botocore>=1.29.10 in ./.local/lib/python3.10/site-packages (from skypilot==0.4.1->runhouse==0.0.14) (1.31.49)\n",
      "Requirement already satisfied: pandas>=1.3.0 in ./.local/lib/python3.10/site-packages (from skypilot==0.4.1->runhouse==0.0.14) (2.1.0)\n",
      "Requirement already satisfied: click>=7.0 in ./.local/lib/python3.10/site-packages (from skypilot==0.4.1->runhouse==0.0.14) (8.1.7)\n",
      "Requirement already satisfied: jsonschema in ./.local/lib/python3.10/site-packages (from skypilot==0.4.1->runhouse==0.0.14) (4.19.0)\n",
      "Requirement already satisfied: urllib3<2 in /opt/conda/lib/python3.10/site-packages (from skypilot==0.4.1->runhouse==0.0.14) (1.26.13)\n",
      "Requirement already satisfied: psutil in ./.local/lib/python3.10/site-packages (from skypilot==0.4.1->runhouse==0.0.14) (5.9.5)\n",
      "Requirement already satisfied: cryptography in /opt/conda/lib/python3.10/site-packages (from skypilot==0.4.1->runhouse==0.0.14) (38.0.1)\n",
      "Requirement already satisfied: jinja2>=3.0 in ./.local/lib/python3.10/site-packages (from skypilot==0.4.1->runhouse==0.0.14) (3.1.2)\n",
      "Requirement already satisfied: requests in /opt/conda/lib/python3.10/site-packages (from skypilot==0.4.1->runhouse==0.0.14) (2.28.1)\n",
      "Requirement already satisfied: networkx in ./.local/lib/python3.10/site-packages (from skypilot==0.4.1->runhouse==0.0.14) (3.1)\n",
      "Requirement already satisfied: boto3>=1.26.1 in ./.local/lib/python3.10/site-packages (from skypilot==0.4.1->runhouse==0.0.14) (1.28.49)\n",
      "Requirement already satisfied: filelock>=3.6.0 in ./.local/lib/python3.10/site-packages (from skypilot==0.4.1->runhouse==0.0.14) (3.12.4)\n",
      "Collecting cryptography\n",
      "  Downloading cryptography-41.0.7-cp37-abi3-manylinux_2_28_x86_64.whl (4.4 MB)\n",
      "     ━━━━━━━━━━━━━━━━━━━━━━━━━━━━━━━━━━━━━━━━ 4.4/4.4 MB 129.8 MB/s eta 0:00:00\n",
      "Collecting paramiko>=2.7.2\n",
      "  Downloading paramiko-3.4.0-py3-none-any.whl (225 kB)\n",
      "     ━━━━━━━━━━━━━━━━━━━━━━━━━━━━━━━━━━━━━━ 225.9/225.9 kB 59.5 MB/s eta 0:00:00\n",
      "Requirement already satisfied: pydantic!=1.8,!=1.8.1,!=2.0.0,!=2.0.1,!=2.1.0,<3.0.0,>=1.7.4 in ./.local/lib/python3.10/site-packages (from fastapi->runhouse==0.0.14) (1.10.12)\n",
      "Collecting starlette<0.33.0,>=0.29.0\n",
      "  Downloading starlette-0.32.0.post1-py3-none-any.whl (70 kB)\n",
      "     ━━━━━━━━━━━━━━━━━━━━━━━━━━━━━━━━━━━━━━━━ 70.0/70.0 kB 23.3 MB/s eta 0:00:00\n",
      "Collecting typing-extensions\n",
      "  Downloading typing_extensions-4.9.0-py3-none-any.whl (32 kB)\n",
      "Requirement already satisfied: numpy>=1.16.6 in ./.local/lib/python3.10/site-packages (from pyarrow->runhouse==0.0.14) (1.25.2)\n",
      "Requirement already satisfied: pygments<3.0.0,>=2.13.0 in ./.local/lib/python3.10/site-packages (from rich->runhouse==0.0.14) (2.16.1)\n",
      "Requirement already satisfied: markdown-it-py>=2.2.0 in ./.local/lib/python3.10/site-packages (from rich->runhouse==0.0.14) (3.0.0)\n",
      "Requirement already satisfied: certifi in /opt/conda/lib/python3.10/site-packages (from sentry-sdk->runhouse==0.0.14) (2022.12.7)\n",
      "Collecting asyncssh<3,>=2.11.0\n",
      "  Downloading asyncssh-2.14.2-py3-none-any.whl (352 kB)\n",
      "     ━━━━━━━━━━━━━━━━━━━━━━━━━━━━━━━━━━━━━━ 352.5/352.5 kB 75.4 MB/s eta 0:00:00\n",
      "Collecting h11>=0.8\n",
      "  Downloading h11-0.14.0-py3-none-any.whl (58 kB)\n",
      "     ━━━━━━━━━━━━━━━━━━━━━━━━━━━━━━━━━━━━━━━━ 58.3/58.3 kB 21.1 MB/s eta 0:00:00\n",
      "Requirement already satisfied: docutils<0.17,>=0.10 in ./.local/lib/python3.10/site-packages (from awscli>=1.27.10->skypilot==0.4.1->runhouse==0.0.14) (0.16)\n",
      "Requirement already satisfied: s3transfer<0.7.0,>=0.6.0 in ./.local/lib/python3.10/site-packages (from awscli>=1.27.10->skypilot==0.4.1->runhouse==0.0.14) (0.6.2)\n",
      "Requirement already satisfied: rsa<4.8,>=3.1.2 in ./.local/lib/python3.10/site-packages (from awscli>=1.27.10->skypilot==0.4.1->runhouse==0.0.14) (4.7.2)\n",
      "Requirement already satisfied: python-dateutil<3.0.0,>=2.1 in ./.local/lib/python3.10/site-packages (from botocore>=1.29.10->skypilot==0.4.1->runhouse==0.0.14) (2.8.2)\n",
      "Requirement already satisfied: jmespath<2.0.0,>=0.7.1 in ./.local/lib/python3.10/site-packages (from botocore>=1.29.10->skypilot==0.4.1->runhouse==0.0.14) (1.0.1)\n",
      "Requirement already satisfied: cffi>=1.12 in /opt/conda/lib/python3.10/site-packages (from cryptography->skypilot==0.4.1->runhouse==0.0.14) (1.15.1)\n",
      "Requirement already satisfied: MarkupSafe>=2.0 in ./.local/lib/python3.10/site-packages (from jinja2>=3.0->skypilot==0.4.1->runhouse==0.0.14) (2.1.3)\n",
      "Requirement already satisfied: mdurl~=0.1 in ./.local/lib/python3.10/site-packages (from markdown-it-py>=2.2.0->rich->runhouse==0.0.14) (0.1.2)\n",
      "Requirement already satisfied: tzdata>=2022.1 in ./.local/lib/python3.10/site-packages (from pandas>=1.3.0->skypilot==0.4.1->runhouse==0.0.14) (2023.3)\n",
      "Requirement already satisfied: pytz>=2020.1 in ./.local/lib/python3.10/site-packages (from pandas>=1.3.0->skypilot==0.4.1->runhouse==0.0.14) (2023.3.post1)\n",
      "Collecting pynacl>=1.5\n",
      "  Downloading PyNaCl-1.5.0-cp36-abi3-manylinux_2_17_x86_64.manylinux2014_x86_64.manylinux_2_24_x86_64.whl (856 kB)\n",
      "     ━━━━━━━━━━━━━━━━━━━━━━━━━━━━━━━━━━━━━ 856.7/856.7 kB 107.2 MB/s eta 0:00:00\n",
      "Collecting bcrypt>=3.2\n",
      "  Downloading bcrypt-4.1.2-cp39-abi3-manylinux_2_28_x86_64.whl (698 kB)\n",
      "     ━━━━━━━━━━━━━━━━━━━━━━━━━━━━━━━━━━━━━━ 698.9/698.9 kB 92.1 MB/s eta 0:00:00\n",
      "Requirement already satisfied: wcwidth in ./.local/lib/python3.10/site-packages (from PrettyTable>=2.0.0->skypilot==0.4.1->runhouse==0.0.14) (0.2.6)\n",
      "Collecting anyio<5,>=3.4.0\n",
      "  Downloading anyio-4.2.0-py3-none-any.whl (85 kB)\n",
      "     ━━━━━━━━━━━━━━━━━━━━━━━━━━━━━━━━━━━━━━━━ 85.5/85.5 kB 30.9 MB/s eta 0:00:00\n",
      "Requirement already satisfied: referencing>=0.28.4 in ./.local/lib/python3.10/site-packages (from jsonschema->skypilot==0.4.1->runhouse==0.0.14) (0.30.2)\n",
      "Requirement already satisfied: attrs>=22.2.0 in ./.local/lib/python3.10/site-packages (from jsonschema->skypilot==0.4.1->runhouse==0.0.14) (23.1.0)\n",
      "Requirement already satisfied: jsonschema-specifications>=2023.03.6 in ./.local/lib/python3.10/site-packages (from jsonschema->skypilot==0.4.1->runhouse==0.0.14) (2023.7.1)\n",
      "Requirement already satisfied: rpds-py>=0.7.1 in ./.local/lib/python3.10/site-packages (from jsonschema->skypilot==0.4.1->runhouse==0.0.14) (0.10.3)\n",
      "Requirement already satisfied: pytzdata>=2020.1 in ./.local/lib/python3.10/site-packages (from pendulum->skypilot==0.4.1->runhouse==0.0.14) (2020.1)\n",
      "Requirement already satisfied: charset-normalizer<3,>=2 in /opt/conda/lib/python3.10/site-packages (from requests->skypilot==0.4.1->runhouse==0.0.14) (2.0.4)\n",
      "Requirement already satisfied: idna<4,>=2.5 in /opt/conda/lib/python3.10/site-packages (from requests->skypilot==0.4.1->runhouse==0.0.14) (3.4)\n",
      "Collecting exceptiongroup>=1.0.2\n",
      "  Downloading exceptiongroup-1.2.0-py3-none-any.whl (16 kB)\n",
      "Collecting sniffio>=1.1\n",
      "  Downloading sniffio-1.3.0-py3-none-any.whl (10 kB)\n",
      "Requirement already satisfied: pycparser in /opt/conda/lib/python3.10/site-packages (from cffi>=1.12->cryptography->skypilot==0.4.1->runhouse==0.0.14) (2.21)\n",
      "Requirement already satisfied: six>=1.5 in /opt/conda/lib/python3.10/site-packages (from python-dateutil<3.0.0,>=2.1->botocore>=1.29.10->skypilot==0.4.1->runhouse==0.0.14) (1.16.0)\n",
      "Requirement already satisfied: pyasn1>=0.1.3 in ./.local/lib/python3.10/site-packages (from rsa<4.8,>=3.1.2->awscli>=1.27.10->skypilot==0.4.1->runhouse==0.0.14) (0.5.0)\n",
      "Building wheels for collected packages: runhouse\n",
      "  Building wheel for runhouse (setup.py): started\n",
      "  Building wheel for runhouse (setup.py): finished with status 'done'\n",
      "  Created wheel for runhouse: filename=runhouse-0.0.14-py3-none-any.whl size=267211 sha256=2300d26cacf473c9a3c0f5e61f99756e9d56181f98df60ed02ccffd02984b5fe\n",
      "  Stored in directory: /tmp/pip-ephem-wheel-cache-wp9fa0m6/wheels/14/c0/a2/7d89dce63624f712fd3904874f3ed8ce2b4464ab218b7cb014\n",
      "Successfully built runhouse\n",
      "Installing collected packages: typing-extensions, sniffio, sentry-sdk, pyarrow, h11, fsspec, exceptiongroup, bcrypt, uvicorn, typer, pynacl, cryptography, anyio, starlette, pyOpenSSL, paramiko, asyncssh, sshtunnel, sshfs, fastapi, runhouse\n",
      "  Attempting uninstall: typing-extensions\n",
      "    Found existing installation: typing_extensions 4.7.1\n",
      "    Uninstalling typing_extensions-4.7.1:\n",
      "      Successfully uninstalled typing_extensions-4.7.1\n",
      "Successfully installed anyio-4.2.0 asyncssh-2.14.2 bcrypt-4.1.2 cryptography-41.0.7 exceptiongroup-1.2.0 fastapi-0.108.0 fsspec-2023.5.0 h11-0.14.0 paramiko-3.4.0 pyOpenSSL-23.3.0 pyarrow-14.0.2 pynacl-1.5.0 runhouse-0.0.14 sentry-sdk-1.39.1 sniffio-1.3.0 sshfs-2023.10.0 sshtunnel-0.4.0 starlette-0.32.0.post1 typer-0.9.0 typing-extensions-4.9.0 uvicorn-0.25.0\n"
     ]
    },
    {
     "name": "stderr",
     "output_type": "stream",
     "text": [
      "/Users/rohansreerama/anaconda3/envs/sky_test_03/lib/python3.10/site-packages/rich/live.py:231: UserWarning: install \"ipywidgets\" for Jupyter support\n",
      "  warnings.warn('install \"ipywidgets\" for Jupyter support')\n",
      "/Users/rohansreerama/anaconda3/envs/sky_test_03/lib/python3.10/site-packages/rich/live.py:231: UserWarning: install \"ipywidgets\" for Jupyter support\n",
      "  warnings.warn('install \"ipywidgets\" for Jupyter support')\n"
     ]
    },
    {
     "data": {
      "text/html": [
       "<pre style=\"white-space:pre;overflow-x:auto;line-height:normal;font-family:Menlo,'DejaVu Sans Mono',consolas,'Courier New',monospace\"></pre>\n"
      ],
      "text/plain": []
     },
     "metadata": {},
     "output_type": "display_data"
    },
    {
     "data": {
      "text/html": [
       "<pre style=\"white-space:pre;overflow-x:auto;line-height:normal;font-family:Menlo,'DejaVu Sans Mono',consolas,'Courier New',monospace\">\n",
       "</pre>\n"
      ],
      "text/plain": [
       "\n"
      ]
     },
     "metadata": {},
     "output_type": "display_data"
    },
    {
     "name": "stderr",
     "output_type": "stream",
     "text": [
      "INFO | 2024-01-04 11:09:47.265601 | Running command on cpu-cluster-eks-16: mkdir -p ~/.rh; touch ~/.rh/cluster_config.yaml; echo '{\"name\": \"~/cpu-cluster-eks-16\", \"resource_type\": \"cluster\", \"resource_subtype\": \"KubernetesCluster\", \"provenance\": null, \"ips\": [\"10.123.4.28\"], \"server_port\": 32300, \"server_connection_type\": \"ssh\", \"den_auth\": false, \"use_local_telemetry\": false, \"ssh_port\": 22, \"ssh_creds\": {\"ssh_user\": \"sky\", \"ssh_private_key\": \"~/.ssh/sky-key\", \"ssh_control_name\": \"cpu-cluster-eks-16-dc19\", \"ssh_proxy_command\": \"ssh -tt -i ~/.ssh/sky-key -o StrictHostKeyChecking=no -o UserKnownHostsFile=/dev/null -o IdentitiesOnly=yes -W %h:%p sky@127.0.0.1 -o ProxyCommand='/Users/rohansreerama/.sky/port-forward-proxy-cmd.sh' \", \"disable_control_master\": true}, \"instance_type\": \"1CPU--1GB\", \"num_instances\": null, \"provider\": \"kubernetes\", \"autostop_mins\": -1, \"open_ports\": null, \"use_spot\": false, \"image_id\": null, \"region\": null, \"namespace\": null, \"kube_config_path\": null, \"context\": null}' > ~/.rh/cluster_config.yaml\n",
      "INFO | 2024-01-04 11:09:47.266209 | Running command: ssh -T -i ~/.ssh/sky-key -o Port=22 -o StrictHostKeyChecking=no -o UserKnownHostsFile=/dev/null -o IdentitiesOnly=yes -o ExitOnForwardFailure=yes -o ServerAliveInterval=5 -o ServerAliveCountMax=3 -o ConnectTimeout=30s -o ForwardAgent=yes -o ProxyCommand='ssh -tt -i ~/.ssh/sky-key -o StrictHostKeyChecking=no -o UserKnownHostsFile=/dev/null -o IdentitiesOnly=yes -W %h:%p sky@127.0.0.1 -o ProxyCommand='\"'\"'/Users/rohansreerama/.sky/port-forward-proxy-cmd.sh'\"'\"' ' sky@10.123.4.28 'bash --login -c -i '\"'\"'true && source ~/.bashrc && export OMP_NUM_THREADS=1 PYTHONWARNINGS=ignore && (mkdir -p ~/.rh; touch ~/.rh/cluster_config.yaml; echo '\"'\"'\"'\"'\"'\"'\"'\"'{\"name\": \"~/cpu-cluster-eks-16\", \"resource_type\": \"cluster\", \"resource_subtype\": \"KubernetesCluster\", \"provenance\": null, \"ips\": [\"10.123.4.28\"], \"server_port\": 32300, \"server_connection_type\": \"ssh\", \"den_auth\": false, \"use_local_telemetry\": false, \"ssh_port\": 22, \"ssh_creds\": {\"ssh_user\": \"sky\", \"ssh_private_key\": \"~/.ssh/sky-key\", \"ssh_control_name\": \"cpu-cluster-eks-16-dc19\", \"ssh_proxy_command\": \"ssh -tt -i ~/.ssh/sky-key -o StrictHostKeyChecking=no -o UserKnownHostsFile=/dev/null -o IdentitiesOnly=yes -W %h:%p sky@127.0.0.1 -o ProxyCommand='\"'\"'\"'\"'\"'\"'\"'\"'/Users/rohansreerama/.sky/port-forward-proxy-cmd.sh'\"'\"'\"'\"'\"'\"'\"'\"' \", \"disable_control_master\": true}, \"instance_type\": \"1CPU--1GB\", \"num_instances\": null, \"provider\": \"kubernetes\", \"autostop_mins\": -1, \"open_ports\": null, \"use_spot\": false, \"image_id\": null, \"region\": null, \"namespace\": null, \"kube_config_path\": null, \"context\": null}'\"'\"'\"'\"'\"'\"'\"'\"' > ~/.rh/cluster_config.yaml)'\"'\"' 2>&1'\n",
      "/Users/rohansreerama/.sky/port-forward-proxy-cmd.sh: line 48: shuf: command not found\n",
      "usage: sleep seconds\n",
      "Warning: Permanently added '127.0.0.1' (ED25519) to the list of known hosts.\n",
      "Warning: Permanently added '10.123.4.28' (ED25519) to the list of known hosts.\n",
      "INFO | 2024-01-04 11:09:51.023926 | Running command on cpu-cluster-eks-16: runhouse restart --port 32300\n",
      "INFO | 2024-01-04 11:09:51.026281 | Running command: ssh -T -i ~/.ssh/sky-key -o Port=22 -o StrictHostKeyChecking=no -o UserKnownHostsFile=/dev/null -o IdentitiesOnly=yes -o ExitOnForwardFailure=yes -o ServerAliveInterval=5 -o ServerAliveCountMax=3 -o ConnectTimeout=30s -o ForwardAgent=yes -o ProxyCommand='ssh -tt -i ~/.ssh/sky-key -o StrictHostKeyChecking=no -o UserKnownHostsFile=/dev/null -o IdentitiesOnly=yes -W %h:%p sky@127.0.0.1 -o ProxyCommand='\"'\"'/Users/rohansreerama/.sky/port-forward-proxy-cmd.sh'\"'\"' ' sky@10.123.4.28 'bash --login -c -i '\"'\"'true && source ~/.bashrc && export OMP_NUM_THREADS=1 PYTHONWARNINGS=ignore && (runhouse restart --port 32300)'\"'\"' 2>&1'\n",
      "/Users/rohansreerama/.sky/port-forward-proxy-cmd.sh: line 48: shuf: command not found\n",
      "usage: sleep seconds\n",
      "Warning: Permanently added '127.0.0.1' (ED25519) to the list of known hosts.\n",
      "Warning: Permanently added '10.123.4.28' (ED25519) to the list of known hosts.\n"
     ]
    },
    {
     "name": "stdout",
     "output_type": "stream",
     "text": [
      "INFO | 2024-01-04 11:09:58.246402 | Using port: 32300.\n",
      "INFO | 2024-01-04 11:09:58.247236 | Starting API server using the following command: /opt/conda/bin/python3 -m runhouse.servers.http.http_server.\n",
      "Executing `pkill -f \"/opt/conda/bin/python3 -m \n",
      "runhouse.servers.http.http_server\"`\n",
      "Executing `pkill -f \".*ray.*6379.*\"`\n",
      "Executing `ray start --head --port 6379`\n",
      "2024-01-04 11:09:59,332\tINFO usage_lib.py:372 -- Usage stats collection is disabled.\n",
      "2024-01-04 11:09:59,333\tINFO scripts.py:710 -- \u001b[37mLocal node IP\u001b[39m: \u001b[1m10.123.4.28\u001b[22m\n",
      "2024-01-04 11:10:00,368\tERROR services.py:1266 -- Failed to bind to localhost:8265 because it's already occupied. You can use `ray start --dashboard-port ...` or `ray.init(dashboard_port=...)` to select a different port.\n",
      "2024-01-04 11:10:01,414\tSUCC scripts.py:747 -- \u001b[32m--------------------\u001b[39m\n",
      "2024-01-04 11:10:01,414\tSUCC scripts.py:748 -- \u001b[32mRay runtime started.\u001b[39m\n",
      "2024-01-04 11:10:01,414\tSUCC scripts.py:749 -- \u001b[32m--------------------\u001b[39m\n",
      "2024-01-04 11:10:01,414\tINFO scripts.py:751 -- \u001b[36mNext steps\u001b[39m\n",
      "2024-01-04 11:10:01,414\tINFO scripts.py:754 -- To add another node to this Ray cluster, run\n",
      "2024-01-04 11:10:01,415\tINFO scripts.py:757 -- \u001b[1m  ray start --address='10.123.4.28:6379'\u001b[22m\n",
      "2024-01-04 11:10:01,415\tINFO scripts.py:766 -- To connect to this Ray cluster:\n",
      "2024-01-04 11:10:01,415\tINFO scripts.py:768 -- \u001b[35mimport\u001b[39m\u001b[26m ray\n",
      "2024-01-04 11:10:01,415\tINFO scripts.py:769 -- ray\u001b[35m.\u001b[39m\u001b[26minit()\n",
      "2024-01-04 11:10:01,415\tINFO scripts.py:800 -- To terminate the Ray runtime, run\n",
      "2024-01-04 11:10:01,415\tINFO scripts.py:801 -- \u001b[1m  ray stop\u001b[22m\n",
      "2024-01-04 11:10:01,415\tINFO scripts.py:804 -- To view the status of the cluster, use\n",
      "2024-01-04 11:10:01,415\tINFO scripts.py:805 --   \u001b[1mray status\u001b[22m\u001b[26m\n",
      "Executing with nohup because screen is not available: `nohup \n",
      "/opt/conda/bin/python3 -m runhouse.servers.http.http_server >> \n",
      "/home/sky/.rh/server.log 2>&1 &`\n",
      "ERROR | 2024-01-04 11:10:02.708932 | Failed to collect cluster stats: cannot \n",
      "import name 'GcsClient' from 'ray._raylet' \n",
      "(/home/sky/.local/lib/python3.10/site-packages/ray/_raylet.so)\n",
      "INFO | 2024-01-04 11:10:02.968305 | Launching HTTP server on port: 32300.\n",
      "INFO | 2024-01-04 11:10:02.968482 | Launching Runhouse API server with \n",
      "den_auth=False and use_local_telemetry=False on host: 0.0.0.0 and port: 32300\n",
      "INFO:     Started server process [1412]\n",
      "INFO:     Waiting for application startup.\n",
      "INFO:     Application startup complete.\n",
      "INFO:     Uvicorn running on http://0.0.0.0:32300 (Press CTRL+C to quit)\n",
      "\n"
     ]
    },
    {
     "data": {
      "text/plain": [
       "<runhouse.resources.hardware.kubernetes_cluster.KubernetesCluster at 0x1264a1990>"
      ]
     },
     "execution_count": 3,
     "metadata": {},
     "output_type": "execute_result"
    }
   ],
   "source": [
    "cluster.up_if_not()"
   ]
  },
  {
   "cell_type": "code",
   "execution_count": 4,
   "metadata": {},
   "outputs": [],
   "source": [
    "def num_cpus():\n",
    "    import multiprocessing\n",
    "    return f\"Num cpus: {multiprocessing.cpu_count()}\""
   ]
  },
  {
   "cell_type": "code",
   "execution_count": 5,
   "metadata": {},
   "outputs": [
    {
     "name": "stderr",
     "output_type": "stream",
     "text": [
      "INFO | 2024-01-04 11:10:32.308586 | Writing out function to /Users/rohansreerama/Desktop/runhouse_cos_changes/runhouse/num_cpus_fn.py. Please make sure the function does not rely on any local variables, including imports (which should be moved inside the function body).\n",
      "/Users/rohansreerama/Desktop/runhouse_cos_changes/runhouse/runhouse/resources/function.py:99: UserWarning: ``reqs`` and ``setup_cmds`` arguments has been deprecated. Please use ``env`` instead.\n",
      "  warnings.warn(\n",
      "INFO | 2024-01-04 11:10:32.312111 | Setting up Function on cluster.\n",
      "INFO | 2024-01-04 11:10:32.312990 | Forwarding port 32300 to port 32300 on localhost.\n",
      "INFO | 2024-01-04 11:10:32.313448 | Running command: ssh -T -L 32300:localhost:32300 -i ~/.ssh/sky-key -o Port=22 -o StrictHostKeyChecking=no -o UserKnownHostsFile=/dev/null -o IdentitiesOnly=yes -o ExitOnForwardFailure=yes -o ServerAliveInterval=5 -o ServerAliveCountMax=3 -o ConnectTimeout=30s -o ForwardAgent=yes -o ProxyCommand='ssh -tt -i ~/.ssh/sky-key -o StrictHostKeyChecking=no -o UserKnownHostsFile=/dev/null -o IdentitiesOnly=yes -W %h:%p sky@127.0.0.1 -o ProxyCommand='\"'\"'/Users/rohansreerama/.sky/port-forward-proxy-cmd.sh'\"'\"' ' sky@10.123.4.28 tail\n",
      "/Users/rohansreerama/.sky/port-forward-proxy-cmd.sh: line 48: shuf: command not found\n",
      "usage: sleep seconds\n",
      "Warning: Permanently added '127.0.0.1' (ED25519) to the list of known hosts.\n",
      "Warning: Permanently added '10.123.4.28' (ED25519) to the list of known hosts.\n",
      "INFO | 2024-01-04 11:10:35.322297 | Connecting to server via SSH, port forwarding via port 32300.\n",
      "/Users/rohansreerama/anaconda3/envs/sky_test_03/lib/python3.10/site-packages/rich/live.py:231: UserWarning: install \"ipywidgets\" for Jupyter support\n",
      "  warnings.warn('install \"ipywidgets\" for Jupyter support')\n",
      "/Users/rohansreerama/anaconda3/envs/sky_test_03/lib/python3.10/site-packages/rich/live.py:231: UserWarning: install \"ipywidgets\" for Jupyter support\n",
      "  warnings.warn('install \"ipywidgets\" for Jupyter support')\n"
     ]
    },
    {
     "data": {
      "text/html": [
       "<pre style=\"white-space:pre;overflow-x:auto;line-height:normal;font-family:Menlo,'DejaVu Sans Mono',consolas,'Courier New',monospace\"></pre>\n"
      ],
      "text/plain": []
     },
     "metadata": {},
     "output_type": "display_data"
    },
    {
     "data": {
      "text/html": [
       "<pre style=\"white-space:pre;overflow-x:auto;line-height:normal;font-family:Menlo,'DejaVu Sans Mono',consolas,'Courier New',monospace\">\n",
       "</pre>\n"
      ],
      "text/plain": [
       "\n"
      ]
     },
     "metadata": {},
     "output_type": "display_data"
    },
    {
     "name": "stderr",
     "output_type": "stream",
     "text": [
      "INFO | 2024-01-04 11:10:40.373713 | Checking server cpu-cluster-eks-16\n",
      "INFO | 2024-01-04 11:10:40.560043 | Server cpu-cluster-eks-16 is up.\n",
      "INFO | 2024-01-04 11:10:40.561809 | Copying package from file:///Users/rohansreerama/Desktop/runhouse_cos_changes/runhouse to: cpu-cluster-eks-16\n",
      "INFO | 2024-01-04 11:10:40.562770 | Running command: ssh -T -i ~/.ssh/sky-key -o Port=22 -o StrictHostKeyChecking=no -o UserKnownHostsFile=/dev/null -o IdentitiesOnly=yes -o ExitOnForwardFailure=yes -o ServerAliveInterval=5 -o ServerAliveCountMax=3 -o ConnectTimeout=30s -o ForwardAgent=yes -o ProxyCommand='ssh -tt -i ~/.ssh/sky-key -o StrictHostKeyChecking=no -o UserKnownHostsFile=/dev/null -o IdentitiesOnly=yes -W %h:%p sky@127.0.0.1 -o ProxyCommand='\"'\"'/Users/rohansreerama/.sky/port-forward-proxy-cmd.sh'\"'\"' ' sky@10.123.4.28 'bash --login -c -i '\"'\"'true && source ~/.bashrc && export OMP_NUM_THREADS=1 PYTHONWARNINGS=ignore && (mkdir -p ~/runhouse/)'\"'\"' 2>&1'\n",
      "INFO | 2024-01-04 11:11:03.349898 | Calling base_env.install\n"
     ]
    },
    {
     "name": "stdout",
     "output_type": "stream",
     "text": [
      "base_env servlet: Calling method install on module base_env\n",
      "Installing package: Package: runhouse\n",
      "Installing Package: runhouse with method reqs.\n",
      "reqs path: runhouse/requirements.txt\n",
      "pip installing requirements from runhouse/requirements.txt with: -r runhouse/requirements.txt\n",
      "Running: /opt/conda/bin/python -m pip install -r runhouse/requirements.txt\n"
     ]
    },
    {
     "name": "stderr",
     "output_type": "stream",
     "text": [
      "INFO | 2024-01-04 11:11:06.406215 | Time to call base_env.install: 3.06 seconds\n",
      "INFO | 2024-01-04 11:11:06.644359 | Function setup complete.\n"
     ]
    }
   ],
   "source": [
    "num_cpus_cluster = rh.function(name=\"num_cpus_cluster\", fn=num_cpus).to(system=cluster, reqs=[\"./\"])"
   ]
  },
  {
   "cell_type": "code",
   "execution_count": 6,
   "metadata": {},
   "outputs": [
    {
     "name": "stderr",
     "output_type": "stream",
     "text": [
      "INFO | 2024-01-04 11:11:08.146004 | Calling num_cpus_cluster.call\n"
     ]
    },
    {
     "name": "stdout",
     "output_type": "stream",
     "text": [
      "base_env servlet: Calling method call on module num_cpus_cluster\n"
     ]
    },
    {
     "name": "stderr",
     "output_type": "stream",
     "text": [
      "INFO | 2024-01-04 11:11:08.490289 | Time to call num_cpus_cluster.call: 0.34 seconds\n"
     ]
    },
    {
     "data": {
      "text/plain": [
       "'Num cpus: 4'"
      ]
     },
     "execution_count": 6,
     "metadata": {},
     "output_type": "execute_result"
    }
   ],
   "source": [
    "num_cpus_cluster()"
   ]
  },
  {
   "cell_type": "code",
   "execution_count": 8,
   "metadata": {},
   "outputs": [
    {
     "data": {
      "text/html": [
       "<pre style=\"white-space:pre;overflow-x:auto;line-height:normal;font-family:Menlo,'DejaVu Sans Mono',consolas,'Courier New',monospace\">/Users/rohansreerama/anaconda3/envs/sky_test_03/lib/python3.10/site-packages/rich/live.py:231: UserWarning: install\n",
       "\"ipywidgets\" for Jupyter support\n",
       "  warnings.warn('install \"ipywidgets\" for Jupyter support')\n",
       "</pre>\n"
      ],
      "text/plain": [
       "/Users/rohansreerama/anaconda3/envs/sky_test_03/lib/python3.10/site-packages/rich/live.py:231: UserWarning: install\n",
       "\"ipywidgets\" for Jupyter support\n",
       "  warnings.warn('install \"ipywidgets\" for Jupyter support')\n"
      ]
     },
     "metadata": {},
     "output_type": "display_data"
    },
    {
     "name": "stderr",
     "output_type": "stream",
     "text": [
      "Connection to 10.123.4.37 closed by remote host.\n",
      "2024/01/04 01:10:15 socat[66643] E write(1, 0x15c00c000, 36): Broken pipe\n"
     ]
    },
    {
     "data": {
      "text/html": [
       "<pre style=\"white-space:pre;overflow-x:auto;line-height:normal;font-family:Menlo,'DejaVu Sans Mono',consolas,'Courier New',monospace\"></pre>\n"
      ],
      "text/plain": []
     },
     "metadata": {},
     "output_type": "display_data"
    }
   ],
   "source": [
    "cluster.teardown()"
   ]
  }
 ],
 "metadata": {
  "kernelspec": {
   "display_name": "rh_fin_1",
   "language": "python",
   "name": "python3"
  },
  "language_info": {
   "codemirror_mode": {
    "name": "ipython",
    "version": 3
   },
   "file_extension": ".py",
   "mimetype": "text/x-python",
   "name": "python",
   "nbconvert_exporter": "python",
   "pygments_lexer": "ipython3",
   "version": "3.10.8"
  },
  "orig_nbformat": 4
 },
 "nbformat": 4,
 "nbformat_minor": 2
}
