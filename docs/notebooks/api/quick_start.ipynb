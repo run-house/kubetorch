{
 "cells": [
  {
   "attachments": {},
   "cell_type": "markdown",
   "id": "8e09277a",
   "metadata": {},
   "source": [
    "# Getting Started"
   ]
  },
  {
   "attachments": {},
   "cell_type": "markdown",
   "id": "48525da3",
   "metadata": {},
   "source": [
    "Runhouse is a Python framework for composing and sharing production-quality backend apps and services ridiculously quickly and on your own infra.\n",
    "\n",
    "This getting started guide gives a quick walkthrough of Runhouse basics:\n",
    "\n",
    "* Create your own Runhouse resource abstractions for a cluster and function\n",
    "* Send local code to remote infra to be run instantly\n",
    "* Save/reload/share resources through Runhouse Den resource management\n",
    "\n",
    "Also, sneak peaks of more advanced Runhouse features and where to look to learn more about them."
   ]
  },
  {
   "attachments": {},
   "cell_type": "markdown",
   "id": "ae2b3486",
   "metadata": {},
   "source": [
    "## Installing Runhouse"
   ]
  },
  {
   "cell_type": "code",
   "execution_count": null,
   "id": "5e2ec851",
   "metadata": {},
   "outputs": [],
   "source": [
    "!pip install runhouse"
   ]
  },
  {
   "attachments": {},
   "cell_type": "markdown",
   "id": "cfb8f127-9e9c-4c1e-9539-5de9e8eacc1c",
   "metadata": {},
   "source": [
    "To use runhouse to interact with remote clusters, please instead run the following command. This additionally installs [SkyPilot](https://github.com/skypilot-org/skypilot), which is used for launching on-demand clusters and interacting with runhouse clusters."
   ]
  },
  {
   "cell_type": "code",
   "execution_count": null,
   "id": "905831ce-61de-417e-9c92-3f12235f4e8d",
   "metadata": {},
   "outputs": [],
   "source": [
    "!pip install runhouse[sky]"
   ]
  },
  {
   "attachments": {},
   "cell_type": "markdown",
   "id": "c94cf84f",
   "metadata": {},
   "source": [
    "## Runhouse Basics: Remote Cluster and Function"
   ]
  },
  {
   "attachments": {},
   "cell_type": "markdown",
   "id": "0cce1f23",
   "metadata": {},
   "source": [
    "Let's start by seeing how simple it is to send arbitrary code, in this case a function, and run it on your remote compute."
   ]
  },
  {
   "cell_type": "code",
   "execution_count": null,
   "id": "b3945f21",
   "metadata": {},
   "outputs": [],
   "source": [
    "import runhouse as rh"
   ]
  },
  {
   "cell_type": "code",
   "execution_count": null,
   "id": "5a7affa7",
   "metadata": {},
   "outputs": [],
   "source": [
    "def run_home(name: str):\n",
    "    return f\"Run home {name}!\""
   ]
  },
  {
   "attachments": {},
   "cell_type": "markdown",
   "id": "21171042",
   "metadata": {},
   "source": [
    "To run this function on remote compute:\n",
    "\n",
    "1. Construct a RH cluster, which wraps your remote compute\n",
    "2. Create a RH function for `run_home`, and send it to exist and run on the cluster\n",
    "3. Call the RH function as you would any other function. This function runs on your remote cluster and returns the results to local"
   ]
  },
  {
   "attachments": {},
   "cell_type": "markdown",
   "id": "c43e1844",
   "metadata": {},
   "source": [
    "### Runhouse Cluster"
   ]
  },
  {
   "attachments": {},
   "cell_type": "markdown",
   "id": "6c57ab33",
   "metadata": {},
   "source": [
    "Construct your Runhouse cluster by wrapping an existing cluster you have up. In Runhouse, a \"cluster\" is a unit of compute, somewhere you can send code, data, or requests to execute.\n",
    "\n",
    "More advanced cluster types like on-demand (automatically spun up/down for you with your cloud credentials) or Sagemaker clusters are also supported. These require some setup and are discussed in [Compute Tutorial](https://www.run.house/docs/tutorials/api/compute)."
   ]
  },
  {
   "cell_type": "code",
   "execution_count": null,
   "id": "e73dfc16",
   "metadata": {},
   "outputs": [],
   "source": [
    "cluster = rh.cluster(\n",
    "    name=\"rh-cluster\",\n",
    "    host=\"example-cluster\",  # hostname or ip address,\n",
    "    ssh_creds={\"ssh_user\": \"ubuntu\", \"ssh_private_key\": \"~/.ssh/sky-key\"}\n",
    ")"
   ]
  },
  {
   "attachments": {},
   "cell_type": "markdown",
   "id": "f96c7c8a",
   "metadata": {},
   "source": [
    "### Runhouse Function"
   ]
  },
  {
   "attachments": {},
   "cell_type": "markdown",
   "id": "5846e3de",
   "metadata": {},
   "source": [
    "For the function, simply wrap it in ``rh.function``, then send it to the cluster with ``.to``.\n",
    "\n",
    "Modules, or classes, are also supported. For finer control of where the function/module runs, you will also be able to specify the environment (a list of package requirements, a Conda env, or Runhouse env) where it runs. These are covered in more detail in the [Compute Tutorial](https://www.run.house/docs/tutorials/api/compute)."
   ]
  },
  {
   "cell_type": "code",
   "execution_count": null,
   "id": "4625cbb0",
   "metadata": {},
   "outputs": [
    {
     "name": "stderr",
     "output_type": "stream",
     "text": [
      "INFO | 2024-01-04 19:16:41.757114 | Writing out function to /Users/caroline/Documents/runhouse/runhouse/docs/notebooks/api/run_home_fn.py. Please make sure the function does not rely on any local variables, including imports (which should be moved inside the function body).\n",
      "INFO | 2024-01-04 19:16:41.760892 | Setting up Function on cluster.\n",
      "INFO | 2024-01-04 19:16:41.763236 | Copying package from file:///Users/caroline/Documents/runhouse/runhouse to: example-cluster\n",
      "INFO | 2024-01-04 19:16:41.764370 | Running command: ssh -T -i ~/.ssh/sky-key -o Port=22 -o StrictHostKeyChecking=no -o UserKnownHostsFile=/dev/null -o IdentitiesOnly=yes -o ExitOnForwardFailure=yes -o ServerAliveInterval=5 -o ServerAliveCountMax=3 -o ConnectTimeout=30s -o ForwardAgent=yes -o ControlMaster=auto -o ControlPath=/tmp/skypilot_ssh_caroline/41014bb4d3/%C -o ControlPersist=300s ubuntu@example-cluster 'bash --login -c -i '\"'\"'true && source ~/.bashrc && export OMP_NUM_THREADS=1 PYTHONWARNINGS=ignore && (mkdir -p ~/runhouse/)'\"'\"' 2>&1'\n",
      "INFO | 2024-01-04 19:16:42.395589 | Calling base_env.install\n"
     ]
    },
    {
     "name": "stdout",
     "output_type": "stream",
     "text": [
      "base_env servlet: Calling method install on module base_env\n",
      "Env already installed, skipping\n"
     ]
    },
    {
     "name": "stderr",
     "output_type": "stream",
     "text": [
      "INFO | 2024-01-04 19:16:42.822556 | Time to call base_env.install: 0.43 seconds\n",
      "INFO | 2024-01-04 19:16:43.044922 | Function setup complete.\n"
     ]
    }
   ],
   "source": [
    "remote_fn = rh.function(run_home).to(cluster)"
   ]
  },
  {
   "cell_type": "code",
   "execution_count": null,
   "id": "39fbc61c",
   "metadata": {},
   "outputs": [
    {
     "name": "stderr",
     "output_type": "stream",
     "text": [
      "INFO | 2024-01-04 19:16:46.179161 | Calling run_home.call\n"
     ]
    },
    {
     "name": "stdout",
     "output_type": "stream",
     "text": [
      "base_env servlet: Calling method call on module run_home\n"
     ]
    },
    {
     "name": "stderr",
     "output_type": "stream",
     "text": [
      "INFO | 2024-01-04 19:16:46.426212 | Time to call run_home.call: 0.25 seconds\n"
     ]
    },
    {
     "data": {
      "text/plain": [
       "'Run home Jack!'"
      ]
     },
     "metadata": {},
     "output_type": "display_data"
    }
   ],
   "source": [
    "remote_fn(\"Jack\")"
   ]
  },
  {
   "attachments": {},
   "cell_type": "markdown",
   "id": "ff52b833",
   "metadata": {},
   "source": [
    "### Extensions"
   ]
  },
  {
   "attachments": {},
   "cell_type": "markdown",
   "id": "bc80a4ba",
   "metadata": {},
   "source": [
    "That was just a very basic example of taking local code/data, converting it to a Runhouse object, sending it to remote compute, and running it there. Each of these Runhouse abstractions, like a cluster or a function, is referred to as a Resource.  Runhouse supports a whole lot of extra functionality on this front, including\n",
    "\n",
    "* Automated clusters: On-demand clusters (through SkyPilot), AWS Sagemaker clusters, and (soon) Kubernetes clusters\n",
    "* Env and package management: run functions/modules on dedicated envs on the cluster\n",
    "* Modules: setup and run Python classes in addition to functions\n",
    "* Additional function flexibility/features: remote or async functions, with logging, streaming, etc\n",
    "* Data resources: send folders, tables, blobs to remote clusters or file storage"
   ]
  },
  {
   "attachments": {},
   "cell_type": "markdown",
   "id": "4e3aaa68",
   "metadata": {},
   "source": [
    "## Runhouse Den: Saving, Reloading, and Sharing"
   ]
  },
  {
   "attachments": {},
   "cell_type": "markdown",
   "id": "7a123ad9",
   "metadata": {},
   "source": [
    "By creating a [Runhouse Den](https://www.run.house/dashboard) account and logging in, you can save down your resources (cluster, function/module, data, etc), reload them from anywhere, or even share with other users, like your teammates. Once loaded, these resources are ready to be used without additional setup required.\n",
    "\n",
    "Then, on the Web dashboard UI, access, visualize, and manage any of your resources, along with version history."
   ]
  },
  {
   "attachments": {},
   "cell_type": "markdown",
   "id": "9a70a8f5",
   "metadata": {},
   "source": [
    "### Login"
   ]
  },
  {
   "attachments": {},
   "cell_type": "markdown",
   "id": "c5ba4230",
   "metadata": {},
   "source": [
    "To login, simply call ``rh.login()`` in Python or ``runhouse login`` in CLI. As part of logging in, Runhouse also optionally offers secrets management, where it can automatically detect locally set up provider secrets, and gives you the option to upload them securely into your account. For more information on Secrets management, refer to the [Secrets Tutorial](https://www.run.house/docs/main/en/tutorials/api/secrets)."
   ]
  },
  {
   "cell_type": "code",
   "execution_count": null,
   "id": "b6d95a34",
   "metadata": {},
   "outputs": [],
   "source": [
    "rh.login()"
   ]
  },
  {
   "attachments": {},
   "cell_type": "markdown",
   "id": "1efd7538",
   "metadata": {},
   "source": [
    "### Saving and Reloading"
   ]
  },
  {
   "attachments": {},
   "cell_type": "markdown",
   "id": "24b8cf62",
   "metadata": {},
   "source": [
    "You can save the resources we created above with:"
   ]
  },
  {
   "cell_type": "code",
   "execution_count": null,
   "id": "0432087b",
   "metadata": {},
   "outputs": [
    {
     "data": {
      "text/plain": [
       "<runhouse.resources.functions.function.Function at 0x105bbdd60>"
      ]
     },
     "metadata": {},
     "output_type": "display_data"
    }
   ],
   "source": [
    "cluster.save()\n",
    "remote_fn.save()"
   ]
  },
  {
   "attachments": {},
   "cell_type": "markdown",
   "id": "bf5ea126",
   "metadata": {},
   "source": [
    "If you check on your [dashboard](https://www.run.house/dashboard), you'll see that the cluster \"rh-cluster\" and function \"run_home\" have been saved. Clicking into the resource will show you the resource metadata."
   ]
  },
  {
   "attachments": {},
   "cell_type": "markdown",
   "id": "956cddf5",
   "metadata": {},
   "source": [
    "Now, you can also jump to another environment (for example, your terminal if running this on a notebook), call `runhouse login`, and then run the function on the cluster with the following Python script:"
   ]
  },
  {
   "cell_type": "code",
   "execution_count": null,
   "id": "a637e2bf",
   "metadata": {},
   "outputs": [],
   "source": [
    "\"\"\"\n",
    "import runhouse as rh\n",
    "\n",
    "if __name__ == \"__main__\":\n",
    "    reloaded_fn = rh.function(name=\"run_home\")\n",
    "    print(reloaded_fn(\"Jane\"))\n",
    "\"\"\""
   ]
  },
  {
   "attachments": {},
   "cell_type": "markdown",
   "id": "0ebed023",
   "metadata": {},
   "source": [
    "### Sharing"
   ]
  },
  {
   "attachments": {},
   "cell_type": "markdown",
   "id": "2220a703",
   "metadata": {},
   "source": [
    "To share your resources with another user, such as a teammate, simply call the following:"
   ]
  },
  {
   "cell_type": "code",
   "execution_count": null,
   "id": "e7f82636",
   "metadata": {},
   "outputs": [],
   "source": [
    "remote_fn.share(\n",
    "    users=[\"teammate1@email.com\"],\n",
    "    access_level=\"write\",\n",
    ")"
   ]
  },
  {
   "attachments": {},
   "cell_type": "markdown",
   "id": "237fff79",
   "metadata": {},
   "source": [
    "## Conclusion"
   ]
  },
  {
   "attachments": {},
   "cell_type": "markdown",
   "id": "74b854d8",
   "metadata": {},
   "source": [
    "To recap, in this guide we covered:\n",
    "\n",
    "* Creating basic Runhouse resource types: cluster and function\n",
    "* Running a Runhouse function on remote compute\n",
    "* Saving, reloading, and sharing resources through Runhouse Den"
   ]
  },
  {
   "attachments": {},
   "cell_type": "markdown",
   "id": "15fb390c",
   "metadata": {},
   "source": [
    "### Dive Deeper\n",
    "\n",
    "This is just the start, and there's much more to Runhouse. To learn more, please take a look at these other tutorials, or at the [API documentation](https://www.run.house/docs/api/python) \n",
    "\n",
    "* Compute API Usage https://www.run.house/docs/tutorials/api/compute\n",
    "* Data API Usage https://www.run.house/docs/tutorials/api/data\n",
    "* Secrets Management https://www.run.house/docs/tutorials/api/secrets\n",
    "* Resource Management https://www.run.house/docs/tutorials/api/resources\n",
    "* Stable Diffusion Inference Example https://www.run.house/docs/tutorials/examples/inference"
   ]
  }
 ],
 "metadata": {
  "kernelspec": {
   "display_name": "Python 3 (ipykernel)",
   "language": "python",
   "name": "python3"
  },
  "language_info": {
   "codemirror_mode": {
    "name": "ipython",
    "version": 3
   },
   "file_extension": ".py",
   "mimetype": "text/x-python",
   "name": "python",
   "nbconvert_exporter": "python",
   "pygments_lexer": "ipython3",
   "version": "3.9.15"
  }
 },
 "nbformat": 4,
 "nbformat_minor": 5
}
