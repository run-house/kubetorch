{
 "cells": [
  {
   "cell_type": "markdown",
   "metadata": {
    "id": "iyyKTTzeC9nm"
   },
   "source": [
    "# Quick Start Guide\n",
    "\n",
    "This tutorials walks through Runhouse setup (installation, hardware setup, and optional login) and goes through an example that demonstrates how to user Runhouse to bridge the gap between local and remote compute, and create Resources that can be saved, reused, and shared."
   ]
  },
  {
   "cell_type": "markdown",
   "metadata": {
    "id": "UzGzHjaf9zDH"
   },
   "source": [
    "## Installation\n",
    "\n",
    "Runhouse can be installed with:\n"
   ]
  },
  {
   "cell_type": "code",
   "execution_count": null,
   "metadata": {
    "id": "hKsYq8Ir-sO5"
   },
   "outputs": [],
   "source": [
    "!pip install runhouse"
   ]
  },
  {
   "cell_type": "markdown",
   "metadata": {
    "id": "iNPLAUJF_ex_"
   },
   "source": [
    "If using Runhouse with a cloud provider, you can additionally install cloud packages (e.g. the right versions of tools like boto, gsutil, etc.):\n",
    "\n",
    "    $ pip install \"runhouse[aws]\"\n",
    "    $ pip install \"runhouse[gcp]\"\n",
    "    $ pip install \"runhouse[azure]\"\n",
    "    # Or\n",
    "    $ pip install \"runhouse[all]\""
   ]
  },
  {
   "cell_type": "markdown",
   "metadata": {
    "id": "k8craIdA_hDd"
   },
   "source": [
    "To import runhouse:"
   ]
  },
  {
   "cell_type": "code",
   "execution_count": null,
   "metadata": {
    "id": "tt0NkAE8_Ugv"
   },
   "outputs": [],
   "source": [
    "import runhouse as rh"
   ]
  },
  {
   "cell_type": "code",
   "execution_count": null,
   "metadata": {
    "id": "FwenuMX-BZdF"
   },
   "outputs": [],
   "source": [
    "# Optional: to sync over secrets from your Runhouse account\n",
    "# !runhouse login"
   ]
  },
  {
   "cell_type": "markdown",
   "metadata": {
    "id": "XD7qpxMT-gl0"
   },
   "source": [
    "## Cluster Setup\n",
    "\n",
    "Runhouse provides APIs and Secrets management to make it easy to interact with your clusters. This can be either an existing, on-prem cluster you have access to, or cloud instances that Runhouse spins up/down for you (through your own cloud account).\n",
    "\n",
    "**Note that Runhouse is NOT managed compute. Everything runs inside your own compute and storage, using your credentials.**"
   ]
  },
  {
   "cell_type": "markdown",
   "metadata": {
    "id": "_ZumVycXAqJ3"
   },
   "source": [
    "### Bring-Your-Own Cluster\n",
    "\n",
    "If you are using an existing, on-prem cluster, no additional setup is needed. Just have your cluster IP\n",
    "address and path to SSH credentials or password ready:"
   ]
  },
  {
   "cell_type": "code",
   "execution_count": null,
   "metadata": {
    "id": "xjL4CWZ0AxK6"
   },
   "outputs": [],
   "source": [
    "# using private key\n",
    "cluster = rh.cluster(\n",
    "              name=\"cpu-cluster\",\n",
    "              ips=['<ip of the cluster>'],\n",
    "              ssh_creds={'ssh_user': '<user>', 'ssh_private_key':'<path_to_key>'},\n",
    "          )\n",
    "\n",
    "# using password\n",
    "cluster = rh.cluster(\n",
    "              name=\"cpu-cluster\",\n",
    "              ips=['<ip of the cluster>'],\n",
    "              ssh_creds={'ssh_user': '<user>', 'password':'******'},\n",
    "          )"
   ]
  },
  {
   "cell_type": "markdown",
   "metadata": {
    "id": "eIw2O-TAAoc6"
   },
   "source": [
    "\n",
    "### On-Demand Cluster\n",
    "\n",
    "For on-demand clusters through cloud accounts (e.g. AWS, Azure, GCP, LambdaLabs), Runhouse uses [SkyPilot](https://github.com/skypilot-org/skypilot) for much of the heavy lifting\n",
    "with launching and terminating cloud instances.\n",
    "\n",
    "To set up your cloud credentials locally to be able to use on-demand cloud clusters, you can either:\n",
    "\n",
    "1. Use SkyPilot's CLI command `!sky check`, which provides instructions on logging in or setting up your local config file, depending on the provider (further SkyPilot instructions [here](https://skypilot.readthedocs.io/en/latest/getting-started/installation.html#cloud-account-setup))\n",
    "\n",
    "2. Use Runhouse's Secrets API to sync your secrets down into the appropriate local config."
   ]
  },
  {
   "cell_type": "code",
   "execution_count": null,
   "metadata": {
    "colab": {
     "base_uri": "https://localhost:8080/"
    },
    "id": "-BA_tBu_CvPO",
    "outputId": "1b5d88db-32d8-44e2-f5cf-258f2b4a3dcd"
   },
   "outputs": [
    {
     "name": "stdout",
     "output_type": "stream",
     "text": [
      "\u001b[33mSkyPilot collects usage data to improve its services. `setup` and `run` commands are not collected to ensure privacy.\n",
      "Usage logging can be disabled by setting the environment variable SKYPILOT_DISABLE_USAGE_COLLECTION=1.\u001b[0m\n",
      "Checking credentials to enable clouds for SkyPilot.\n",
      "  \u001b[32m\u001b[1mAWS: enabled\u001b[0m          \n",
      "  \u001b[31m\u001b[1mAzure: disabled\u001b[0m          \n",
      "    Reason: ~/.azure/msal_token_cache.json does not exist. Run the following commands:\n",
      "      $ az login\n",
      "      $ az account set -s <subscription_id>\n",
      "    For more info: https://docs.microsoft.com/en-us/cli/azure/get-started-with-azure-cli\n",
      "  \u001b[31m\u001b[1mGCP: disabled\u001b[0m          \n",
      "    Reason: GCP tools are not installed or credentials are not set. Run the following commands:\n",
      "      $ pip install google-api-python-client\n",
      "      $ conda install -c conda-forge google-cloud-sdk -y\n",
      "      $ gcloud init\n",
      "      $ gcloud auth application-default login\n",
      "    For more info: https://skypilot.readthedocs.io/en/latest/getting-started/installation.html\n",
      "  \u001b[31m\u001b[1mLambda: disabled\u001b[0m          \n",
      "    Reason: Failed to access Lambda Cloud with credentials. To configure credentials, go to:\n",
      "      https://cloud.lambdalabs.com/api-keys\n",
      "    to generate API key and add the line\n",
      "      api_key = [YOUR API KEY]\n",
      "    to ~/.lambda_cloud/lambda_keys\n",
      "\n",
      "SkyPilot will use only the enabled clouds to run tasks. To change this, configure cloud credentials, and run \u001b[1msky check\u001b[0m.\n",
      "\u001b[2mIf any problems remain, please file an issue at https://github.com/skypilot-org/skypilot/issues/new\u001b[0m\n",
      "\u001b[0m"
     ]
    }
   ],
   "source": [
    "# SkyPilot CLI\n",
    "!sky check"
   ]
  },
  {
   "cell_type": "code",
   "execution_count": null,
   "metadata": {
    "id": "lxgiMz9dbpbq"
   },
   "outputs": [],
   "source": [
    "# Runhouse Secrets\n",
    "# Lambda Labs:\n",
    "rh.provider_secret(\"lambda\", values={\"api_key\": \"*******\"}).write()\n",
    "\n",
    "# AWS:\n",
    "rh.provider_secret(\"aws\", values={\"access_key\": \"******\", \"secret_key\": \"*******\"}).write()\n",
    "\n",
    "# GCP:\n",
    "!gcloud init\n",
    "!gcloud auth application-default login\n",
    "!cp -r /content/.config/* ~/.config/gcloud\n",
    "\n",
    "# Azure\n",
    "!az login\n",
    "!az account set -s <subscription_id>"
   ]
  },
  {
   "cell_type": "markdown",
   "metadata": {
    "id": "ASNgbcnVbvTh"
   },
   "source": [
    "To check that the provider credentials are properly configured locally, run `sky check` to confirm that the cloud provider is enabled"
   ]
  },
  {
   "cell_type": "code",
   "execution_count": null,
   "metadata": {
    "id": "rYuCE8fhb3qp"
   },
   "outputs": [],
   "source": [
    "!sky check"
   ]
  },
  {
   "cell_type": "markdown",
   "metadata": {
    "id": "NtggegLyb56v"
   },
   "source": [
    "To create a cluster instance, use the `rh.cluster()` factory function for an existing cluster, or `rh.ondemand_cluster` for an on-demand cluster. We go more in depth about how to launch the cluster, and run a function on it later in this tutorial."
   ]
  },
  {
   "cell_type": "code",
   "execution_count": null,
   "metadata": {
    "id": "LB6bX8D6DO4b"
   },
   "outputs": [],
   "source": [
    "cluster = rh.ondemand_cluster(\n",
    "              name=\"cpu-cluster\",\n",
    "              instance_type=\"CPU:8\",\n",
    "              provider=\"cheapest\",      # options: \"AWS\", \"GCP\", \"Azure\", \"Lambda\", or \"cheapest\"\n",
    "          ).save()"
   ]
  },
  {
   "cell_type": "markdown",
   "metadata": {
    "id": "C5Gy4rOX-AJ7"
   },
   "source": [
    "\n",
    "## Secrets and Portability\n",
    "\n",
    "Using Runhouse with only the OSS Python package is perfectly fine, but you can unlock some unique portability features by creating an (always free) [account](https://www.run.house/account)\n",
    "and saving down your secrets and/or resource metadata there.\n",
    "\n",
    "Think of the OSS-package-only experience as\n",
    "akin to Microsoft Office, while creating an account will make your cloud resources sharable and\n",
    "accessible from anywhere like Google Docs.\n",
    "\n",
    "For instance, if you previously set up cloud provider credentials in order for launching on-demand clusters, simply call `runhouse login` or `rh.login()` and choose which of your secrets you want to sync into your Runhouse account. Then, from any other environment, you can download those secrets and use them immediately, without needing to set up your local credentials again. To delete any local credentials or remove secrets from Runhouse, you can call `runhouse logout` or `rh.logout()`.\n",
    "\n",
    "Some notes on security\n",
    "* Our API servers only ever store light metadata about your resources (e.g. folder name, cloud provider, storage bucket, path). All actual data and compute stays inside your own cloud account and never hits our servers.\n",
    "* Secrets are stored in [Hashicorp Vault](https://www.vaultproject.io/) (an industry standard for secrets management), never on our API servers, and our APIs simply call into Vault's APIs."
   ]
  },
  {
   "cell_type": "code",
   "execution_count": null,
   "metadata": {
    "id": "6veAJknpcYFt"
   },
   "outputs": [],
   "source": [
    "!runhouse login\n",
    "# or\n",
    "rh.login()"
   ]
  },
  {
   "cell_type": "markdown",
   "metadata": {
    "id": "T6jahmb2LK8t"
   },
   "source": [
    "## Getting Started Example\n",
    "\n",
    "In the following example, we demonstrate Runhouse's simple but powerful compute APIs to run locally defined functions on a remote cluster launched through Runhouse, bridging the gap between local and remote. Additionally, save, reuse, and share any of your Runhouse Resources.\n",
    "\n",
    "Please first make sure that you have successfully followed the Installation and Cluster Setup sections above prior to running this example."
   ]
  },
  {
   "cell_type": "code",
   "execution_count": 1,
   "metadata": {
    "id": "rBCZ3zs5M77k"
   },
   "outputs": [],
   "source": [
    "import runhouse as rh"
   ]
  },
  {
   "cell_type": "markdown",
   "metadata": {
    "id": "f8Upr8mTSaBr"
   },
   "source": [
    "### Running local functions on remote hardware\n",
    "\n",
    "First let's define a simple local function which returns the number of CPUs available.\n"
   ]
  },
  {
   "cell_type": "code",
   "execution_count": 4,
   "metadata": {
    "colab": {
     "base_uri": "https://localhost:8080/",
     "height": 35
    },
    "id": "kfjHzH0PM-4l",
    "outputId": "10e6f0ab-47a9-493e-8e2f-12e6e8360e01"
   },
   "outputs": [
    {
     "data": {
      "text/plain": [
       "'Num cpus: 10'"
      ]
     },
     "execution_count": 4,
     "metadata": {},
     "output_type": "execute_result"
    }
   ],
   "source": [
    "def num_cpus():\n",
    "    import multiprocessing\n",
    "    return f\"Num cpus: {multiprocessing.cpu_count()}\"\n",
    "\n",
    "num_cpus()"
   ]
  },
  {
   "cell_type": "markdown",
   "metadata": {
    "id": "OAUd9tTcND2O"
   },
   "source": [
    "Next, instantiate the cluster that we want to run this function on. This can be either an existing\n",
    "cluster where you pass in an IP address and SSH credentials, or a cluster associated with supported\n",
    "Cloud account (AWS, GCP, Azure, LambdaLabs), where it is automatically launched (and optionally\n",
    "terminated) for you."
   ]
  },
  {
   "cell_type": "code",
   "execution_count": 5,
   "metadata": {
    "colab": {
     "base_uri": "https://localhost:8080/"
    },
    "id": "0lhcrbu8NIeI",
    "outputId": "a146334f-0c44-4a63-d9d1-6beae4f5ebbe"
   },
   "outputs": [],
   "source": [
    "# Using an existing, bring-your-own cluster\n",
    "cluster = rh.cluster(\n",
    "              name=\"cpu-cluster\",\n",
    "              ips=['<ip of the cluster>'],\n",
    "              ssh_creds={'ssh_user': '<user>', 'ssh_private_key':'<path_to_key>'},\n",
    "          )\n",
    "\n",
    "# Using a Cloud provider\n",
    "cluster = rh.cluster(\n",
    "              name=\"cpu-cluster\",\n",
    "              instance_type=\"CPU:8\",\n",
    "              provider=\"cheapest\",      # options: \"AWS\", \"GCP\", \"Azure\", \"Lambda\", or \"cheapest\"\n",
    "          )"
   ]
  },
  {
   "cell_type": "markdown",
   "metadata": {
    "id": "3M2PjxEtOSnt"
   },
   "source": [
    "If using a cloud cluster, we can launch the cluster with `.up()` or `.up_if_not()`.\n",
    "\n",
    "Note that it may take a few minutes for the cluster to be launched through the Cloud provider and set up dependencies."
   ]
  },
  {
   "cell_type": "code",
   "execution_count": 6,
   "metadata": {
    "id": "xionbLnLOLqo"
   },
   "outputs": [
    {
     "data": {
      "application/vnd.jupyter.widget-view+json": {
       "model_id": "",
       "version_major": 2,
       "version_minor": 0
      },
      "text/plain": [
       "Output()"
      ]
     },
     "metadata": {},
     "output_type": "display_data"
    },
    {
     "data": {
      "text/html": [
       "<pre style=\"white-space:pre;overflow-x:auto;line-height:normal;font-family:Menlo,'DejaVu Sans Mono',consolas,'Courier New',monospace\"></pre>\n"
      ],
      "text/plain": []
     },
     "metadata": {},
     "output_type": "display_data"
    },
    {
     "data": {
      "text/html": [
       "<pre style=\"white-space:pre;overflow-x:auto;line-height:normal;font-family:Menlo,'DejaVu Sans Mono',consolas,'Courier New',monospace\">\n",
       "</pre>\n"
      ],
      "text/plain": [
       "\n"
      ]
     },
     "metadata": {},
     "output_type": "display_data"
    },
    {
     "data": {
      "text/plain": [
       "<runhouse.resources.hardware.on_demand_cluster.OnDemandCluster at 0x104b8f3a0>"
      ]
     },
     "execution_count": 6,
     "metadata": {},
     "output_type": "execute_result"
    }
   ],
   "source": [
    "cluster.up_if_not()"
   ]
  },
  {
   "cell_type": "markdown",
   "metadata": {
    "id": "ulnZR43KOnNP"
   },
   "source": [
    "Now that we have our function and remote cluster set up, we're ready to see how to run this function on our cluster!\n",
    "\n",
    "We wrap our local function in `rh.function`, and associate this new function with the cluster. Now, whenever we call this new function, just as we would call any other Python function, it runs on the cluster instead of local."
   ]
  },
  {
   "cell_type": "code",
   "execution_count": 7,
   "metadata": {
    "colab": {
     "base_uri": "https://localhost:8080/"
    },
    "id": "8iWpuuYmOutq",
    "outputId": "105e964c-a4fb-4a9d-9ca6-2cce4d914493"
   },
   "outputs": [
    {
     "name": "stderr",
     "output_type": "stream",
     "text": [
      "INFO | 2023-08-29 03:03:52.826786 | Writing out function function to /Users/caroline/Documents/runhouse/runhouse/docs/notebooks/basics/num_cpus_fn.py. Please make sure the function does not rely on any local variables, including imports (which should be moved inside the function body).\n",
      "/Users/caroline/Documents/runhouse/runhouse/runhouse/rns/function.py:106: UserWarning: ``reqs`` and ``setup_cmds`` arguments has been deprecated. Please use ``env`` instead.\n",
      "  warnings.warn(\n",
      "INFO | 2023-08-29 03:03:52.832445 | Setting up Function on cluster.\n",
      "INFO | 2023-08-29 03:03:53.271019 | Connected (version 2.0, client OpenSSH_8.2p1)\n",
      "INFO | 2023-08-29 03:03:53.546892 | Authentication (publickey) successful!\n",
      "INFO | 2023-08-29 03:03:53.557504 | Checking server cpu-cluster\n",
      "INFO | 2023-08-29 03:03:54.942843 | Server cpu-cluster is up.\n",
      "INFO | 2023-08-29 03:03:54.948097 | Copying package from file:///Users/caroline/Documents/runhouse/runhouse to: cpu-cluster\n",
      "INFO | 2023-08-29 03:03:56.480770 | Calling env_20230829_030349.install\n"
     ]
    },
    {
     "name": "stdout",
     "output_type": "stream",
     "text": [
      "base servlet: Calling method install on module env_20230829_030349\n",
      "Installing package: Package: runhouse\n",
      "Installing Package: runhouse with method reqs.\n",
      "reqs path: runhouse/requirements.txt\n",
      "pip installing requirements from runhouse/requirements.txt with: -r runhouse/requirements.txt\n",
      "Running: /opt/conda/bin/python3.10 -m pip install -r runhouse/requirements.txt\n"
     ]
    },
    {
     "name": "stderr",
     "output_type": "stream",
     "text": [
      "INFO | 2023-08-29 03:03:58.230209 | Time to call env_20230829_030349.install: 1.75 seconds\n",
      "INFO | 2023-08-29 03:03:58.462054 | Function setup complete.\n"
     ]
    }
   ],
   "source": [
    "num_cpus_cluster = rh.function(name=\"num_cpus_cluster\", fn=num_cpus).to(system=cluster, reqs=[\"./\"])"
   ]
  },
  {
   "cell_type": "code",
   "execution_count": 8,
   "metadata": {
    "colab": {
     "base_uri": "https://localhost:8080/",
     "height": 70
    },
    "id": "OcbrlOwwQ5Cu",
    "outputId": "22d84787-bbcf-4149-faba-35b2c45308cc"
   },
   "outputs": [
    {
     "name": "stderr",
     "output_type": "stream",
     "text": [
      "INFO | 2023-08-29 03:04:01.105011 | Calling num_cpus_cluster.call\n"
     ]
    },
    {
     "name": "stdout",
     "output_type": "stream",
     "text": [
      "base servlet: Calling method call on module num_cpus_cluster\n"
     ]
    },
    {
     "name": "stderr",
     "output_type": "stream",
     "text": [
      "INFO | 2023-08-29 03:04:01.384439 | Time to call num_cpus_cluster.call: 0.28 seconds\n"
     ]
    },
    {
     "data": {
      "text/plain": [
       "'Num cpus: 8'"
      ]
     },
     "execution_count": 8,
     "metadata": {},
     "output_type": "execute_result"
    }
   ],
   "source": [
    "num_cpus_cluster()"
   ]
  },
  {
   "cell_type": "markdown",
   "metadata": {
    "id": "SKn-56GFTX8g"
   },
   "source": [
    "### Saving, Reusing, and Sharing\n",
    "\n",
    "Runhouse supports saving down the metadata and configs for resources like clusters and functions, so that you can load them from a different environment, or share it with your collaborators."
   ]
  },
  {
   "cell_type": "code",
   "execution_count": 9,
   "metadata": {
    "colab": {
     "base_uri": "https://localhost:8080/"
    },
    "id": "lfiHzFBgURML",
    "outputId": "15c3e2bd-60c7-46c2-fe58-44dcd0486a4e"
   },
   "outputs": [
    {
     "data": {
      "text/plain": [
       "<runhouse.resources.function.Function at 0x104634ee0>"
      ]
     },
     "execution_count": 9,
     "metadata": {},
     "output_type": "execute_result"
    }
   ],
   "source": [
    "num_cpus_cluster.save()"
   ]
  },
  {
   "cell_type": "code",
   "execution_count": null,
   "metadata": {
    "id": "zJ1-MFVaVMpy"
   },
   "outputs": [],
   "source": [
    "num_cpus_cluster.share(\n",
    "    users=[\"<email_to_runhouse_account>\"],\n",
    "    access_type=\"write\",\n",
    ")"
   ]
  },
  {
   "cell_type": "markdown",
   "metadata": {
    "id": "8xeyvvCTUcyG"
   },
   "source": [
    "Now, you, or whoever you shared it with, can reload this function from anther dev environment (like a different Colab, local, or on a cluster), as long as you are logged in to your Runhouse account."
   ]
  },
  {
   "cell_type": "code",
   "execution_count": 10,
   "metadata": {
    "colab": {
     "base_uri": "https://localhost:8080/",
     "height": 194
    },
    "id": "XZwd0xnUUcXg",
    "outputId": "d97d8991-b614-48e8-93fd-0e61d9117837"
   },
   "outputs": [
    {
     "name": "stderr",
     "output_type": "stream",
     "text": [
      "INFO | 2023-08-29 03:04:24.820884 | Checking server cpu-cluster\n",
      "INFO | 2023-08-29 03:04:25.850301 | Server cpu-cluster is up.\n",
      "INFO | 2023-08-29 03:04:25.852478 | Calling num_cpus_cluster.call\n"
     ]
    },
    {
     "name": "stdout",
     "output_type": "stream",
     "text": [
      "base servlet: Calling method call on module num_cpus_cluster\n"
     ]
    },
    {
     "name": "stderr",
     "output_type": "stream",
     "text": [
      "INFO | 2023-08-29 03:04:26.127098 | Time to call num_cpus_cluster.call: 0.27 seconds\n"
     ]
    },
    {
     "data": {
      "text/plain": [
       "'Num cpus: 8'"
      ]
     },
     "execution_count": 10,
     "metadata": {},
     "output_type": "execute_result"
    }
   ],
   "source": [
    "reloaded_function = rh.function(name=\"num_cpus_cluster\")\n",
    "reloaded_function()"
   ]
  },
  {
   "cell_type": "markdown",
   "metadata": {
    "id": "09KgSHAYTFsg"
   },
   "source": [
    "### Terminate the Cluster\n",
    "\n",
    "To terminate the cluster, you can run:"
   ]
  },
  {
   "cell_type": "code",
   "execution_count": null,
   "metadata": {
    "colab": {
     "base_uri": "https://localhost:8080/",
     "height": 34
    },
    "id": "Ngau3JnqRz-b",
    "outputId": "2dba1b64-501b-46b9-9109-806b6e32dfcd"
   },
   "outputs": [
    {
     "data": {
      "text/html": [
       "<pre style=\"white-space:pre;overflow-x:auto;line-height:normal;font-family:Menlo,'DejaVu Sans Mono',consolas,'Courier New',monospace\"><span style=\"color: #008000; text-decoration-color: #008000\">⠇</span> <span style=\"color: #008080; text-decoration-color: #008080; font-weight: bold\">Terminating </span><span style=\"color: #008000; text-decoration-color: #008000; font-weight: bold\">cpu-cluster</span>\n",
       "</pre>\n"
      ],
      "text/plain": [
       "\u001b[32m⠇\u001b[0m \u001b[1;36mTerminating \u001b[0m\u001b[1;32mcpu-cluster\u001b[0m\n"
      ]
     },
     "metadata": {},
     "output_type": "display_data"
    },
    {
     "data": {
      "text/html": [
       "<pre style=\"white-space:pre;overflow-x:auto;line-height:normal;font-family:Menlo,'DejaVu Sans Mono',consolas,'Courier New',monospace\"></pre>\n"
      ],
      "text/plain": []
     },
     "metadata": {},
     "output_type": "display_data"
    }
   ],
   "source": [
    "cluster.teardown()"
   ]
  },
  {
   "cell_type": "markdown",
   "metadata": {
    "id": "200_ff12Vbda"
   },
   "source": [
    "### Summary\n",
    "\n",
    "In this tutorial, we demonstrated how to use runhouse to create references to remote clusters, run local functions on the cluster, and save/share and reuse functions with a Runhouse account.\n",
    "\n",
    "Runhouse also lets you:\n",
    "- Send and save data (folders, blobs, tables) between local, remote, and file storage\n",
    "- Send, save, and share dev environments\n",
    "- Reload and reuse saved resources (both compute and data) from different environments (with a Runhouse account)\n",
    "- ... and much more!"
   ]
  },
  {
   "cell_type": "code",
   "execution_count": null,
   "metadata": {
    "id": "0eLsvc6jF2SE"
   },
   "outputs": [],
   "source": []
  }
 ],
 "metadata": {
  "colab": {
   "provenance": []
  },
  "kernelspec": {
   "display_name": "Python 3 (ipykernel)",
   "language": "python",
   "name": "python3"
  },
  "language_info": {
   "codemirror_mode": {
    "name": "ipython",
    "version": 3
   },
   "file_extension": ".py",
   "mimetype": "text/x-python",
   "name": "python",
   "nbconvert_exporter": "python",
   "pygments_lexer": "ipython3",
   "version": "3.9.15"
  }
 },
 "nbformat": 4,
 "nbformat_minor": 4
}
