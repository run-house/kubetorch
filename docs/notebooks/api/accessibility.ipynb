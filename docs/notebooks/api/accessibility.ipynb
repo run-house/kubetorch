{
 "cells": [
  {
   "cell_type": "markdown",
   "id": "304a91e0-86b1-4498-ab75-1be1e59c7c3c",
   "metadata": {},
   "source": [
    "# Accessibility: Resource and Secrets Management\n",
    "\n",
    "Runhouse provides a suite of accessibility features that makes it easy to keep track of and access your data, code, or secrets from anywhere. The Runhouse RNS (resource naming system) keeps track of lightweight metadata for your Resources, making it possible to save, reload, and reuse them.\n",
    "\n",
    "Anyone can take advantage of these accessibility features locally, and by creating a (free) Runhouse account, you can further access your resources and secrets from any environment or device you log into.\n",
    "\n",
    "\n",
    "This tutorial covers the following topics:\n",
    "1. Secrets (Credentials) Management\n",
    "2. Configs\n",
    "3. Local RNS\n",
    "4. Runhouse RNS"
   ]
  },
  {
   "cell_type": "code",
   "execution_count": 3,
   "id": "6c0f2a1e-3b3e-4127-b1e0-8c47bb703e9d",
   "metadata": {},
   "outputs": [],
   "source": [
    "import runhouse as rh"
   ]
  },
  {
   "cell_type": "markdown",
   "id": "f2c8863b-5988-4795-8927-703f92a183a0",
   "metadata": {},
   "source": [
    "## Secrets Management\n",
    "\n",
    "The Secrets API provides a simple interface for storing and retrieving secrets to a allow a more seamless experience when accessing resources across environments. It provides a simple interface for storing and retrieving secrets from a variety of providers (e.g. AWS, Azure, GCP, Hugging Face, Github, etc.) as well as SSH Keys and custom secrets, and stores them in Hashicorp Vault (and never on Runhouse servers).\n",
    "\n",
    "The [API](https://www.run.house/docs/api/python/secrets) handles secrets interactions between\n",
    "\n",
    "* config files\n",
    "* environment variables\n",
    "* Python variables\n",
    "* Vault"
   ]
  },
  {
   "cell_type": "markdown",
   "id": "acc94dca-86ec-482f-8927-92870910d775",
   "metadata": {},
   "source": [
    "### Creating and Writing Secrets\n",
    "\n",
    "Secret resources can be constructed and saved. These resources can be custom secrets, specified either by a values dictionary or path, or can be one of the builtin provider secrets Runhouse supports out of the box."
   ]
  },
  {
   "cell_type": "markdown",
   "id": "52ed403d-1c30-42e3-9059-09095cd0abd4",
   "metadata": {},
   "source": [
    "To construct a builtin provider secret, use the ``rh.provider_secret`` factory function, passing in the provider string as the first argument. When this secret is saved down or used, Runhouse will extract the secret values from the expected default location (path or env vars) to be used.\n",
    "\n",
    "Here, we construct a default AWS provider secret. We locally have dummy variables stored in the default path ~/.aws/credentials, and we see that this is automatically set."
   ]
  },
  {
   "cell_type": "code",
   "execution_count": 8,
   "id": "5caaec5f-007e-4a00-880c-650ba4f828ce",
   "metadata": {},
   "outputs": [
    {
     "name": "stdout",
     "output_type": "stream",
     "text": [
      "[default]\n",
      "aws_access_key_id = ABCD_KEY\n",
      "aws_secret_access_key = 1234_KEY\n"
     ]
    }
   ],
   "source": [
    "!cat ~/.aws/credentials"
   ]
  },
  {
   "cell_type": "code",
   "execution_count": 7,
   "id": "76322130-394f-43f2-9284-67d78f349cb3",
   "metadata": {},
   "outputs": [
    {
     "name": "stdout",
     "output_type": "stream",
     "text": [
      "extracted path: ~/.aws/credentials\n",
      "extracted values: {'access_key': 'ABCD_KEY', 'secret_key': '1234_KEY'}\n"
     ]
    }
   ],
   "source": [
    "# default provider secret for AWS. Will pull in values from expected default configuration when used.\n",
    "aws_secret = rh.provider_secret(\"aws\")\n",
    "\n",
    "print(f\"extracted path: {aws_secret.path}\")\n",
    "print(f\"extracted values: {aws_secret.values}\")"
   ]
  },
  {
   "cell_type": "markdown",
   "id": "ab767d59-8dce-456f-a5bd-313af8c42cdb",
   "metadata": {},
   "source": [
    "You can also instantiate secrets by directly passing in their secret values (if itsn't locally set up yet), and optionally save it down locally."
   ]
  },
  {
   "cell_type": "code",
   "execution_count": 11,
   "id": "3509fa2a-622e-46ea-b8ea-d7a1d075ad75",
   "metadata": {},
   "outputs": [
    {
     "name": "stdout",
     "output_type": "stream",
     "text": [
      "values: {'api_key': 'lambda_key'}\n",
      "path: /Users/caroline/.lambda_cloud/lambda_keys\n"
     ]
    }
   ],
   "source": [
    "# provider secret constructed from values dictionary, for LambdaLabs. \n",
    "lambda_secret = rh.provider_secret(\"lambda\", values={\"api_key\": \"lambda_key\"})\n",
    "\n",
    "print(f\"values: {lambda_secret.values}\")\n",
    "\n",
    "lambda_secret = lambda_secret.write()\n",
    "print(f\"path: {lambda_secret.path}\")"
   ]
  },
  {
   "cell_type": "markdown",
   "id": "91192b82-dc11-4fb4-bc21-f00b53ffe2cb",
   "metadata": {},
   "source": [
    "Or, you can construct a secret with a non-default path, and Runhouse will extract out the values."
   ]
  },
  {
   "cell_type": "code",
   "execution_count": 12,
   "id": "bd60a546-7536-498e-8fda-398c95933e22",
   "metadata": {},
   "outputs": [
    {
     "name": "stdout",
     "output_type": "stream",
     "text": [
      "[default]\n",
      "aws_access_key_id = ABCD_KEY_CUSTOM\n",
      "aws_secret_access_key = 1234_KEY_CUSTOM\n"
     ]
    }
   ],
   "source": [
    "!cat ~/.aws/credentials_custom"
   ]
  },
  {
   "cell_type": "code",
   "execution_count": 13,
   "id": "a9162fd2-3c93-4037-ae4d-779bb68d5416",
   "metadata": {},
   "outputs": [
    {
     "name": "stdout",
     "output_type": "stream",
     "text": [
      "path: ~/.aws/credentials_custom\n",
      "values: {'access_key': 'ABCD_KEY_CUSTOM', 'secret_key': '1234_KEY_CUSTOM'}\n"
     ]
    }
   ],
   "source": [
    "aws_secret_custom = rh.provider_secret(\"aws\", path=\"~/.aws/credentials_custom\")\n",
    "\n",
    "print(f\"path: {aws_secret_custom.path}\")\n",
    "print(f\"values: {aws_secret_custom.values}\")"
   ]
  },
  {
   "cell_type": "markdown",
   "id": "b117c629-d273-4c3f-9c14-144c0451da0f",
   "metadata": {},
   "source": [
    "### Login and Saving Secrets"
   ]
  },
  {
   "cell_type": "markdown",
   "id": "2a7c5446-4e82-44a8-971e-32f6bf3fde04",
   "metadata": {},
   "source": [
    "If you have a runhouse account, which you can create [here](run.house/login) or by calling either the `runhouse login` CLI command or `rh.login()` Python command, you can sync secrets (to Vault) associated your account, and download existing secrets or upload new secrets from your environment.\n",
    "\n",
    "There are some useful functions for seeing what the builting providers are, what secrets you have configured locally, "
   ]
  },
  {
   "cell_type": "code",
   "execution_count": 18,
   "id": "aaa1b98e-148b-4f08-a74c-584c8864d23d",
   "metadata": {},
   "outputs": [
    {
     "data": {
      "text/plain": [
       "['aws', 'azure', 'gcp', 'github', 'huggingface', 'lambda', 'ssh', 'sky']"
      ]
     },
     "execution_count": 18,
     "metadata": {},
     "output_type": "execute_result"
    }
   ],
   "source": [
    "# show supported builtin providers\n",
    "rh.Secret.builtin_providers(as_str=True)"
   ]
  },
  {
   "cell_type": "code",
   "execution_count": 22,
   "id": "8906b7c7-fd8b-4468-92a9-5d8d9063fc1a",
   "metadata": {},
   "outputs": [
    {
     "data": {
      "text/plain": [
       "{'aws': <runhouse.resources.secrets.provider_secrets.aws_secret.AWSSecret at 0x154ee99a0>,\n",
       " 'gcp': <runhouse.resources.secrets.provider_secrets.gcp_secret.GCPSecret at 0x103da3af0>,\n",
       " 'github': <runhouse.resources.secrets.provider_secrets.github_secret.GitHubSecret at 0x103c871f0>,\n",
       " 'huggingface': <runhouse.resources.secrets.provider_secrets.huggingface_secret.HuggingFaceSecret at 0x103da3fd0>,\n",
       " 'lambda': <runhouse.resources.secrets.provider_secrets.lambda_secret.LambdaSecret at 0x103da3cd0>,\n",
       " 'ssh-sagemaker-ssh-gw': <runhouse.resources.secrets.provider_secrets.ssh_secret.SSHSecret at 0x154eae8b0>,\n",
       " 'ssh-id_rsa': <runhouse.resources.secrets.provider_secrets.ssh_secret.SSHSecret at 0x154eae790>,\n",
       " 'ssh-id_rsa_tmp': <runhouse.resources.secrets.provider_secrets.ssh_secret.SSHSecret at 0x154eae730>}"
      ]
     },
     "execution_count": 22,
     "metadata": {},
     "output_type": "execute_result"
    }
   ],
   "source": [
    "# list of my locally configured secrets\n",
    "locally_configued_secrets = rh.Secret.extract_provider_secrets()\n",
    "locally_configued_secrets"
   ]
  },
  {
   "cell_type": "code",
   "execution_count": 24,
   "id": "300c0de0-edb9-4d77-a7df-864d9bde5f2b",
   "metadata": {},
   "outputs": [
    {
     "data": {
      "text/plain": [
       "{'aws': <runhouse.resources.secrets.provider_secrets.aws_secret.AWSSecret at 0x154ee9eb0>,\n",
       " 'gcp': <runhouse.resources.secrets.provider_secrets.gcp_secret.GCPSecret at 0x154ee9790>,\n",
       " 'lambda': <runhouse.resources.secrets.provider_secrets.lambda_secret.LambdaSecret at 0x154ee9d30>,\n",
       " 'github': <runhouse.resources.secrets.provider_secrets.github_secret.GitHubSecret at 0x154ee9f10>,\n",
       " 'a': <runhouse.resources.secrets.secret.Secret at 0x154ee9e80>}"
      ]
     },
     "execution_count": 24,
     "metadata": {},
     "output_type": "execute_result"
    }
   ],
   "source": [
    "# if previously logged in and saved secrets to vault, can load down the secrets\n",
    "vault_secrets = rh.Secret.vault_secrets()\n",
    "vault_secrets"
   ]
  },
  {
   "cell_type": "markdown",
   "id": "1654066d-dbc6-451a-8325-c53663ba3044",
   "metadata": {},
   "source": [
    "To save a secret to Vault, simply call `.save()` on the resource. This will save both the values themselves, and relevant metadata such as the path where it is locally stored. \n",
    "\n",
    "You can manually construct and save a resource, or iterate through one of the lists above."
   ]
  },
  {
   "cell_type": "code",
   "execution_count": 23,
   "id": "0cbe2e0f-90e1-427f-a195-f4e049bdcadb",
   "metadata": {},
   "outputs": [
    {
     "name": "stderr",
     "output_type": "stream",
     "text": [
      "INFO | 2023-11-06 15:37:55.564620 | Saving config for aws to Vault\n",
      "INFO | 2023-11-06 15:37:56.901182 | Saving config for gcp to Vault\n"
     ]
    }
   ],
   "source": [
    "aws_secret_custom.save()\n",
    "locally_configued_secrets[\"gcp\"].save()"
   ]
  },
  {
   "cell_type": "markdown",
   "id": "75d2cbed-8241-480c-a459-963b90747fea",
   "metadata": {},
   "source": [
    "## Setting Config Options\n",
    "\n",
    "Runhouse stores user configs both locally in `~/.rh/config.yaml` and remotely in the Runhouse database, letting you preserve your same config across environments.\n",
    "\n",
    "Some configs to consider setting:\n",
    "* `rh.configs.set('use_spot', True)`: Whether to use spot instances, which are cheaper but can be reclaimed at any time. This is `False` by default, because you'll need to request spot quota from the cloud providers to use spot instances.\n",
    "\n",
    "* `rh.configs.set('default_autostop', 30)`: Default autostop time (or -1 for indefinitely) for the on-demand cluster, to dynamically stop the cluster after inactivity to save money. You can also call `cluster.keep_warm(autostop=60)` to control this for an existing cluster.\n",
    "\n",
    "* `rh.configs.set('default_provider', 'cheapest')`: Default cloud provider to use for your on-demand cluster, or `cheapest` selects the cheapest provider for the desired hardware."
   ]
  },
  {
   "cell_type": "markdown",
   "id": "5ba46822-c866-40b8-abda-61cf70269f0e",
   "metadata": {},
   "source": [
    "To save updated configs to Runhouse, to be accessed from elsewhere:"
   ]
  },
  {
   "cell_type": "code",
   "execution_count": null,
   "id": "3ba897df-6287-4c80-ab8e-8bf25b85c622",
   "metadata": {},
   "outputs": [],
   "source": [
    "rh.configs.upload_defaults()"
   ]
  },
  {
   "cell_type": "markdown",
   "id": "6fa152d6-0e75-492b-a295-6b1e4330e537",
   "metadata": {},
   "source": [
    "## Local RNS\n",
    "\n",
    "The Local RNS is a git-based approach that allows for local persistence and versioning, or sharing across OSS projects. It lets you publish the exact resource metadata in the same version tree as your code, and can be a highly visible way to publish distribute resources, such as cloud configurations and data artifacts, to OSS users."
   ]
  },
  {
   "cell_type": "markdown",
   "id": "22676292-59f5-4754-a16c-007995e79f35",
   "metadata": {},
   "source": [
    "Local Resources live in the current local folder; they are saved down into the `rh` folder of the current Git working directory.\n",
    "\n",
    "If you are not logged into a Runhouse account, calling `.save()` will save down resources locally by default. If you are logged into a Runhouse account however, Resources will be saved into Runhouse RNS by default, so if you would like to specify creating a local resource, you can do so by explicitly setting the resource name to begin with `~/` to signal that it lives in the current folder."
   ]
  },
  {
   "cell_type": "code",
   "execution_count": 3,
   "id": "142d69d7-55aa-4461-8416-c988dd85a07d",
   "metadata": {},
   "outputs": [
    {
     "name": "stdout",
     "output_type": "stream",
     "text": [
      "INFO | 2023-06-21 22:15:57,611 | Saving config for ~/aws_cluster to: /Users/caroline/Documents/runhouse/runhouse/rh/aws_cluster/config.json\n"
     ]
    },
    {
     "data": {
      "text/plain": [
       "<runhouse.resources.hardware.on_demand_cluster.OnDemandCluster at 0x1661c7040>"
      ]
     },
     "execution_count": 3,
     "metadata": {},
     "output_type": "execute_result"
    }
   ],
   "source": [
    "my_resource = rh.ondemand_cluster(name='~/aws_cluster', instance_type='V100:1', provider='aws')\n",
    "my_resource.save()"
   ]
  },
  {
   "cell_type": "code",
   "execution_count": 4,
   "id": "57d50eb2-1058-446e-8d13-888c0664c90f",
   "metadata": {},
   "outputs": [
    {
     "name": "stdout",
     "output_type": "stream",
     "text": [
      "{\n",
      "    \"name\": \"~/aws_cluster\",\n",
      "    \"resource_type\": \"cluster\",\n",
      "    \"resource_subtype\": \"OnDemandCluster\",\n",
      "    \"instance_type\": \"V100:1\",\n",
      "    \"num_instances\": null,\n",
      "    \"provider\": \"aws\",\n",
      "    \"autostop_mins\": 30,\n",
      "    \"use_spot\": false,\n",
      "    \"image_id\": null,\n",
      "    \"region\": null,\n",
      "    \"sky_state\": null\n",
      "}"
     ]
    }
   ],
   "source": [
    "!cat /Users/caroline/Documents/runhouse/runhouse/rh/aws_cluster/config.json"
   ]
  },
  {
   "cell_type": "markdown",
   "id": "297b7c9d-3c61-4ab0-91fe-e6c35dda6579",
   "metadata": {},
   "source": [
    "To load a resource, you can call `rh.load('resource_name')`, or use the resource factory method, passing in only the name."
   ]
  },
  {
   "cell_type": "code",
   "execution_count": 12,
   "id": "644c32fa-4c78-470d-810f-578f18cc08fc",
   "metadata": {},
   "outputs": [
    {
     "name": "stdout",
     "output_type": "stream",
     "text": [
      "INFO | 2023-06-21 22:20:03,710 | Loading config from local file /Users/caroline/Documents/runhouse/runhouse/rh/aws_cluster/config.json\n"
     ]
    },
    {
     "data": {
      "text/plain": [
       "<runhouse.resources.hardware.on_demand_cluster.OnDemandCluster at 0x1231023d0>"
      ]
     },
     "execution_count": 12,
     "metadata": {},
     "output_type": "execute_result"
    }
   ],
   "source": [
    "del my_resource\n",
    "\n",
    "rh.load(\"~/aws_cluster\")"
   ]
  },
  {
   "cell_type": "code",
   "execution_count": 14,
   "id": "5a2bd956-cdf3-4495-ad6f-ee108313bd14",
   "metadata": {},
   "outputs": [
    {
     "name": "stdout",
     "output_type": "stream",
     "text": [
      "INFO | 2023-06-21 22:20:20,156 | Loading config from local file /Users/caroline/Documents/runhouse/runhouse/rh/aws_cluster/config.json\n"
     ]
    },
    {
     "data": {
      "text/plain": [
       "<runhouse.resources.hardware.on_demand_cluster.OnDemandCluster at 0x12324b400>"
      ]
     },
     "execution_count": 14,
     "metadata": {},
     "output_type": "execute_result"
    }
   ],
   "source": [
    "rh.cluster(name=\"~/aws_cluster\")"
   ]
  },
  {
   "cell_type": "markdown",
   "id": "83c03ae1-cd8b-4f3b-ab57-bdd3304a87e3",
   "metadata": {},
   "source": [
    "## Runhouse RNS \n",
    "\n",
    "The Runhouse RNS is a key-value metadata store that allows resources to be shared across users or environments, and does not need to be backed by Git. It works anywhere with an internet connection and Python interpreter, making it more portable. The RNS is also backed by a management dashboard to view and manage all resources, including creation and update history.\n",
    "\n",
    "To use the Runhouse RNS, you will need a [Runhouse account](https://www.run.house/login)."
   ]
  },
  {
   "cell_type": "markdown",
   "id": "55836b2d-c553-4314-9b76-b43423fcd774",
   "metadata": {},
   "source": [
    "The following resource, whose name `my_blob` does not begin with `~/`, will be saved into the Runhouse RNS."
   ]
  },
  {
   "cell_type": "code",
   "execution_count": 32,
   "id": "e0a97933-77e1-44d3-8010-9b1c3f0c3eec",
   "metadata": {},
   "outputs": [
    {
     "name": "stdout",
     "output_type": "stream",
     "text": [
      "INFO | 2023-06-21 22:38:05,351 | Creating new s3 folder if it does not already exist in path: /runhouse-blob/d57201aa760b4893800c7e3782117b3b/carolineechen\n",
      "INFO | 2023-06-21 22:38:05,368 | Found credentials in shared credentials file: ~/.aws/credentials\n",
      "INFO | 2023-06-21 22:38:06,305 | Creating new s3 folder if it does not already exist in path: /runhouse-blob/d57201aa760b4893800c7e3782117b3b/carolineechen\n",
      "INFO | 2023-06-21 22:38:06,462 | Saving config to RNS: {'name': '/carolineechen/my_blob', 'resource_type': 'blob', 'resource_subtype': 'Blob', 'path': '/runhouse-blob/d57201aa760b4893800c7e3782117b3b/carolineechen/my_blob', 'system': 's3'}\n",
      "INFO | 2023-06-21 22:38:07,078 | Config updated in RNS for Runhouse URI <resource/carolineechen:my_blob>\n"
     ]
    },
    {
     "data": {
      "text/plain": [
       "<runhouse.resources.blob.Blob at 0x16703ee80>"
      ]
     },
     "execution_count": 32,
     "metadata": {},
     "output_type": "execute_result"
    }
   ],
   "source": [
    "import pickle\n",
    "data = pickle.dumps(list(range(10)))\n",
    "\n",
    "my_resource = rh.blob(data, name=\"my_blob\", system=\"s3\").write()  # write data to linked s3\n",
    "my_resource.save()"
   ]
  },
  {
   "cell_type": "markdown",
   "id": "f3977228-4d9e-458f-994e-6213ffd56424",
   "metadata": {},
   "source": [
    "This resource can then be reloaded and reused not only from local, but also from any other environment, cluster, or device that you're logged into!"
   ]
  },
  {
   "cell_type": "code",
   "execution_count": 33,
   "id": "c388249f-37c3-4ed5-8789-abf5fd0f0078",
   "metadata": {},
   "outputs": [
    {
     "name": "stdout",
     "output_type": "stream",
     "text": [
      "INFO | 2023-06-21 22:38:10,598 | Attempting to load config for /carolineechen/my_blob from RNS.\n",
      "INFO | 2023-06-21 22:38:10,936 | Creating new s3 folder if it does not already exist in path: /runhouse-blob/d57201aa760b4893800c7e3782117b3b/carolineechen\n",
      "INFO | 2023-06-21 22:38:10,970 | Found credentials in shared credentials file: ~/.aws/credentials\n"
     ]
    },
    {
     "data": {
      "text/plain": [
       "[0, 1, 2, 3, 4, 5, 6, 7, 8, 9]"
      ]
     },
     "execution_count": 33,
     "metadata": {},
     "output_type": "execute_result"
    }
   ],
   "source": [
    "del my_resource\n",
    "\n",
    "loaded = rh.load(\"my_blob\")\n",
    "pickle.loads(loaded.data)"
   ]
  },
  {
   "cell_type": "markdown",
   "id": "8a1ce83e-eb69-4c25-83c4-ad8802e2c530",
   "metadata": {},
   "source": [
    "The portability is extended to any teammates or person you want to share your resource with. Simply call `.share()` on the resource, and pass in the emails (must be associated with a Runhouse account) of the people to share it with. Further customize their resource access, and whether to notify them."
   ]
  },
  {
   "cell_type": "code",
   "execution_count": 34,
   "id": "123bd62e-3c3b-4054-9685-fc2a3bd427cc",
   "metadata": {},
   "outputs": [
    {
     "name": "stdout",
     "output_type": "stream",
     "text": [
      "INFO | 2023-06-21 22:38:14,252 | Attempting to load config for /carolineechen/my_blob from RNS.\n"
     ]
    },
    {
     "data": {
      "text/plain": [
       "({}, {'teammate1@email.com': 'write'})"
      ]
     },
     "execution_count": 34,
     "metadata": {},
     "output_type": "execute_result"
    }
   ],
   "source": [
    "loaded.share(\n",
    "    users=[\"teammate1@email.com\"],\n",
    "    access_type=\"write\",\n",
    ")"
   ]
  },
  {
   "cell_type": "code",
   "execution_count": null,
   "id": "efaf1ab0-7fe3-4681-86a8-13e671299d9b",
   "metadata": {},
   "outputs": [],
   "source": []
  }
 ],
 "metadata": {
  "kernelspec": {
   "display_name": "Python 3 (ipykernel)",
   "language": "python",
   "name": "python3"
  },
  "language_info": {
   "codemirror_mode": {
    "name": "ipython",
    "version": 3
   },
   "file_extension": ".py",
   "mimetype": "text/x-python",
   "name": "python",
   "nbconvert_exporter": "python",
   "pygments_lexer": "ipython3",
   "version": "3.9.15"
  }
 },
 "nbformat": 4,
 "nbformat_minor": 5
}
