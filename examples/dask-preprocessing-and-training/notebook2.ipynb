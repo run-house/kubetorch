{
 "cells": [
  {
   "cell_type": "code",
   "execution_count": 1,
   "metadata": {},
   "outputs": [
    {
     "name": "stdout",
     "output_type": "stream",
     "text": [
      "INFO | 2024-11-05 15:24:26 | runhouse.resources.hardware.cluster:1779 | Running command on py-3: echo \"hello\"\n"
     ]
    }
   ],
   "source": [
    "import runhouse as rh\n",
    "num_nodes = 3\n",
    "cluster_name = f\"py-{num_nodes}\"\n",
    "\n",
    "cluster = rh.cluster(\n",
    "    name=cluster_name,\n",
    "    instance_type=\"r5d.xlarge\",\n",
    "    num_instances=num_nodes,\n",
    "    provider=\"aws\",\n",
    ").up_if_not()"
   ]
  },
  {
   "cell_type": "code",
   "execution_count": 16,
   "metadata": {},
   "outputs": [
    {
     "name": "stdout",
     "output_type": "stream",
     "text": [
      "INFO | 2024-11-05 15:50:57 | runhouse.servers.http.http_client:439 | Calling my_trainer.return_model_details\n"
     ]
    },
    {
     "name": "stderr",
     "output_type": "stream",
     "text": [
      "INFO:httpx:HTTP Request: GET http://127.0.0.1:32303/logs/my_trainer_return_model_details@20241105@155057_437668/pickle \"HTTP/1.1 200 OK\"\n"
     ]
    },
    {
     "name": "stdout",
     "output_type": "stream",
     "text": [
      "INFO | 2024-11-05 15:50:57 | runhouse.servers.http.http_client:503 | Time to call my_trainer.return_model_details: 0.03 seconds\n",
      "{'features': ['passenger_count', 'trip_distance', 'fare_amount', 'day', 'month', 'dayofweek', 'hour'], 'mse': 9.158774313918537, 'mae': 1.869625634315271}\n"
     ]
    }
   ],
   "source": [
    "trainer = cluster.get(\"my_trainer\", remote = True, default = None)\n",
    "print(trainer.return_model_details())"
   ]
  },
  {
   "cell_type": "code",
   "execution_count": 51,
   "metadata": {},
   "outputs": [
    {
     "name": "stdout",
     "output_type": "stream",
     "text": [
      "INFO | 2024-11-05 16:05:05 | runhouse.servers.http.http_client:439 | Calling my_trainer.predict\n"
     ]
    },
    {
     "name": "stderr",
     "output_type": "stream",
     "text": [
      "INFO:httpx:HTTP Request: GET http://127.0.0.1:32303/logs/my_trainer_predict@20241105@160505_853137/pickle \"HTTP/1.1 200 OK\"\n"
     ]
    },
    {
     "ename": "ModuleNotFoundError",
     "evalue": "No module named 'numpy._core.numeric'",
     "output_type": "error",
     "traceback": [
      "\u001b[0;31m---------------------------------------------------------------------------\u001b[0m",
      "\u001b[0;31mModuleNotFoundError\u001b[0m                       Traceback (most recent call last)",
      "Cell \u001b[0;32mIn[51], line 6\u001b[0m\n\u001b[1;32m      3\u001b[0m input_data \u001b[38;5;241m=\u001b[39m [\u001b[38;5;241m3\u001b[39m, \u001b[38;5;241m5\u001b[39m, \u001b[38;5;241m110\u001b[39m, \u001b[38;5;241m5\u001b[39m, \u001b[38;5;241m11\u001b[39m, \u001b[38;5;241m3\u001b[39m, \u001b[38;5;241m6\u001b[39m]\n\u001b[1;32m      4\u001b[0m dask_array \u001b[38;5;241m=\u001b[39m da\u001b[38;5;241m.\u001b[39mfrom_array(np\u001b[38;5;241m.\u001b[39marray(input_data)\u001b[38;5;241m.\u001b[39mreshape(\u001b[38;5;241m1\u001b[39m, \u001b[38;5;241m-\u001b[39m\u001b[38;5;241m1\u001b[39m), chunks\u001b[38;5;241m=\u001b[39m(\u001b[38;5;241m1\u001b[39m, \u001b[38;5;241m7\u001b[39m))  \u001b[38;5;66;03m# 1 sample, 7 features\u001b[39;00m\n\u001b[0;32m----> 6\u001b[0m trainer\u001b[38;5;241m.\u001b[39mpredict(dask_array)\n",
      "File \u001b[0;32m~/runhouse/runhouse/resources/module.py:663\u001b[0m, in \u001b[0;36mModule.__getattribute__.<locals>.RemoteMethodWrapper.__call__\u001b[0;34m(self, *args, **kwargs)\u001b[0m\n\u001b[1;32m    651\u001b[0m     \u001b[38;5;28;01mreturn\u001b[39;00m client_call_wrapper(\n\u001b[1;32m    652\u001b[0m         client,\n\u001b[1;32m    653\u001b[0m         system,\n\u001b[0;32m   (...)\u001b[0m\n\u001b[1;32m    660\u001b[0m         data\u001b[38;5;241m=\u001b[39m{\u001b[38;5;124m\"\u001b[39m\u001b[38;5;124margs\u001b[39m\u001b[38;5;124m\"\u001b[39m: args, \u001b[38;5;124m\"\u001b[39m\u001b[38;5;124mkwargs\u001b[39m\u001b[38;5;124m\"\u001b[39m: kwargs},\n\u001b[1;32m    661\u001b[0m     )\n\u001b[1;32m    662\u001b[0m \u001b[38;5;28;01melse\u001b[39;00m:\n\u001b[0;32m--> 663\u001b[0m     \u001b[38;5;28;01mreturn\u001b[39;00m client_call_wrapper(\n\u001b[1;32m    664\u001b[0m         client,\n\u001b[1;32m    665\u001b[0m         system,\n\u001b[1;32m    666\u001b[0m         \u001b[38;5;124m\"\u001b[39m\u001b[38;5;124mcall\u001b[39m\u001b[38;5;124m\"\u001b[39m,\n\u001b[1;32m    667\u001b[0m         name,\n\u001b[1;32m    668\u001b[0m         item,\n\u001b[1;32m    669\u001b[0m         run_name\u001b[38;5;241m=\u001b[39mkwargs\u001b[38;5;241m.\u001b[39mpop(\u001b[38;5;124m\"\u001b[39m\u001b[38;5;124mrun_name\u001b[39m\u001b[38;5;124m\"\u001b[39m, \u001b[38;5;28;01mNone\u001b[39;00m),\n\u001b[1;32m    670\u001b[0m         stream_logs\u001b[38;5;241m=\u001b[39mkwargs\u001b[38;5;241m.\u001b[39mpop(\u001b[38;5;124m\"\u001b[39m\u001b[38;5;124mstream_logs\u001b[39m\u001b[38;5;124m\"\u001b[39m, \u001b[38;5;28;01mTrue\u001b[39;00m),\n\u001b[1;32m    671\u001b[0m         remote\u001b[38;5;241m=\u001b[39mkwargs\u001b[38;5;241m.\u001b[39mpop(\u001b[38;5;124m\"\u001b[39m\u001b[38;5;124mremote\u001b[39m\u001b[38;5;124m\"\u001b[39m, \u001b[38;5;28;01mFalse\u001b[39;00m),\n\u001b[1;32m    672\u001b[0m         data\u001b[38;5;241m=\u001b[39m{\u001b[38;5;124m\"\u001b[39m\u001b[38;5;124margs\u001b[39m\u001b[38;5;124m\"\u001b[39m: args, \u001b[38;5;124m\"\u001b[39m\u001b[38;5;124mkwargs\u001b[39m\u001b[38;5;124m\"\u001b[39m: kwargs},\n\u001b[1;32m    673\u001b[0m     )\n",
      "File \u001b[0;32m~/runhouse/runhouse/utils.py:462\u001b[0m, in \u001b[0;36mclient_call_wrapper\u001b[0;34m(client, system, client_method_name, *args, **kwargs)\u001b[0m\n\u001b[1;32m    459\u001b[0m \u001b[38;5;28;01mfrom\u001b[39;00m \u001b[38;5;21;01mrunhouse\u001b[39;00m\u001b[38;5;21;01m.\u001b[39;00m\u001b[38;5;21;01mresources\u001b[39;00m\u001b[38;5;21;01m.\u001b[39;00m\u001b[38;5;21;01mhardware\u001b[39;00m \u001b[38;5;28;01mimport\u001b[39;00m Cluster\n\u001b[1;32m    461\u001b[0m \u001b[38;5;28;01mif\u001b[39;00m system \u001b[38;5;129;01mand\u001b[39;00m \u001b[38;5;28misinstance\u001b[39m(system, Cluster) \u001b[38;5;129;01mand\u001b[39;00m \u001b[38;5;129;01mnot\u001b[39;00m system\u001b[38;5;241m.\u001b[39mon_this_cluster():\n\u001b[0;32m--> 462\u001b[0m     \u001b[38;5;28;01mreturn\u001b[39;00m system\u001b[38;5;241m.\u001b[39mcall_client_method(client_method_name, \u001b[38;5;241m*\u001b[39margs, \u001b[38;5;241m*\u001b[39m\u001b[38;5;241m*\u001b[39mkwargs)\n\u001b[1;32m    463\u001b[0m method \u001b[38;5;241m=\u001b[39m \u001b[38;5;28mgetattr\u001b[39m(client, client_method_name)\n\u001b[1;32m    464\u001b[0m \u001b[38;5;28;01mreturn\u001b[39;00m method(\u001b[38;5;241m*\u001b[39margs, \u001b[38;5;241m*\u001b[39m\u001b[38;5;241m*\u001b[39mkwargs)\n",
      "File \u001b[0;32m~/runhouse/runhouse/resources/hardware/cluster.py:943\u001b[0m, in \u001b[0;36mCluster.call_client_method\u001b[0;34m(self, client_method_name, *args, **kwargs)\u001b[0m\n\u001b[1;32m    941\u001b[0m     \u001b[38;5;28;01mreturn\u001b[39;00m method(\u001b[38;5;241m*\u001b[39margs, \u001b[38;5;241m*\u001b[39m\u001b[38;5;241m*\u001b[39mkwargs)\n\u001b[1;32m    942\u001b[0m \u001b[38;5;28;01mexcept\u001b[39;00m \u001b[38;5;167;01mException\u001b[39;00m \u001b[38;5;28;01mas\u001b[39;00m e:\n\u001b[0;32m--> 943\u001b[0m     \u001b[38;5;28;01mraise\u001b[39;00m e\n",
      "File \u001b[0;32m~/runhouse/runhouse/resources/hardware/cluster.py:933\u001b[0m, in \u001b[0;36mCluster.call_client_method\u001b[0;34m(self, client_method_name, *args, **kwargs)\u001b[0m\n\u001b[1;32m    931\u001b[0m method \u001b[38;5;241m=\u001b[39m \u001b[38;5;28mgetattr\u001b[39m(\u001b[38;5;28mself\u001b[39m\u001b[38;5;241m.\u001b[39mclient, client_method_name)\n\u001b[1;32m    932\u001b[0m \u001b[38;5;28;01mtry\u001b[39;00m:\n\u001b[0;32m--> 933\u001b[0m     \u001b[38;5;28;01mreturn\u001b[39;00m method(\u001b[38;5;241m*\u001b[39margs, \u001b[38;5;241m*\u001b[39m\u001b[38;5;241m*\u001b[39mkwargs)\n\u001b[1;32m    934\u001b[0m \u001b[38;5;28;01mexcept\u001b[39;00m (\u001b[38;5;167;01mConnectionError\u001b[39;00m, requests\u001b[38;5;241m.\u001b[39mexceptions\u001b[38;5;241m.\u001b[39mConnectionError):\n\u001b[1;32m    935\u001b[0m     \u001b[38;5;28;01mtry\u001b[39;00m:\n",
      "File \u001b[0;32m~/runhouse/runhouse/servers/http/http_client.py:401\u001b[0m, in \u001b[0;36mHTTPClient.call\u001b[0;34m(self, key, method_name, data, serialization, run_name, stream_logs, remote, save, headers)\u001b[0m\n\u001b[1;32m    388\u001b[0m \u001b[38;5;28;01mdef\u001b[39;00m \u001b[38;5;21mcall\u001b[39m(\n\u001b[1;32m    389\u001b[0m     \u001b[38;5;28mself\u001b[39m,\n\u001b[1;32m    390\u001b[0m     key: \u001b[38;5;28mstr\u001b[39m,\n\u001b[0;32m   (...)\u001b[0m\n\u001b[1;32m    398\u001b[0m     headers\u001b[38;5;241m=\u001b[39m\u001b[38;5;28;01mNone\u001b[39;00m,\n\u001b[1;32m    399\u001b[0m ):\n\u001b[1;32m    400\u001b[0m \u001b[38;5;250m    \u001b[39m\u001b[38;5;124;03m\"\"\"wrapper to temporarily support cluster's call signature\"\"\"\u001b[39;00m\n\u001b[0;32m--> 401\u001b[0m     \u001b[38;5;28;01mreturn\u001b[39;00m \u001b[38;5;28mself\u001b[39m\u001b[38;5;241m.\u001b[39mcall_module_method(\n\u001b[1;32m    402\u001b[0m         key,\n\u001b[1;32m    403\u001b[0m         method_name,\n\u001b[1;32m    404\u001b[0m         data\u001b[38;5;241m=\u001b[39mdata,\n\u001b[1;32m    405\u001b[0m         serialization\u001b[38;5;241m=\u001b[39mserialization,\n\u001b[1;32m    406\u001b[0m         run_name\u001b[38;5;241m=\u001b[39mrun_name,\n\u001b[1;32m    407\u001b[0m         stream_logs\u001b[38;5;241m=\u001b[39mstream_logs,\n\u001b[1;32m    408\u001b[0m         remote\u001b[38;5;241m=\u001b[39mremote,\n\u001b[1;32m    409\u001b[0m         save\u001b[38;5;241m=\u001b[39msave,\n\u001b[1;32m    410\u001b[0m         system\u001b[38;5;241m=\u001b[39m\u001b[38;5;28mself\u001b[39m\u001b[38;5;241m.\u001b[39msystem,\n\u001b[1;32m    411\u001b[0m         headers\u001b[38;5;241m=\u001b[39mheaders,\n\u001b[1;32m    412\u001b[0m     )\n",
      "File \u001b[0;32m~/runhouse/runhouse/servers/http/http_client.py:480\u001b[0m, in \u001b[0;36mHTTPClient.call_module_method\u001b[0;34m(self, key, method_name, data, serialization, run_name, stream_logs, remote, save, system, headers)\u001b[0m\n\u001b[1;32m    475\u001b[0m     \u001b[38;5;28;01mraise\u001b[39;00m \u001b[38;5;167;01mValueError\u001b[39;00m(\n\u001b[1;32m    476\u001b[0m         \u001b[38;5;124mf\u001b[39m\u001b[38;5;124m\"\u001b[39m\u001b[38;5;124mError calling \u001b[39m\u001b[38;5;132;01m{\u001b[39;00mmethod_name\u001b[38;5;132;01m}\u001b[39;00m\u001b[38;5;124m on server: \u001b[39m\u001b[38;5;132;01m{\u001b[39;00mresponse\u001b[38;5;241m.\u001b[39mcontent\u001b[38;5;241m.\u001b[39mdecode()\u001b[38;5;132;01m}\u001b[39;00m\u001b[38;5;124m\"\u001b[39m\n\u001b[1;32m    477\u001b[0m     )\n\u001b[1;32m    479\u001b[0m resp_json \u001b[38;5;241m=\u001b[39m response\u001b[38;5;241m.\u001b[39mjson()\n\u001b[0;32m--> 480\u001b[0m function_result \u001b[38;5;241m=\u001b[39m handle_response(\n\u001b[1;32m    481\u001b[0m     resp_json,\n\u001b[1;32m    482\u001b[0m     resp_json[\u001b[38;5;124m\"\u001b[39m\u001b[38;5;124moutput_type\u001b[39m\u001b[38;5;124m\"\u001b[39m],\n\u001b[1;32m    483\u001b[0m     error_str,\n\u001b[1;32m    484\u001b[0m     log_formatter\u001b[38;5;241m=\u001b[39m\u001b[38;5;28mself\u001b[39m\u001b[38;5;241m.\u001b[39mlog_formatter,\n\u001b[1;32m    485\u001b[0m )\n\u001b[1;32m    486\u001b[0m output_type \u001b[38;5;241m=\u001b[39m resp_json[\u001b[38;5;124m\"\u001b[39m\u001b[38;5;124moutput_type\u001b[39m\u001b[38;5;124m\"\u001b[39m]\n\u001b[1;32m    487\u001b[0m \u001b[38;5;28;01mif\u001b[39;00m stream_logs:\n",
      "File \u001b[0;32m~/runhouse/runhouse/servers/http/http_utils.py:291\u001b[0m, in \u001b[0;36mhandle_response\u001b[0;34m(response_data, output_type, err_str, log_formatter)\u001b[0m\n\u001b[1;32m    288\u001b[0m system_color, reset_color \u001b[38;5;241m=\u001b[39m log_formatter\u001b[38;5;241m.\u001b[39mformat(output_type)\n\u001b[1;32m    290\u001b[0m \u001b[38;5;28;01mif\u001b[39;00m output_type \u001b[38;5;241m==\u001b[39m OutputType\u001b[38;5;241m.\u001b[39mRESULT_SERIALIZED:\n\u001b[0;32m--> 291\u001b[0m     \u001b[38;5;28;01mreturn\u001b[39;00m deserialize_data(response_data[\u001b[38;5;124m\"\u001b[39m\u001b[38;5;124mdata\u001b[39m\u001b[38;5;124m\"\u001b[39m], response_data[\u001b[38;5;124m\"\u001b[39m\u001b[38;5;124mserialization\u001b[39m\u001b[38;5;124m\"\u001b[39m])\n\u001b[1;32m    292\u001b[0m \u001b[38;5;28;01melif\u001b[39;00m output_type \u001b[38;5;241m==\u001b[39m OutputType\u001b[38;5;241m.\u001b[39mCONFIG:\n\u001b[1;32m    293\u001b[0m     \u001b[38;5;66;03m# No need to unpickle since this was just sent as json\u001b[39;00m\n\u001b[1;32m    294\u001b[0m     \u001b[38;5;28;01mreturn\u001b[39;00m response_data[\u001b[38;5;124m\"\u001b[39m\u001b[38;5;124mdata\u001b[39m\u001b[38;5;124m\"\u001b[39m]\n",
      "File \u001b[0;32m~/runhouse/runhouse/servers/http/http_utils.py:170\u001b[0m, in \u001b[0;36mdeserialize_data\u001b[0;34m(data, serialization)\u001b[0m\n\u001b[1;32m    168\u001b[0m     \u001b[38;5;28;01mreturn\u001b[39;00m json\u001b[38;5;241m.\u001b[39mloads(data)\n\u001b[1;32m    169\u001b[0m \u001b[38;5;28;01melif\u001b[39;00m serialization \u001b[38;5;241m==\u001b[39m \u001b[38;5;124m\"\u001b[39m\u001b[38;5;124mpickle\u001b[39m\u001b[38;5;124m\"\u001b[39m:\n\u001b[0;32m--> 170\u001b[0m     \u001b[38;5;28;01mreturn\u001b[39;00m b64_unpickle(data)\n\u001b[1;32m    171\u001b[0m \u001b[38;5;28;01melif\u001b[39;00m serialization \u001b[38;5;129;01mis\u001b[39;00m \u001b[38;5;28;01mNone\u001b[39;00m \u001b[38;5;129;01mor\u001b[39;00m serialization \u001b[38;5;241m==\u001b[39m \u001b[38;5;124m\"\u001b[39m\u001b[38;5;124mnone\u001b[39m\u001b[38;5;124m\"\u001b[39m:\n\u001b[1;32m    172\u001b[0m     \u001b[38;5;28;01mreturn\u001b[39;00m data\n",
      "File \u001b[0;32m~/runhouse/runhouse/servers/http/http_utils.py:160\u001b[0m, in \u001b[0;36mb64_unpickle\u001b[0;34m(b64_pickled)\u001b[0m\n\u001b[1;32m    159\u001b[0m \u001b[38;5;28;01mdef\u001b[39;00m \u001b[38;5;21mb64_unpickle\u001b[39m(b64_pickled):\n\u001b[0;32m--> 160\u001b[0m     \u001b[38;5;28;01mreturn\u001b[39;00m pickle\u001b[38;5;241m.\u001b[39mloads(codecs\u001b[38;5;241m.\u001b[39mdecode(b64_pickled\u001b[38;5;241m.\u001b[39mencode(), \u001b[38;5;124m\"\u001b[39m\u001b[38;5;124mbase64\u001b[39m\u001b[38;5;124m\"\u001b[39m))\n",
      "\u001b[0;31mModuleNotFoundError\u001b[0m: No module named 'numpy._core.numeric'"
     ]
    }
   ],
   "source": [
    "import numpy as np \n",
    "import dask.array as da\n",
    "input_data = [3, 5, 110, 5, 11, 3, 6]\n",
    "#dask_array = da.from_array(np.array(input_data).reshape(1, -1), chunks=(1, 7))  # 1 sample, 7 features\n",
    "\n",
    "trainer.predict(dask_array)"
   ]
  },
  {
   "cell_type": "code",
   "execution_count": 50,
   "metadata": {},
   "outputs": [
    {
     "name": "stdout",
     "output_type": "stream",
     "text": [
      "Collecting numpy==1.24\n",
      "  Using cached numpy-1.24.0-cp311-cp311-macosx_11_0_arm64.whl.metadata (5.6 kB)\n",
      "Using cached numpy-1.24.0-cp311-cp311-macosx_11_0_arm64.whl (13.8 MB)\n",
      "Installing collected packages: numpy\n",
      "  Attempting uninstall: numpy\n",
      "    Found existing installation: numpy 2.1.3\n",
      "    Uninstalling numpy-2.1.3:\n",
      "      Successfully uninstalled numpy-2.1.3\n",
      "\u001b[31mERROR: pip's dependency resolver does not currently take into account all the packages that are installed. This behaviour is the source of the following dependency conflicts.\n",
      "datasets 2.20.0 requires fsspec[http]<=2024.5.0,>=2023.1.0, but you have fsspec 2024.10.0 which is incompatible.\u001b[0m\u001b[31m\n",
      "\u001b[0mSuccessfully installed numpy-1.24.0\n"
     ]
    }
   ],
   "source": [
    "!pip install -U numpy==1.24"
   ]
  },
  {
   "cell_type": "code",
   "execution_count": null,
   "metadata": {},
   "outputs": [],
   "source": []
  }
 ],
 "metadata": {
  "kernelspec": {
   "display_name": "tempenv",
   "language": "python",
   "name": "python3"
  },
  "language_info": {
   "codemirror_mode": {
    "name": "ipython",
    "version": 3
   },
   "file_extension": ".py",
   "mimetype": "text/x-python",
   "name": "python",
   "nbconvert_exporter": "python",
   "pygments_lexer": "ipython3",
   "version": "3.11.8"
  }
 },
 "nbformat": 4,
 "nbformat_minor": 2
}
