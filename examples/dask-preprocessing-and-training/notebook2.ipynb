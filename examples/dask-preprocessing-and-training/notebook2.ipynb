{
 "cells": [
  {
   "cell_type": "code",
   "execution_count": null,
   "metadata": {},
   "outputs": [],
   "source": [
    "import runhouse as rh\n",
    "num_nodes = 3\n",
    "cluster_name = f\"py-{num_nodes}\"\n",
    "\n",
    "cluster = rh.cluster(\n",
    "    name=cluster_name,\n",
    "    instance_type=\"r5d.xlarge\",\n",
    "    num_instances=num_nodes,\n",
    "    provider=\"aws\",\n",
    ").up_if_not()"
   ]
  },
  {
   "cell_type": "code",
   "execution_count": null,
   "metadata": {},
   "outputs": [],
   "source": [
    "trainer = cluster.get(\"trainer\", remote = True, default = None)\n",
    "trainer.predict([3, 5, 110])"
   ]
  }
 ],
 "metadata": {
  "language_info": {
   "name": "python"
  }
 },
 "nbformat": 4,
 "nbformat_minor": 2
}
