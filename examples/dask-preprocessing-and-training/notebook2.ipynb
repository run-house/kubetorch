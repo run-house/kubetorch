{
 "cells": [
  {
   "cell_type": "code",
   "execution_count": 1,
   "metadata": {},
   "outputs": [
    {
     "data": {
      "application/vnd.jupyter.widget-view+json": {
       "model_id": "c9cb29d8502945b3a31a67706482351c",
       "version_major": 2,
       "version_minor": 0
      },
      "text/plain": [
       "Output()"
      ]
     },
     "metadata": {},
     "output_type": "display_data"
    },
    {
     "data": {
      "text/html": [
       "<pre style=\"white-space:pre;overflow-x:auto;line-height:normal;font-family:Menlo,'DejaVu Sans Mono',consolas,'Courier New',monospace\"></pre>\n"
      ],
      "text/plain": []
     },
     "metadata": {},
     "output_type": "display_data"
    },
    {
     "name": "stdout",
     "output_type": "stream",
     "text": [
      "INFO | 2024-11-06 22:54:21 | runhouse.resources.hardware.cluster:1745 | Running command on py-3: echo \"hello\"\n"
     ]
    }
   ],
   "source": [
    "import runhouse as rh\n",
    "num_nodes = 3\n",
    "cluster_name = f\"py-{num_nodes}\"\n",
    "\n",
    "cluster = rh.cluster(\n",
    "    name=cluster_name,\n",
    "    instance_type=\"r5d.xlarge\",\n",
    "    num_instances=num_nodes,\n",
    "    provider=\"aws\",\n",
    ").up_if_not()"
   ]
  },
  {
   "cell_type": "code",
   "execution_count": 2,
   "metadata": {},
   "outputs": [
    {
     "name": "stdout",
     "output_type": "stream",
     "text": [
      "INFO | 2024-11-06 22:54:24 | runhouse.resources.hardware.ssh_tunnel:250 | Port 32300 is already in use. Trying next port.\n",
      "INFO | 2024-11-06 22:54:24 | runhouse.resources.hardware.ssh_tunnel:250 | Port 32301 is already in use. Trying next port.\n",
      "INFO | 2024-11-06 22:54:24 | runhouse.resources.hardware.ssh_tunnel:250 | Port 32302 is already in use. Trying next port.\n",
      "INFO | 2024-11-06 22:54:24 | runhouse.resources.hardware.ssh_tunnel:250 | Port 32303 is already in use. Trying next port.\n",
      "INFO | 2024-11-06 22:54:24 | runhouse.resources.hardware.ssh_tunnel:250 | Port 32304 is already in use. Trying next port.\n",
      "INFO | 2024-11-06 22:54:24 | runhouse.resources.hardware.ssh_tunnel:91 | Running forwarding command: ssh -T -L 32305:localhost:32300 -i ~/.ssh/sky-key -o Port=22 -o StrictHostKeyChecking=no -o UserKnownHostsFile=/dev/null -o LogLevel=ERROR -o IdentitiesOnly=yes -o ExitOnForwardFailure=yes -o ServerAliveInterval=5 -o ServerAliveCountMax=3 -o ConnectTimeout=30s -o ForwardAgent=yes -o ControlMaster=auto -o ControlPath=/tmp/skypilot_ssh_6ba66db0/f516e5f64e/%C -o ControlPersist=300s ubuntu@18.212.165.2\n",
      "INFO | 2024-11-06 22:54:25 | runhouse.servers.http.http_client:439 | Calling my_trainer.return_model_details\n"
     ]
    },
    {
     "name": "stderr",
     "output_type": "stream",
     "text": [
      "INFO:httpx:HTTP Request: GET http://127.0.0.1:32305/logs/my_trainer_return_model_details@20241106@225425_099342/pickle \"HTTP/1.1 200 OK\"\n"
     ]
    },
    {
     "name": "stdout",
     "output_type": "stream",
     "text": [
      "INFO | 2024-11-06 22:54:25 | runhouse.servers.http.http_client:503 | Time to call my_trainer.return_model_details: 0.04 seconds\n",
      "{'features': ['passenger_count', 'trip_distance', 'fare_amount', 'day', 'month', 'dayofweek', 'hour'], 'mse': np.float64(9.26837997237001), 'mae': np.float64(1.8701559788491435)}\n"
     ]
    }
   ],
   "source": [
    "trainer = cluster.get(\"my_trainer\", remote = True, default = None)\n",
    "print(trainer.return_model_details())"
   ]
  },
  {
   "cell_type": "code",
   "execution_count": 3,
   "metadata": {},
   "outputs": [
    {
     "name": "stdout",
     "output_type": "stream",
     "text": [
      "INFO | 2024-11-06 22:54:27 | runhouse.servers.http.http_client:439 | Calling my_trainer.predict\n"
     ]
    },
    {
     "name": "stderr",
     "output_type": "stream",
     "text": [
      "INFO:httpx:HTTP Request: GET http://127.0.0.1:32305/logs/my_trainer_predict@20241106@225427_726664/pickle \"HTTP/1.1 200 OK\"\n"
     ]
    },
    {
     "name": "stdout",
     "output_type": "stream",
     "text": [
      "----\n",
      "\u001b[36mpy-3\u001b[0m\n",
      "----\n",
      "\u001b[36mdask.array<_predict_part, shape=(1,), dtype=float32, chunksize=(1,), chunktype=numpy.ndarray>\n",
      "\u001b[0m\u001b[36m[12.26506451]\n",
      "\u001b[0mINFO | 2024-11-06 22:54:28 | runhouse.servers.http.http_client:503 | Time to call my_trainer.predict: 0.54 seconds\n"
     ]
    },
    {
     "data": {
      "text/plain": [
       "12.265064505705457"
      ]
     },
     "execution_count": 3,
     "metadata": {},
     "output_type": "execute_result"
    }
   ],
   "source": [
    "import numpy as np \n",
    "import dask.array as da\n",
    "input_data = [3, 5, 110, 5, 11, 3, 6]\n",
    "#dask_array = da.from_array(np.array(input_data).reshape(1, -1), chunks=(1, 7))  # 1 sample, 7 features\n",
    "\n",
    "trainer.predict(input_data)"
   ]
  },
  {
   "cell_type": "code",
   "execution_count": 50,
   "metadata": {},
   "outputs": [
    {
     "name": "stdout",
     "output_type": "stream",
     "text": [
      "Collecting numpy==1.24\n",
      "  Using cached numpy-1.24.0-cp311-cp311-macosx_11_0_arm64.whl.metadata (5.6 kB)\n",
      "Using cached numpy-1.24.0-cp311-cp311-macosx_11_0_arm64.whl (13.8 MB)\n",
      "Installing collected packages: numpy\n",
      "  Attempting uninstall: numpy\n",
      "    Found existing installation: numpy 2.1.3\n",
      "    Uninstalling numpy-2.1.3:\n",
      "      Successfully uninstalled numpy-2.1.3\n",
      "\u001b[31mERROR: pip's dependency resolver does not currently take into account all the packages that are installed. This behaviour is the source of the following dependency conflicts.\n",
      "datasets 2.20.0 requires fsspec[http]<=2024.5.0,>=2023.1.0, but you have fsspec 2024.10.0 which is incompatible.\u001b[0m\u001b[31m\n",
      "\u001b[0mSuccessfully installed numpy-1.24.0\n"
     ]
    }
   ],
   "source": [
    "!pip install -U numpy==1.24"
   ]
  },
  {
   "cell_type": "code",
   "execution_count": null,
   "metadata": {},
   "outputs": [],
   "source": []
  }
 ],
 "metadata": {
  "kernelspec": {
   "display_name": "tempenv",
   "language": "python",
   "name": "python3"
  },
  "language_info": {
   "codemirror_mode": {
    "name": "ipython",
    "version": 3
   },
   "file_extension": ".py",
   "mimetype": "text/x-python",
   "name": "python",
   "nbconvert_exporter": "python",
   "pygments_lexer": "ipython3",
   "version": "3.10.15"
  }
 },
 "nbformat": 4,
 "nbformat_minor": 2
}
