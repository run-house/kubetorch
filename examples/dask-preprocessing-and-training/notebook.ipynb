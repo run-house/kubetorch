{
 "cells": [
  {
   "cell_type": "code",
   "execution_count": 17,
   "metadata": {},
   "outputs": [
    {
     "name": "stdout",
     "output_type": "stream",
     "text": [
      "INFO | 2024-11-04 22:42:28 | runhouse.resources.hardware.cluster:1511 | Running command on py-3: echo \"hello\"\n"
     ]
    },
    {
     "data": {
      "application/vnd.jupyter.widget-view+json": {
       "model_id": "0dcbfc0085b14c41b95c669c0afa4bda",
       "version_major": 2,
       "version_minor": 0
      },
      "text/plain": [
       "Output()"
      ]
     },
     "metadata": {},
     "output_type": "display_data"
    },
    {
     "data": {
      "text/html": [
       "<pre style=\"white-space:pre;overflow-x:auto;line-height:normal;font-family:Menlo,'DejaVu Sans Mono',consolas,'Courier New',monospace\"></pre>\n"
      ],
      "text/plain": []
     },
     "metadata": {},
     "output_type": "display_data"
    },
    {
     "data": {
      "text/html": [
       "<pre style=\"white-space:pre;overflow-x:auto;line-height:normal;font-family:Menlo,'DejaVu Sans Mono',consolas,'Courier New',monospace\">\n",
       "</pre>\n"
      ],
      "text/plain": [
       "\n"
      ]
     },
     "metadata": {},
     "output_type": "display_data"
    },
    {
     "name": "stdout",
     "output_type": "stream",
     "text": [
      "INFO | 2024-11-04 22:42:37 | runhouse.resources.hardware.cluster:1511 | Running command on py-3: echo \"hello\"\n"
     ]
    }
   ],
   "source": [
    "import runhouse as rh \n",
    "cluster = rh.cluster(\n",
    "        name=\"py-3\",\n",
    "        instance_type=f\"r5d.xlarge\",\n",
    "        num_instances=3,\n",
    "        provider=\"aws\",\n",
    "    ).up_if_not()\n"
   ]
  },
  {
   "cell_type": "code",
   "execution_count": 35,
   "metadata": {},
   "outputs": [
    {
     "name": "stdout",
     "output_type": "stream",
     "text": [
      "INFO | 2024-11-04 23:01:35 | runhouse.servers.http.http_client:432 | Calling _cluster_default_env._run_command\n",
      "\u001b[36m<Client: 'tcp://172.31.81.120:8786' processes=3 threads=12, memory=92.66 GiB>\n",
      "\u001b[0mINFO | 2024-11-04 23:01:36 | runhouse.servers.http.http_client:492 | Time to call _cluster_default_env._run_command: 1.04 seconds\n"
     ]
    },
    {
     "data": {
      "text/plain": [
       "[(0,\n",
       "  \"<Client: 'tcp://172.31.81.120:8786' processes=3 threads=12, memory=92.66 GiB>\\n\",\n",
       "  '')]"
      ]
     },
     "execution_count": 35,
     "metadata": {},
     "output_type": "execute_result"
    }
   ],
   "source": [
    "cluster.run_python(['from dask.distributed import Client',\"client = Client('tcp://localhost:8786')\",'print(client)'], env = 'dask-env')"
   ]
  },
  {
   "cell_type": "code",
   "execution_count": 34,
   "metadata": {},
   "outputs": [
    {
     "name": "stdout",
     "output_type": "stream",
     "text": [
      "INFO | 2024-11-04 23:01:21 | runhouse.servers.http.http_client:432 | Calling _cluster_default_env._run_command\n",
      "\u001b[36m\n",
      "\u001b[0mINFO | 2024-11-04 23:01:22 | runhouse.servers.http.http_client:492 | Time to call _cluster_default_env._run_command: 0.54 seconds\n"
     ]
    },
    {
     "data": {
      "text/plain": [
       "[(0, '\\n', '')]"
      ]
     },
     "execution_count": 34,
     "metadata": {},
     "output_type": "execute_result"
    }
   ],
   "source": [
    "cluster.run(['echo $DASK_SCHEDULER_ADDRESS'])"
   ]
  },
  {
   "cell_type": "code",
   "execution_count": null,
   "metadata": {},
   "outputs": [],
   "source": []
  }
 ],
 "metadata": {
  "kernelspec": {
   "display_name": "tempenv",
   "language": "python",
   "name": "python3"
  },
  "language_info": {
   "codemirror_mode": {
    "name": "ipython",
    "version": 3
   },
   "file_extension": ".py",
   "mimetype": "text/x-python",
   "name": "python",
   "nbconvert_exporter": "python",
   "pygments_lexer": "ipython3",
   "version": "3.11.8"
  }
 },
 "nbformat": 4,
 "nbformat_minor": 2
}
