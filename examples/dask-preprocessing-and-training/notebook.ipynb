{
 "cells": [
  {
   "cell_type": "code",
   "execution_count": 3,
   "metadata": {},
   "outputs": [
    {
     "data": {
      "application/vnd.jupyter.widget-view+json": {
       "model_id": "d9497b7279884a2695af59658b0de512",
       "version_major": 2,
       "version_minor": 0
      },
      "text/plain": [
       "Output()"
      ]
     },
     "metadata": {},
     "output_type": "display_data"
    },
    {
     "name": "stdout",
     "output_type": "stream",
     "text": [
      "[LightGBM] [Info] Trying to bind port 38667...\n",
      "[LightGBM] [Info] Binding port 38667 succeeded\n",
      "[LightGBM] [Info] Listening...\n",
      "[LightGBM] [Warning] Connecting to rank 2 failed, waiting for 200 milliseconds\n",
      "[LightGBM] [Info] Trying to bind port 43435...\n",
      "[LightGBM] [Info] Binding port 43435 succeeded\n",
      "[LightGBM] [Info] Listening...\n"
     ]
    },
    {
     "name": "stdout",
     "output_type": "stream",
     "text": [
      "[LightGBM] [Info] Connected to rank 0\n",
      "[LightGBM] [Info] Connected to rank 0\n",
      "[LightGBM] [Info] Connected to rank 1\n",
      "[LightGBM] [Info] Connected to rank 1\n",
      "[LightGBM] [Info] Connected to rank 2\n",
      "[LightGBM] [Info] Local rank: 2, total number of machines: 3\n",
      "[LightGBM] [Info] Connected to rank 2\n",
      "[LightGBM] [Info] Local rank: 1, total number of machines: 3\n",
      "[LightGBM] [Info] Local rank: 0, total number of machines: 3\n"
     ]
    },
    {
     "name": "stdout",
     "output_type": "stream",
     "text": [
      "[LightGBM] [Info] Auto-choosing col-wise multi-threading, the overhead of testing was 0.084543 seconds.\n",
      "You can set `force_col_wise=true` to remove the overhead.\n",
      "[LightGBM] [Info] Total Bins 586\n",
      "[LightGBM] [Info] Number of data points in the train set: 908382, number of used features: 7\n",
      "[LightGBM] [Info] Auto-choosing col-wise multi-threading, the overhead of testing was 0.078712 seconds.\n",
      "You can set `force_col_wise=true` to remove the overhead.\n",
      "[LightGBM] [Info] Total Bins 586\n",
      "[LightGBM] [Info] Number of data points in the train set: 1617541, number of used features: 7\n"
     ]
    },
    {
     "name": "stdout",
     "output_type": "stream",
     "text": [
      "[LightGBM] [Info] Auto-choosing col-wise multi-threading, the overhead of testing was 0.143156 seconds.\n",
      "You can set `force_col_wise=true` to remove the overhead.\n",
      "[LightGBM] [Info] Total Bins 586\n",
      "[LightGBM] [Info] Number of data points in the train set: 1435617, number of used features: 7\n"
     ]
    },
    {
     "name": "stdout",
     "output_type": "stream",
     "text": [
      "[LightGBM] [Info] Start training from score 3.271060\n",
      "[LightGBM] [Info] Start training from score 3.271060\n",
      "[LightGBM] [Info] Start training from score 3.271060\n"
     ]
    },
    {
     "data": {
      "text/html": [
       "<pre style=\"white-space:pre;overflow-x:auto;line-height:normal;font-family:Menlo,'DejaVu Sans Mono',consolas,'Courier New',monospace\"></pre>\n"
      ],
      "text/plain": []
     },
     "metadata": {},
     "output_type": "display_data"
    },
    {
     "name": "stdout",
     "output_type": "stream",
     "text": [
      "INFO | 2024-11-06 22:49:17 | runhouse.resources.hardware.cluster:1745 | Running command on py-3: echo \"hello\"\n",
      "INFO | 2024-11-06 22:49:17 | runhouse.resources.hardware.ssh_tunnel:238 | SSH tunnel on to server's port 32300 via server's ssh port 22 already created with the cluster.\n",
      "INFO | 2024-11-06 22:49:18 | runhouse.servers.http.http_client:439 | Calling _cluster_default_env._run_command\n"
     ]
    },
    {
     "name": "stderr",
     "output_type": "stream",
     "text": [
      "INFO:httpx:HTTP Request: GET http://127.0.0.1:32301/logs/_cluster_default_env__run_command@20241106@224918_008325/pickle \"HTTP/1.1 200 OK\"\n"
     ]
    },
    {
     "name": "stdout",
     "output_type": "stream",
     "text": [
      "INFO | 2024-11-06 22:49:19 | runhouse.servers.http.http_client:503 | Time to call _cluster_default_env._run_command: 1.55 seconds\n",
      "INFO | 2024-11-06 22:49:20 | runhouse.resources.hardware.cluster:1745 | Running command on py-3: pip install \"dask[distributed]\"\n",
      "Requirement already satisfied: dask[distributed] in ./miniconda3/lib/python3.10/site-packages (2024.10.0)\n",
      "Requirement already satisfied: click>=8.1 in ./miniconda3/lib/python3.10/site-packages (from dask[distributed]) (8.1.7)\n",
      "Requirement already satisfied: cloudpickle>=3.0.0 in ./miniconda3/lib/python3.10/site-packages (from dask[distributed]) (3.1.0)\n",
      "Requirement already satisfied: fsspec>=2021.09.0 in ./miniconda3/lib/python3.10/site-packages (from dask[distributed]) (2024.10.0)\n",
      "Requirement already satisfied: packaging>=20.0 in ./miniconda3/lib/python3.10/site-packages (from dask[distributed]) (23.1)\n",
      "Requirement already satisfied: partd>=1.4.0 in ./miniconda3/lib/python3.10/site-packages (from dask[distributed]) (1.4.2)\n",
      "Requirement already satisfied: pyyaml>=5.3.1 in ./miniconda3/lib/python3.10/site-packages (from dask[distributed]) (6.0.2)\n",
      "Requirement already satisfied: toolz>=0.10.0 in ./miniconda3/lib/python3.10/site-packages (from dask[distributed]) (1.0.0)\n",
      "Requirement already satisfied: importlib-metadata>=4.13.0 in ./miniconda3/lib/python3.10/site-packages (from dask[distributed]) (8.5.0)\n",
      "Requirement already satisfied: distributed==2024.10.0 in ./miniconda3/lib/python3.10/site-packages (from dask[distributed]) (2024.10.0)\n",
      "Requirement already satisfied: jinja2>=2.10.3 in ./miniconda3/lib/python3.10/site-packages (from distributed==2024.10.0->dask[distributed]) (3.1.4)\n",
      "Requirement already satisfied: locket>=1.0.0 in ./miniconda3/lib/python3.10/site-packages (from distributed==2024.10.0->dask[distributed]) (1.0.0)\n",
      "Requirement already satisfied: msgpack>=1.0.2 in ./miniconda3/lib/python3.10/site-packages (from distributed==2024.10.0->dask[distributed]) (1.1.0)\n",
      "Requirement already satisfied: psutil>=5.8.0 in ./miniconda3/lib/python3.10/site-packages (from distributed==2024.10.0->dask[distributed]) (6.1.0)\n",
      "Requirement already satisfied: sortedcontainers>=2.0.5 in ./miniconda3/lib/python3.10/site-packages (from distributed==2024.10.0->dask[distributed]) (2.4.0)\n",
      "Requirement already satisfied: tblib>=1.6.0 in ./miniconda3/lib/python3.10/site-packages (from distributed==2024.10.0->dask[distributed]) (3.0.0)\n",
      "Requirement already satisfied: tornado>=6.2.0 in ./miniconda3/lib/python3.10/site-packages (from distributed==2024.10.0->dask[distributed]) (6.4.1)\n",
      "Requirement already satisfied: urllib3>=1.26.5 in ./miniconda3/lib/python3.10/site-packages (from distributed==2024.10.0->dask[distributed]) (1.26.18)\n",
      "Requirement already satisfied: zict>=3.0.0 in ./miniconda3/lib/python3.10/site-packages (from distributed==2024.10.0->dask[distributed]) (3.0.0)\n",
      "Requirement already satisfied: zipp>=3.20 in ./miniconda3/lib/python3.10/site-packages (from importlib-metadata>=4.13.0->dask[distributed]) (3.20.2)\n",
      "Requirement already satisfied: MarkupSafe>=2.0 in ./miniconda3/lib/python3.10/site-packages (from jinja2>=2.10.3->distributed==2024.10.0->dask[distributed]) (3.0.2)\n",
      "INFO | 2024-11-06 22:49:24 | runhouse.resources.hardware.cluster:1745 | Running command on py-3: dask worker tcp://172.31.89.245:8786\n",
      "2024-11-07 03:49:25,770 - distributed.nanny - INFO -         Start Nanny at: 'tcp://172.31.89.245:36765'\n",
      "2024-11-07 03:49:26,512 - distributed.worker - INFO -       Start worker at:  tcp://172.31.89.245:44593\n",
      "2024-11-07 03:49:26,512 - distributed.worker - INFO -          Listening to:  tcp://172.31.89.245:44593\n",
      "2024-11-07 03:49:26,512 - distributed.worker - INFO -          dashboard at:        172.31.89.245:40777\n",
      "2024-11-07 03:49:26,512 - distributed.worker - INFO - Waiting to connect to:   tcp://172.31.89.245:8786\n",
      "2024-11-07 03:49:26,512 - distributed.worker - INFO - -------------------------------------------------\n",
      "2024-11-07 03:49:26,512 - distributed.worker - INFO -               Threads:                          4\n",
      "2024-11-07 03:49:26,512 - distributed.worker - INFO -                Memory:                  30.98 GiB\n",
      "2024-11-07 03:49:26,512 - distributed.worker - INFO -       Local Directory: /tmp/dask-scratch-space/worker-qryz0v77\n",
      "2024-11-07 03:49:26,513 - distributed.worker - INFO - -------------------------------------------------\n",
      "2024-11-07 03:49:26,942 - distributed.worker - INFO - Starting Worker plugin shuffle\n",
      "2024-11-07 03:49:26,943 - distributed.worker - INFO -         Registered to:   tcp://172.31.89.245:8786\n",
      "2024-11-07 03:49:26,943 - distributed.worker - INFO - -------------------------------------------------\n",
      "2024-11-07 03:49:26,944 - distributed.core - INFO - Starting established connection to tcp://172.31.89.245:8786\n",
      "INFO | 2024-11-06 22:49:27 | runhouse.resources.hardware.cluster:1745 | Running command on py-3: pip install \"dask[distributed]\"\n",
      "Requirement already satisfied: dask[distributed] in ./miniconda3/lib/python3.10/site-packages (2024.10.0)\n",
      "Requirement already satisfied: click>=8.1 in ./miniconda3/lib/python3.10/site-packages (from dask[distributed]) (8.1.7)\n",
      "Requirement already satisfied: cloudpickle>=3.0.0 in ./miniconda3/lib/python3.10/site-packages (from dask[distributed]) (3.1.0)\n",
      "Requirement already satisfied: fsspec>=2021.09.0 in ./miniconda3/lib/python3.10/site-packages (from dask[distributed]) (2024.10.0)\n",
      "Requirement already satisfied: packaging>=20.0 in ./miniconda3/lib/python3.10/site-packages (from dask[distributed]) (23.1)\n",
      "Requirement already satisfied: partd>=1.4.0 in ./miniconda3/lib/python3.10/site-packages (from dask[distributed]) (1.4.2)\n",
      "Requirement already satisfied: pyyaml>=5.3.1 in ./miniconda3/lib/python3.10/site-packages (from dask[distributed]) (6.0.2)\n",
      "Requirement already satisfied: toolz>=0.10.0 in ./miniconda3/lib/python3.10/site-packages (from dask[distributed]) (1.0.0)\n",
      "Requirement already satisfied: importlib-metadata>=4.13.0 in ./miniconda3/lib/python3.10/site-packages (from dask[distributed]) (8.5.0)\n",
      "Requirement already satisfied: distributed==2024.10.0 in ./miniconda3/lib/python3.10/site-packages (from dask[distributed]) (2024.10.0)\n",
      "Requirement already satisfied: jinja2>=2.10.3 in ./miniconda3/lib/python3.10/site-packages (from distributed==2024.10.0->dask[distributed]) (3.1.4)\n",
      "Requirement already satisfied: locket>=1.0.0 in ./miniconda3/lib/python3.10/site-packages (from distributed==2024.10.0->dask[distributed]) (1.0.0)\n",
      "Requirement already satisfied: msgpack>=1.0.2 in ./miniconda3/lib/python3.10/site-packages (from distributed==2024.10.0->dask[distributed]) (1.1.0)\n",
      "Requirement already satisfied: psutil>=5.8.0 in ./miniconda3/lib/python3.10/site-packages (from distributed==2024.10.0->dask[distributed]) (6.1.0)\n",
      "Requirement already satisfied: sortedcontainers>=2.0.5 in ./miniconda3/lib/python3.10/site-packages (from distributed==2024.10.0->dask[distributed]) (2.4.0)\n",
      "Requirement already satisfied: tblib>=1.6.0 in ./miniconda3/lib/python3.10/site-packages (from distributed==2024.10.0->dask[distributed]) (3.0.0)\n",
      "Requirement already satisfied: tornado>=6.2.0 in ./miniconda3/lib/python3.10/site-packages (from distributed==2024.10.0->dask[distributed]) (6.4.1)\n",
      "Requirement already satisfied: urllib3>=1.26.5 in ./miniconda3/lib/python3.10/site-packages (from distributed==2024.10.0->dask[distributed]) (1.26.18)\n",
      "Requirement already satisfied: zict>=3.0.0 in ./miniconda3/lib/python3.10/site-packages (from distributed==2024.10.0->dask[distributed]) (3.0.0)\n",
      "Requirement already satisfied: zipp>=3.20 in ./miniconda3/lib/python3.10/site-packages (from importlib-metadata>=4.13.0->dask[distributed]) (3.20.2)\n",
      "Requirement already satisfied: MarkupSafe>=2.0 in ./miniconda3/lib/python3.10/site-packages (from jinja2>=2.10.3->distributed==2024.10.0->dask[distributed]) (3.0.2)\n",
      "INFO | 2024-11-06 22:49:30 | runhouse.resources.hardware.cluster:1745 | Running command on py-3: dask worker tcp://172.31.89.245:8786\n",
      "2024-11-07 03:49:32,304 - distributed.nanny - INFO -         Start Nanny at: 'tcp://172.31.88.148:33171'\n",
      "2024-11-07 03:49:32,988 - distributed.worker - INFO -       Start worker at:  tcp://172.31.88.148:43967\n",
      "2024-11-07 03:49:32,988 - distributed.worker - INFO -          Listening to:  tcp://172.31.88.148:43967\n",
      "2024-11-07 03:49:32,988 - distributed.worker - INFO -          dashboard at:        172.31.88.148:33831\n",
      "2024-11-07 03:49:32,988 - distributed.worker - INFO - Waiting to connect to:   tcp://172.31.89.245:8786\n",
      "2024-11-07 03:49:32,988 - distributed.worker - INFO - -------------------------------------------------\n",
      "2024-11-07 03:49:32,989 - distributed.worker - INFO -               Threads:                          4\n",
      "2024-11-07 03:49:32,989 - distributed.worker - INFO -                Memory:                  30.98 GiB\n",
      "2024-11-07 03:49:32,989 - distributed.worker - INFO -       Local Directory: /tmp/dask-scratch-space/worker-3blsq8lq\n",
      "2024-11-07 03:49:32,989 - distributed.worker - INFO - -------------------------------------------------\n",
      "2024-11-07 03:49:33,406 - distributed.worker - INFO - Starting Worker plugin shuffle\n",
      "2024-11-07 03:49:33,407 - distributed.worker - INFO -         Registered to:   tcp://172.31.89.245:8786\n",
      "2024-11-07 03:49:33,408 - distributed.worker - INFO - -------------------------------------------------\n",
      "2024-11-07 03:49:33,408 - distributed.core - INFO - Starting established connection to tcp://172.31.89.245:8786\n",
      "INFO | 2024-11-06 22:49:33 | runhouse.resources.hardware.cluster:1745 | Running command on py-3: pip install \"dask[distributed]\"\n",
      "[LightGBM] [Info] Finished linking network in 2.808383 seconds\n",
      "[LightGBM] [Info] Finished linking network in 3.046678 seconds\n",
      "[LightGBM] [Info] Finished linking network in 12.045553 seconds\n",
      "Requirement already satisfied: dask[distributed] in ./miniconda3/lib/python3.10/site-packages (2024.10.0)\n",
      "Requirement already satisfied: click>=8.1 in ./miniconda3/lib/python3.10/site-packages (from dask[distributed]) (8.1.7)\n",
      "Requirement already satisfied: cloudpickle>=3.0.0 in ./miniconda3/lib/python3.10/site-packages (from dask[distributed]) (3.1.0)\n",
      "Requirement already satisfied: fsspec>=2021.09.0 in ./miniconda3/lib/python3.10/site-packages (from dask[distributed]) (2024.10.0)\n",
      "Requirement already satisfied: packaging>=20.0 in ./miniconda3/lib/python3.10/site-packages (from dask[distributed]) (23.1)\n",
      "Requirement already satisfied: partd>=1.4.0 in ./miniconda3/lib/python3.10/site-packages (from dask[distributed]) (1.4.2)\n",
      "Requirement already satisfied: pyyaml>=5.3.1 in ./miniconda3/lib/python3.10/site-packages (from dask[distributed]) (6.0.2)\n",
      "Requirement already satisfied: toolz>=0.10.0 in ./miniconda3/lib/python3.10/site-packages (from dask[distributed]) (1.0.0)\n",
      "Requirement already satisfied: importlib-metadata>=4.13.0 in ./miniconda3/lib/python3.10/site-packages (from dask[distributed]) (8.5.0)\n",
      "Requirement already satisfied: distributed==2024.10.0 in ./miniconda3/lib/python3.10/site-packages (from dask[distributed]) (2024.10.0)\n",
      "Requirement already satisfied: jinja2>=2.10.3 in ./miniconda3/lib/python3.10/site-packages (from distributed==2024.10.0->dask[distributed]) (3.1.4)\n",
      "Requirement already satisfied: locket>=1.0.0 in ./miniconda3/lib/python3.10/site-packages (from distributed==2024.10.0->dask[distributed]) (1.0.0)\n",
      "Requirement already satisfied: msgpack>=1.0.2 in ./miniconda3/lib/python3.10/site-packages (from distributed==2024.10.0->dask[distributed]) (1.1.0)\n",
      "Requirement already satisfied: psutil>=5.8.0 in ./miniconda3/lib/python3.10/site-packages (from distributed==2024.10.0->dask[distributed]) (6.1.0)\n",
      "Requirement already satisfied: sortedcontainers>=2.0.5 in ./miniconda3/lib/python3.10/site-packages (from distributed==2024.10.0->dask[distributed]) (2.4.0)\n",
      "Requirement already satisfied: tblib>=1.6.0 in ./miniconda3/lib/python3.10/site-packages (from distributed==2024.10.0->dask[distributed]) (3.0.0)\n",
      "Requirement already satisfied: tornado>=6.2.0 in ./miniconda3/lib/python3.10/site-packages (from distributed==2024.10.0->dask[distributed]) (6.4.1)\n",
      "Requirement already satisfied: urllib3>=1.26.5 in ./miniconda3/lib/python3.10/site-packages (from distributed==2024.10.0->dask[distributed]) (1.26.18)\n",
      "Requirement already satisfied: zict>=3.0.0 in ./miniconda3/lib/python3.10/site-packages (from distributed==2024.10.0->dask[distributed]) (3.0.0)\n",
      "Requirement already satisfied: zipp>=3.20 in ./miniconda3/lib/python3.10/site-packages (from importlib-metadata>=4.13.0->dask[distributed]) (3.20.2)\n",
      "Requirement already satisfied: MarkupSafe>=2.0 in ./miniconda3/lib/python3.10/site-packages (from jinja2>=2.10.3->distributed==2024.10.0->dask[distributed]) (3.0.2)\n",
      "INFO | 2024-11-06 22:49:36 | runhouse.resources.hardware.cluster:1745 | Running command on py-3: dask worker tcp://172.31.89.245:8786\n",
      "2024-11-07 03:49:37,855 - distributed.nanny - INFO -         Start Nanny at: 'tcp://172.31.94.179:38199'\n",
      "2024-11-07 03:49:38,329 - distributed.worker - INFO -       Start worker at:  tcp://172.31.94.179:33169\n",
      "2024-11-07 03:49:38,330 - distributed.worker - INFO -          Listening to:  tcp://172.31.94.179:33169\n",
      "2024-11-07 03:49:38,330 - distributed.worker - INFO -          dashboard at:        172.31.94.179:43117\n",
      "2024-11-07 03:49:38,330 - distributed.worker - INFO - Waiting to connect to:   tcp://172.31.89.245:8786\n",
      "2024-11-07 03:49:38,330 - distributed.worker - INFO - -------------------------------------------------\n",
      "2024-11-07 03:49:38,330 - distributed.worker - INFO -               Threads:                          4\n",
      "2024-11-07 03:49:38,330 - distributed.worker - INFO -                Memory:                  30.98 GiB\n",
      "2024-11-07 03:49:38,330 - distributed.worker - INFO -       Local Directory: /tmp/dask-scratch-space/worker-su4ewqdg\n",
      "2024-11-07 03:49:38,330 - distributed.worker - INFO - -------------------------------------------------\n",
      "2024-11-07 03:49:38,608 - distributed.worker - INFO - Starting Worker plugin shuffle\n",
      "2024-11-07 03:49:38,608 - distributed.worker - INFO -         Registered to:   tcp://172.31.89.245:8786\n",
      "2024-11-07 03:49:38,608 - distributed.worker - INFO - -------------------------------------------------\n",
      "2024-11-07 03:49:38,609 - distributed.core - INFO - Starting established connection to tcp://172.31.89.245:8786\n",
      "[LightGBM] [Info] Trying to bind port 40927...\n",
      "[LightGBM] [Info] Trying to bind port 36557...\n",
      "[LightGBM] [Info] Trying to bind port 41825...\n",
      "[LightGBM] [Info] Binding port 40927 succeeded\n",
      "[LightGBM] [Info] Binding port 36557 succeeded\n",
      "[LightGBM] [Info] Binding port 41825 succeeded\n",
      "[LightGBM] [Info] Listening...\n",
      "[LightGBM] [Info] Listening...\n",
      "[LightGBM] [Info] Listening...\n",
      "[LightGBM] [Warning] Connecting to rank 2 failed, waiting for 200 milliseconds\n",
      "[LightGBM] [Warning] Connecting to rank 2 failed, waiting for 200 milliseconds\n",
      "[LightGBM] [Info] Connected to rank 0\n",
      "[LightGBM] [Info] Connected to rank 0\n",
      "[LightGBM] [Info] Connected to rank 1\n",
      "[LightGBM] [Info] Connected to rank 1\n",
      "[LightGBM] [Info] Connected to rank 2\n",
      "[LightGBM] [Info] Connected to rank 2\n",
      "[LightGBM] [Info] Local rank: 2, total number of machines: 3\n",
      "[LightGBM] [Info] Local rank: 1, total number of machines: 3\n",
      "[LightGBM] [Info] Local rank: 0, total number of machines: 3\n",
      "[LightGBM] [Info] Auto-choosing col-wise multi-threading, the overhead of testing was 0.075858 seconds.\n",
      "You can set `force_col_wise=true` to remove the overhead.\n",
      "[LightGBM] [Info] Auto-choosing col-wise multi-threading, the overhead of testing was 0.094716 seconds.\n",
      "[LightGBM] [Info] Total Bins 586\n",
      "You can set `force_col_wise=true` to remove the overhead.\n",
      "[LightGBM] [Info] Number of data points in the train set: 1433356, number of used features: 7\n",
      "[LightGBM] [Info] Total Bins 586\n",
      "[LightGBM] [Info] Auto-choosing row-wise multi-threading, the overhead of testing was 0.075964 seconds.\n",
      "[LightGBM] [Info] Number of data points in the train set: 907585, number of used features: 7\n",
      "You can set `force_row_wise=true` to remove the overhead.\n",
      "And if memory is not enough, you can set `force_col_wise=true`.\n",
      "[LightGBM] [Info] Total Bins 586\n",
      "[LightGBM] [Info] Number of data points in the train set: 1615535, number of used features: 7\n",
      "[LightGBM] [Info] Start training from score 3.269862\n",
      "[LightGBM] [Info] Start training from score 3.269862\n",
      "[LightGBM] [Info] Start training from score 3.269862\n",
      "[LightGBM] [Info] Finished linking network in 1.876111 seconds\n",
      "[LightGBM] [Info] Finished linking network in 5.232768 seconds\n",
      "[LightGBM] [Info] Finished linking network in 8.233633 seconds\n",
      "Tore down Dask cluster\n"
     ]
    }
   ],
   "source": [
    "from helper_dask import launch_dask_cluster\n",
    "import runhouse as rh \n",
    "\n",
    "num_nodes = 3\n",
    "cluster_name = f\"py-{num_nodes}\"\n",
    "\n",
    "cluster = rh.cluster(\n",
    "    name=cluster_name,\n",
    "    instance_type=\"r5d.xlarge\",\n",
    "    num_instances=num_nodes,\n",
    "    provider=\"aws\",\n",
    ").up_if_not()\n",
    "\n",
    "launch_dask_cluster(cluster)\n",
    "\n",
    "try:\n",
    "    while True:\n",
    "        pass\n",
    "except KeyboardInterrupt:\n",
    "    print(\"Tore down Dask cluster\")"
   ]
  },
  {
   "cell_type": "code",
   "execution_count": null,
   "metadata": {},
   "outputs": [],
   "source": []
  }
 ],
 "metadata": {
  "kernelspec": {
   "display_name": "tempenv",
   "language": "python",
   "name": "python3"
  },
  "language_info": {
   "codemirror_mode": {
    "name": "ipython",
    "version": 3
   },
   "file_extension": ".py",
   "mimetype": "text/x-python",
   "name": "python",
   "nbconvert_exporter": "python",
   "pygments_lexer": "ipython3",
   "version": "3.11.8"
  }
 },
 "nbformat": 4,
 "nbformat_minor": 2
}
