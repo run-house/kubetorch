{
 "cells": [
  {
   "cell_type": "markdown",
   "metadata": {},
   "source": [
    "# Locally interact with remote objects \n",
    "We can use a notebook to interactively work with the remote Training. "
   ]
  },
  {
   "cell_type": "code",
   "execution_count": null,
   "metadata": {},
   "outputs": [],
   "source": [
    "import kubetorch as kt \n",
    "num_nodes = 3\n",
    "\n",
    "img = kt.images.dask().pip_install(\n",
    "    [\n",
    "        \"gcsfs\", # For Google Cloud Storage, change for your cloud provider\n",
    "        \"lightgbm\",\n",
    "    ]\n",
    ")\n",
    "\n",
    "compute = kt.compute(cpus = \"8\", memory = \"32\", image=img).up_if_not()"
   ]
  },
  {
   "cell_type": "code",
   "execution_count": null,
   "metadata": {},
   "outputs": [],
   "source": [
    "from lightgbm_dask import LightGBMModelTrainer\n",
    "trainer = kt.cls(LightGBMModelTrainer).to(compute).distribute('dask', num_nodes = num_nodes) "
   ]
  },
  {
   "cell_type": "code",
   "execution_count": null,
   "metadata": {},
   "outputs": [],
   "source": [
    "dataset_path = \"gs://rh-demo-external/*.parquet\"  # 2024 NYC Taxi Data\n",
    "X_vars = [\"passenger_count\", \"trip_distance\", \"fare_amount\"]\n",
    "y_var = \"tip_amount\"\n",
    "\n",
    "\n",
    "trainer.load_client()\n",
    "trainer.load_data(dataset_path)"
   ]
  },
  {
   "cell_type": "code",
   "execution_count": null,
   "metadata": {},
   "outputs": [],
   "source": [
    "new_date_columns = trainer.preprocess(date_column=\"tpep_pickup_datetime\")\n",
    "X_vars = X_vars + new_date_columns\n",
    "trainer.train_test_split(target_var=y_var, features=X_vars)\n"
   ]
  },
  {
   "cell_type": "code",
   "execution_count": null,
   "metadata": {},
   "outputs": [],
   "source": [
    "# Train, test, and save the model\n",
    "trainer.train_model()\n"
   ]
  },
  {
   "cell_type": "code",
   "execution_count": null,
   "metadata": {},
   "outputs": [
    {
     "name": "stdout",
     "output_type": "stream",
     "text": [
      "INFO | 2024-11-12 22:35:13 | runhouse.servers.http.http_client:439 | Calling my_trainer.predict\n"
     ]
    },
    {
     "name": "stderr",
     "output_type": "stream",
     "text": [
      "INFO:httpx:HTTP Request: GET http://127.0.0.1:32302/logs/my_trainer/my_trainer_predict@20241112@223513_267805/pickle \"HTTP/1.1 200 OK\"\n"
     ]
    },
    {
     "name": "stdout",
     "output_type": "stream",
     "text": [
      "------------\n",
      "\u001b[36mpy-2-new-gcp\u001b[0m\n",
      "------------\n",
      "\u001b[36mdask.array<_predict_part, shape=(1,), dtype=float32, chunksize=(1,), chunktype=numpy.ndarray>\n",
      "\u001b[0m\u001b[36m[10.87070356]\n",
      "\u001b[0mINFO | 2024-11-12 22:35:13 | runhouse.servers.http.http_client:504 | Time to call my_trainer.predict: 0.58 seconds\n"
     ]
    },
    {
     "data": {
      "text/plain": [
       "10.870703558582909"
      ]
     },
     "execution_count": 4,
     "metadata": {},
     "output_type": "execute_result"
    }
   ],
   "source": [
    "# Run an inference on the remote model \n",
    "import numpy as np \n",
    "import dask.array as da\n",
    "input_data = [3, 5, 110, 5, 11, 3, 6]\n",
    "\n",
    "trainer.predict(input_data)"
   ]
  }
 ],
 "metadata": {
  "kernelspec": {
   "display_name": "tempenv",
   "language": "python",
   "name": "python3"
  },
  "language_info": {
   "codemirror_mode": {
    "name": "ipython",
    "version": 3
   },
   "file_extension": ".py",
   "mimetype": "text/x-python",
   "name": "python",
   "nbconvert_exporter": "python",
   "pygments_lexer": "ipython3",
   "version": "3.10.13"
  }
 },
 "nbformat": 4,
 "nbformat_minor": 2
}
