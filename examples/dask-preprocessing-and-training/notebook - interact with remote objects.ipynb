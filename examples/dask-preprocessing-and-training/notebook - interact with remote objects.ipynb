{
 "cells": [
  {
   "cell_type": "markdown",
   "metadata": {},
   "source": [
    "# Locally interact wiht remote objects \n",
    "If we connect to the remote cluster from a notebook, we can interact with the remote objects we created in the training script in parallel "
   ]
  },
  {
   "cell_type": "code",
   "execution_count": 12,
   "metadata": {},
   "outputs": [
    {
     "name": "stdout",
     "output_type": "stream",
     "text": [
      "INFO | 2024-11-13 00:14:27 | runhouse.resources.secrets.secret:285 | Saving config for /paul/ssh-sky-key to Den\n",
      "INFO | 2024-11-13 00:14:27 | runhouse.resources.secrets.secret:301 | Saving secrets for /paul/ssh-sky-key to Vault\n",
      "INFO | 2024-11-13 00:14:27 | runhouse.rns.rns_client:502 | Saving config for /paul/dask-env to RNS\n",
      "INFO | 2024-11-13 00:14:28 | runhouse.rns.rns_client:502 | Saving config for /paul/py-2-new-gcp to RNS\n"
     ]
    },
    {
     "data": {
      "application/vnd.jupyter.widget-view+json": {
       "model_id": "efb5d918400e463a80aa9f2a6c70c435",
       "version_major": 2,
       "version_minor": 0
      },
      "text/plain": [
       "Output()"
      ]
     },
     "metadata": {},
     "output_type": "display_data"
    },
    {
     "data": {
      "text/html": [
       "<pre style=\"white-space:pre;overflow-x:auto;line-height:normal;font-family:Menlo,'DejaVu Sans Mono',consolas,'Courier New',monospace\"></pre>\n"
      ],
      "text/plain": []
     },
     "metadata": {},
     "output_type": "display_data"
    },
    {
     "name": "stdout",
     "output_type": "stream",
     "text": [
      "INFO | 2024-11-13 00:14:31 | runhouse.resources.hardware.cluster:1759 | Running command on py-2-new-gcp: echo \"hello\"\n"
     ]
    }
   ],
   "source": [
    "import runhouse as rh \n",
    "num_nodes = 2\n",
    "cluster_name = f\"py-{num_nodes}-new-gcp\"\n",
    "\n",
    "env = rh.env(\n",
    "    name=\"dask-env\",\n",
    "    load_from_den=False,\n",
    "    reqs=[\n",
    "        \"dask-ml\",\n",
    "        \"dask[distributed]\",\n",
    "        \"dask[dataframe]\",\n",
    "        \"gcsfs\",\n",
    "        \"lightgbm\",\n",
    "    ],\n",
    ")\n",
    "\n",
    "cluster = rh.cluster(\n",
    "    name=cluster_name,\n",
    "    instance_type= 'CPU:2+',\n",
    "    memory = \"12+\",\n",
    "    num_nodes=num_nodes,\n",
    "    provider=\"gcp\",\n",
    "    region = \"us-east1\",\n",
    "    default_env=env,\n",
    ").up_if_not()\n"
   ]
  },
  {
   "cell_type": "code",
   "execution_count": 3,
   "metadata": {},
   "outputs": [
    {
     "name": "stdout",
     "output_type": "stream",
     "text": [
      "INFO | 2024-11-12 22:35:08 | runhouse.resources.hardware.ssh_tunnel:250 | Port 32300 is already in use. Trying next port.\n",
      "INFO | 2024-11-12 22:35:08 | runhouse.resources.hardware.ssh_tunnel:250 | Port 32301 is already in use. Trying next port.\n",
      "INFO | 2024-11-12 22:35:08 | runhouse.resources.hardware.ssh_tunnel:91 | Running forwarding command: ssh -T -L 32302:localhost:32300 -i ~/.ssh/sky-key -o Port=22 -o StrictHostKeyChecking=no -o UserKnownHostsFile=/dev/null -o LogLevel=ERROR -o IdentitiesOnly=yes -o ExitOnForwardFailure=yes -o ServerAliveInterval=5 -o ServerAliveCountMax=3 -o ConnectTimeout=30s -o ForwardAgent=yes -o ControlMaster=auto -o ControlPath=/tmp/skypilot_ssh_6ba66db0/4b487bd908/%C -o ControlPersist=300s gcpuser@34.74.23.61\n",
      "INFO | 2024-11-12 22:35:09 | runhouse.servers.http.http_client:439 | Calling my_trainer.return_model_details\n"
     ]
    },
    {
     "name": "stderr",
     "output_type": "stream",
     "text": [
      "INFO:httpx:HTTP Request: GET http://127.0.0.1:32302/logs/my_trainer/my_trainer_return_model_details@20241112@223509_408821/pickle \"HTTP/1.1 200 OK\"\n"
     ]
    },
    {
     "name": "stdout",
     "output_type": "stream",
     "text": [
      "INFO | 2024-11-12 22:35:09 | runhouse.servers.http.http_client:504 | Time to call my_trainer.return_model_details: 0.08 seconds\n",
      "{'features': ['passenger_count', 'trip_distance', 'fare_amount', 'day', 'month', 'dayofweek', 'hour'], 'mse': np.float64(10.173834328554335), 'mae': np.float64(1.9945495515063427)}\n"
     ]
    }
   ],
   "source": [
    "# Use the return_model_details class on the remote object\n",
    "trainer = cluster.get(\"my_trainer\", remote = True, default = None)\n",
    "print(trainer.return_model_details())"
   ]
  },
  {
   "cell_type": "code",
   "execution_count": 4,
   "metadata": {},
   "outputs": [
    {
     "name": "stdout",
     "output_type": "stream",
     "text": [
      "INFO | 2024-11-12 22:35:13 | runhouse.servers.http.http_client:439 | Calling my_trainer.predict\n"
     ]
    },
    {
     "name": "stderr",
     "output_type": "stream",
     "text": [
      "INFO:httpx:HTTP Request: GET http://127.0.0.1:32302/logs/my_trainer/my_trainer_predict@20241112@223513_267805/pickle \"HTTP/1.1 200 OK\"\n"
     ]
    },
    {
     "name": "stdout",
     "output_type": "stream",
     "text": [
      "------------\n",
      "\u001b[36mpy-2-new-gcp\u001b[0m\n",
      "------------\n",
      "\u001b[36mdask.array<_predict_part, shape=(1,), dtype=float32, chunksize=(1,), chunktype=numpy.ndarray>\n",
      "\u001b[0m\u001b[36m[10.87070356]\n",
      "\u001b[0mINFO | 2024-11-12 22:35:13 | runhouse.servers.http.http_client:504 | Time to call my_trainer.predict: 0.58 seconds\n"
     ]
    },
    {
     "data": {
      "text/plain": [
       "10.870703558582909"
      ]
     },
     "execution_count": 4,
     "metadata": {},
     "output_type": "execute_result"
    }
   ],
   "source": [
    "# Run an inference on the remote model \n",
    "import numpy as np \n",
    "import dask.array as da\n",
    "input_data = [3, 5, 110, 5, 11, 3, 6]\n",
    "\n",
    "trainer.predict(input_data)"
   ]
  },
  {
   "cell_type": "code",
   "execution_count": 7,
   "metadata": {},
   "outputs": [
    {
     "name": "stdout",
     "output_type": "stream",
     "text": [
      "INFO | 2024-11-12 22:40:33 | runhouse.resources.hardware.on_demand_cluster:618 | Tearing down cluster locally via Sky.\n",
      "INFO | 2024-11-12 22:40:59 | runhouse.resources.secrets.secret:285 | Saving config for /paul/ssh-sky-key to Den\n",
      "INFO | 2024-11-12 22:40:59 | runhouse.resources.secrets.secret:301 | Saving secrets for /paul/ssh-sky-key to Vault\n",
      "INFO | 2024-11-12 22:40:59 | runhouse.rns.rns_client:502 | Saving config for /paul/dask-env to RNS\n",
      "INFO | 2024-11-12 22:40:59 | runhouse.rns.rns_client:502 | Saving config for /paul/py-2-new-gcp to RNS\n"
     ]
    }
   ],
   "source": [
    "cluster.teardown()"
   ]
  }
 ],
 "metadata": {
  "kernelspec": {
   "display_name": "tempenv",
   "language": "python",
   "name": "python3"
  },
  "language_info": {
   "codemirror_mode": {
    "name": "ipython",
    "version": 3
   },
   "file_extension": ".py",
   "mimetype": "text/x-python",
   "name": "python",
   "nbconvert_exporter": "python",
   "pygments_lexer": "ipython3",
   "version": "3.10.13"
  }
 },
 "nbformat": 4,
 "nbformat_minor": 2
}
