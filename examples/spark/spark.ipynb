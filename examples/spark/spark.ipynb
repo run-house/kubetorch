{
 "cells": [
  {
   "cell_type": "code",
   "execution_count": 12,
   "metadata": {},
   "outputs": [],
   "source": [
    "import runhouse as rh "
   ]
  },
  {
   "cell_type": "code",
   "execution_count": 32,
   "metadata": {},
   "outputs": [
    {
     "name": "stdout",
     "output_type": "stream",
     "text": [
      "INFO | 2025-01-08 17:40:28 | runhouse.resources.secrets.provider_secrets.ssh_secret:93 | Secrets already exist in ~/.ssh/sky-key. Skipping.\n",
      "INFO | 2025-01-08 17:40:28 | runhouse.resources.hardware.cluster:1856 | Running command on py-2x4cpu: echo \"hello\"\n",
      "INFO | 2025-01-08 17:40:33 | runhouse.resources.hardware.cluster:1856 | Running command on py-2x4cpu: echo \"hello\"\n",
      "INFO | 2025-01-08 17:40:38 | runhouse.resources.hardware.on_demand_cluster:614 | Launching cluster with Den\n",
      "INFO | 2025-01-08 17:40:38 | runhouse.resources.secrets.secret:289 | Saving config for /paul/ssh-sky-key to Den\n",
      "INFO | 2025-01-08 17:40:40 | runhouse.resources.secrets.secret:305 | Saving secrets for /paul/ssh-sky-key to Vault\n",
      "INFO | 2025-01-08 17:40:41 | runhouse.rns.rns_client:502 | Saving config for /paul/py-2x4cpu to Den\n",
      "INFO | 2025-01-08 17:40:41 | runhouse.resources.hardware.launcher_utils:174 | Cluster is already up\n",
      "INFO | 2025-01-08 17:40:41 | runhouse.resources.hardware.launcher_utils:187 | Successfully ran cluster operation via Den\n"
     ]
    }
   ],
   "source": [
    "img = rh.Image(name='test') # .install_packages(['pyspark']).run_bash('sudo apt update && sudo apt install -y default-jdk')\n",
    "cluster = rh.cluster(\n",
    "    name = 'py-2x4cpu-2',\n",
    "    num_nodes = 2,\n",
    "    num_cpus = 4,\n",
    "    provider = 'gcp',\n",
    "    region = 'us-east1',\n",
    "    image = img, \n",
    "    launcher = 'den', \n",
    ").up_if_not()"
   ]
  },
  {
   "cell_type": "code",
   "execution_count": 28,
   "metadata": {},
   "outputs": [
    {
     "name": "stderr",
     "output_type": "stream",
     "text": [
      "Exception in thread Thread-633 (connect_server_client):\n",
      "Traceback (most recent call last):\n",
      "  File \"/opt/anaconda3/envs/myenv/lib/python3.10/threading.py\", line 1016, in _bootstrap_inner\n",
      "    self.run()\n",
      "  File \"/opt/anaconda3/envs/myenv/lib/python3.10/site-packages/ipykernel/ipkernel.py\", line 766, in run_closure\n",
      "    _threading_Thread_run(self)\n",
      "  File \"/opt/anaconda3/envs/myenv/lib/python3.10/threading.py\", line 953, in run\n",
      "    self._target(*self._args, **self._kwargs)\n",
      "  File \"/opt/anaconda3/envs/myenv/lib/python3.10/site-packages/runhouse/resources/hardware/cluster.py\", line 934, in connect_server_client\n",
      "  File \"/opt/anaconda3/envs/myenv/lib/python3.10/site-packages/runhouse/resources/hardware/cluster.py\", line 912, in connect_tunnel\n",
      "  File \"/opt/anaconda3/envs/myenv/lib/python3.10/site-packages/runhouse/resources/hardware/cluster.py\", line 1012, in ssh_tunnel\n",
      "ModuleNotFoundError: No module named 'runhouse.resources.hardware.ssh_tunnel'\n"
     ]
    },
    {
     "ename": "ConnectionError",
     "evalue": "Error occurred trying to form connection for cluster py-2x4cpu.",
     "output_type": "error",
     "traceback": [
      "\u001b[0;31m---------------------------------------------------------------------------\u001b[0m",
      "\u001b[0;31mConnectionError\u001b[0m                           Traceback (most recent call last)",
      "Cell \u001b[0;32mIn[28], line 2\u001b[0m\n\u001b[1;32m      1\u001b[0m \u001b[38;5;66;03m#cluster.install_packages(['marimo'])\u001b[39;00m\n\u001b[0;32m----> 2\u001b[0m \u001b[43mcluster\u001b[49m\u001b[38;5;241;43m.\u001b[39;49m\u001b[43mrun_bash\u001b[49m\u001b[43m(\u001b[49m\u001b[38;5;124;43m'\u001b[39;49m\u001b[38;5;124;43mmarimo edit --headless --host 0.0.0.0 --port 8080\u001b[39;49m\u001b[38;5;124;43m'\u001b[39;49m\u001b[43m)\u001b[49m\n\u001b[1;32m      3\u001b[0m \u001b[38;5;66;03m#cluster.ssh_tunnel(8080, 8080)\u001b[39;00m\n",
      "File \u001b[0;32m/opt/anaconda3/envs/myenv/lib/python3.10/site-packages/runhouse/resources/hardware/cluster.py:1708\u001b[0m, in \u001b[0;36mCluster.run_bash\u001b[0;34m(self, commands, node, process, stream_logs, require_outputs)\u001b[0m\n\u001b[1;32m   1704\u001b[0m \u001b[38;5;28;01melse\u001b[39;00m:\n\u001b[1;32m   1705\u001b[0m     \u001b[38;5;28;01mif\u001b[39;00m stream_logs:\n\u001b[1;32m   1706\u001b[0m         logs_future \u001b[38;5;241m=\u001b[39m executor\u001b[38;5;241m.\u001b[39msubmit(\n\u001b[1;32m   1707\u001b[0m             thread_coroutine,\n\u001b[0;32m-> 1708\u001b[0m             \u001b[38;5;28;43mself\u001b[39;49m\u001b[38;5;241;43m.\u001b[39;49m\u001b[43mclient\u001b[49m\u001b[38;5;241m.\u001b[39m_alogs_request(\n\u001b[1;32m   1709\u001b[0m                 run_name\u001b[38;5;241m=\u001b[39mrun_name,\n\u001b[1;32m   1710\u001b[0m                 node_ip\u001b[38;5;241m=\u001b[39mnode_ip,\n\u001b[1;32m   1711\u001b[0m                 process\u001b[38;5;241m=\u001b[39mprocess,\n\u001b[1;32m   1712\u001b[0m                 create_async_client\u001b[38;5;241m=\u001b[39m\u001b[38;5;28;01mTrue\u001b[39;00m,\n\u001b[1;32m   1713\u001b[0m             ),\n\u001b[1;32m   1714\u001b[0m         )\n\u001b[1;32m   1716\u001b[0m     results\u001b[38;5;241m.\u001b[39mappend(\n\u001b[1;32m   1717\u001b[0m         \u001b[38;5;28mself\u001b[39m\u001b[38;5;241m.\u001b[39mclient\u001b[38;5;241m.\u001b[39mrun_bash(\n\u001b[1;32m   1718\u001b[0m             command\u001b[38;5;241m=\u001b[39mcommand,\n\u001b[0;32m   (...)\u001b[0m\n\u001b[1;32m   1723\u001b[0m         )\n\u001b[1;32m   1724\u001b[0m     )\n\u001b[1;32m   1726\u001b[0m \u001b[38;5;28;01mif\u001b[39;00m stream_logs:\n",
      "File \u001b[0;32m/opt/anaconda3/envs/myenv/lib/python3.10/site-packages/runhouse/resources/hardware/on_demand_cluster.py:160\u001b[0m, in \u001b[0;36mclient\u001b[0;34m(self)\u001b[0m\n",
      "File \u001b[0;32m/opt/anaconda3/envs/myenv/lib/python3.10/site-packages/runhouse/resources/hardware/cluster.py:203\u001b[0m, in \u001b[0;36mCluster.client\u001b[0;34m(self)\u001b[0m\n\u001b[1;32m    198\u001b[0m         \u001b[38;5;28;01mraise\u001b[39;00m \u001b[38;5;167;01mConnectionError\u001b[39;00m(\n\u001b[1;32m    199\u001b[0m             \u001b[38;5;124mf\u001b[39m\u001b[38;5;124m\"\u001b[39m\u001b[38;5;124mTimed out trying to form connection for cluster \u001b[39m\u001b[38;5;132;01m{\u001b[39;00m\u001b[38;5;28mself\u001b[39m\u001b[38;5;241m.\u001b[39mname\u001b[38;5;132;01m}\u001b[39;00m\u001b[38;5;124m.\u001b[39m\u001b[38;5;124m\"\u001b[39m\n\u001b[1;32m    200\u001b[0m         )\n\u001b[1;32m    202\u001b[0m \u001b[38;5;28;01mif\u001b[39;00m \u001b[38;5;129;01mnot\u001b[39;00m \u001b[38;5;28mself\u001b[39m\u001b[38;5;241m.\u001b[39m_http_client:\n\u001b[0;32m--> 203\u001b[0m     \u001b[38;5;28;01mraise\u001b[39;00m \u001b[38;5;167;01mConnectionError\u001b[39;00m(\n\u001b[1;32m    204\u001b[0m         \u001b[38;5;124mf\u001b[39m\u001b[38;5;124m\"\u001b[39m\u001b[38;5;124mError occurred trying to form connection for cluster \u001b[39m\u001b[38;5;132;01m{\u001b[39;00m\u001b[38;5;28mself\u001b[39m\u001b[38;5;241m.\u001b[39mname\u001b[38;5;132;01m}\u001b[39;00m\u001b[38;5;124m.\u001b[39m\u001b[38;5;124m\"\u001b[39m\n\u001b[1;32m    205\u001b[0m     )\n\u001b[1;32m    207\u001b[0m \u001b[38;5;28;01mtry\u001b[39;00m:\n\u001b[1;32m    208\u001b[0m     \u001b[38;5;28mself\u001b[39m\u001b[38;5;241m.\u001b[39m_http_client\u001b[38;5;241m.\u001b[39mcheck_server()\n",
      "\u001b[0;31mConnectionError\u001b[0m: Error occurred trying to form connection for cluster py-2x4cpu."
     ]
    }
   ],
   "source": [
    "#cluster.install_packages(['marimo'])\n",
    "#cluster.run_bash('marimo edit --headless --host 0.0.0.0 --port 8080')\n",
    "#cluster.ssh_tunnel(8080, 8080)"
   ]
  },
  {
   "cell_type": "code",
   "execution_count": 23,
   "metadata": {},
   "outputs": [
    {
     "name": "stderr",
     "output_type": "stream",
     "text": [
      "Exception in thread Thread-624 (connect_server_client):\n",
      "Traceback (most recent call last):\n",
      "  File \"/opt/anaconda3/envs/myenv/lib/python3.10/threading.py\", line 1016, in _bootstrap_inner\n",
      "    self.run()\n",
      "  File \"/opt/anaconda3/envs/myenv/lib/python3.10/site-packages/ipykernel/ipkernel.py\", line 766, in run_closure\n",
      "    _threading_Thread_run(self)\n",
      "  File \"/opt/anaconda3/envs/myenv/lib/python3.10/threading.py\", line 953, in run\n",
      "    self._target(*self._args, **self._kwargs)\n",
      "  File \"/opt/anaconda3/envs/myenv/lib/python3.10/site-packages/runhouse/resources/hardware/cluster.py\", line 934, in connect_server_client\n",
      "  File \"/opt/anaconda3/envs/myenv/lib/python3.10/site-packages/runhouse/resources/hardware/cluster.py\", line 912, in connect_tunnel\n",
      "  File \"/opt/anaconda3/envs/myenv/lib/python3.10/site-packages/runhouse/resources/hardware/cluster.py\", line 1012, in ssh_tunnel\n",
      "ModuleNotFoundError: No module named 'runhouse.resources.hardware.ssh_tunnel'\n"
     ]
    },
    {
     "ename": "ConnectionError",
     "evalue": "Error occurred trying to form connection for cluster py-2x4cpu.",
     "output_type": "error",
     "traceback": [
      "\u001b[0;31m---------------------------------------------------------------------------\u001b[0m",
      "\u001b[0;31mConnectionError\u001b[0m                           Traceback (most recent call last)",
      "Cell \u001b[0;32mIn[23], line 1\u001b[0m\n\u001b[0;32m----> 1\u001b[0m \u001b[43mcluster\u001b[49m\u001b[38;5;241;43m.\u001b[39;49m\u001b[43mrun_bash\u001b[49m\u001b[43m(\u001b[49m\u001b[38;5;124;43m'\u001b[39;49m\u001b[38;5;124;43mecho \u001b[39;49m\u001b[38;5;124;43m\"\u001b[39;49m\u001b[38;5;124;43mhello world\u001b[39;49m\u001b[38;5;124;43m\"\u001b[39;49m\u001b[38;5;124;43m'\u001b[39;49m\u001b[43m)\u001b[49m\n",
      "File \u001b[0;32m/opt/anaconda3/envs/myenv/lib/python3.10/site-packages/runhouse/resources/hardware/cluster.py:1708\u001b[0m, in \u001b[0;36mCluster.run_bash\u001b[0;34m(self, commands, node, process, stream_logs, require_outputs)\u001b[0m\n\u001b[1;32m   1704\u001b[0m \u001b[38;5;28;01melse\u001b[39;00m:\n\u001b[1;32m   1705\u001b[0m     \u001b[38;5;28;01mif\u001b[39;00m stream_logs:\n\u001b[1;32m   1706\u001b[0m         logs_future \u001b[38;5;241m=\u001b[39m executor\u001b[38;5;241m.\u001b[39msubmit(\n\u001b[1;32m   1707\u001b[0m             thread_coroutine,\n\u001b[0;32m-> 1708\u001b[0m             \u001b[38;5;28;43mself\u001b[39;49m\u001b[38;5;241;43m.\u001b[39;49m\u001b[43mclient\u001b[49m\u001b[38;5;241m.\u001b[39m_alogs_request(\n\u001b[1;32m   1709\u001b[0m                 run_name\u001b[38;5;241m=\u001b[39mrun_name,\n\u001b[1;32m   1710\u001b[0m                 node_ip\u001b[38;5;241m=\u001b[39mnode_ip,\n\u001b[1;32m   1711\u001b[0m                 process\u001b[38;5;241m=\u001b[39mprocess,\n\u001b[1;32m   1712\u001b[0m                 create_async_client\u001b[38;5;241m=\u001b[39m\u001b[38;5;28;01mTrue\u001b[39;00m,\n\u001b[1;32m   1713\u001b[0m             ),\n\u001b[1;32m   1714\u001b[0m         )\n\u001b[1;32m   1716\u001b[0m     results\u001b[38;5;241m.\u001b[39mappend(\n\u001b[1;32m   1717\u001b[0m         \u001b[38;5;28mself\u001b[39m\u001b[38;5;241m.\u001b[39mclient\u001b[38;5;241m.\u001b[39mrun_bash(\n\u001b[1;32m   1718\u001b[0m             command\u001b[38;5;241m=\u001b[39mcommand,\n\u001b[0;32m   (...)\u001b[0m\n\u001b[1;32m   1723\u001b[0m         )\n\u001b[1;32m   1724\u001b[0m     )\n\u001b[1;32m   1726\u001b[0m \u001b[38;5;28;01mif\u001b[39;00m stream_logs:\n",
      "File \u001b[0;32m/opt/anaconda3/envs/myenv/lib/python3.10/site-packages/runhouse/resources/hardware/on_demand_cluster.py:160\u001b[0m, in \u001b[0;36mclient\u001b[0;34m(self)\u001b[0m\n",
      "File \u001b[0;32m/opt/anaconda3/envs/myenv/lib/python3.10/site-packages/runhouse/resources/hardware/cluster.py:203\u001b[0m, in \u001b[0;36mCluster.client\u001b[0;34m(self)\u001b[0m\n\u001b[1;32m    198\u001b[0m         \u001b[38;5;28;01mraise\u001b[39;00m \u001b[38;5;167;01mConnectionError\u001b[39;00m(\n\u001b[1;32m    199\u001b[0m             \u001b[38;5;124mf\u001b[39m\u001b[38;5;124m\"\u001b[39m\u001b[38;5;124mTimed out trying to form connection for cluster \u001b[39m\u001b[38;5;132;01m{\u001b[39;00m\u001b[38;5;28mself\u001b[39m\u001b[38;5;241m.\u001b[39mname\u001b[38;5;132;01m}\u001b[39;00m\u001b[38;5;124m.\u001b[39m\u001b[38;5;124m\"\u001b[39m\n\u001b[1;32m    200\u001b[0m         )\n\u001b[1;32m    202\u001b[0m \u001b[38;5;28;01mif\u001b[39;00m \u001b[38;5;129;01mnot\u001b[39;00m \u001b[38;5;28mself\u001b[39m\u001b[38;5;241m.\u001b[39m_http_client:\n\u001b[0;32m--> 203\u001b[0m     \u001b[38;5;28;01mraise\u001b[39;00m \u001b[38;5;167;01mConnectionError\u001b[39;00m(\n\u001b[1;32m    204\u001b[0m         \u001b[38;5;124mf\u001b[39m\u001b[38;5;124m\"\u001b[39m\u001b[38;5;124mError occurred trying to form connection for cluster \u001b[39m\u001b[38;5;132;01m{\u001b[39;00m\u001b[38;5;28mself\u001b[39m\u001b[38;5;241m.\u001b[39mname\u001b[38;5;132;01m}\u001b[39;00m\u001b[38;5;124m.\u001b[39m\u001b[38;5;124m\"\u001b[39m\n\u001b[1;32m    205\u001b[0m     )\n\u001b[1;32m    207\u001b[0m \u001b[38;5;28;01mtry\u001b[39;00m:\n\u001b[1;32m    208\u001b[0m     \u001b[38;5;28mself\u001b[39m\u001b[38;5;241m.\u001b[39m_http_client\u001b[38;5;241m.\u001b[39mcheck_server()\n",
      "\u001b[0;31mConnectionError\u001b[0m: Error occurred trying to form connection for cluster py-2x4cpu."
     ]
    }
   ],
   "source": [
    "cluster.run_bash('echo \"hello world\"')"
   ]
  },
  {
   "cell_type": "code",
   "execution_count": 29,
   "metadata": {},
   "outputs": [
    {
     "name": "stdout",
     "output_type": "stream",
     "text": [
      "INFO | 2025-01-08 17:27:29 | runhouse.resources.hardware.on_demand_cluster:644 | Tearing down cluster with Den.\n",
      "INFO | 2025-01-08 17:27:33 | runhouse.resources.hardware.launcher_utils:174 | Tearing down cluster, keeping configs in Den\n",
      "INFO | 2025-01-08 17:27:33 | runhouse.resources.hardware.launcher_utils:169 | Tearing down cluster\n",
      "Tearing down cluster ⣟\r"
     ]
    },
    {
     "ename": "Exception",
     "evalue": "Received [500] from Den POST 'https://api.run.house/cluster/teardown': {'code': 500, 'detail': \"'py-2x4cpu' (GCP) is owned by account ['runhouse-org-den-launcher-482@runhouse-test.iam.gserviceaccount.com [project_id=runhouse-test]'], but the activated identity is ['minimal-sky-permissions-test-p@runhouse-test.iam.gserviceaccount.com [project_id=runhouse-test]'].\"}",
     "output_type": "error",
     "traceback": [
      "\u001b[0;31m---------------------------------------------------------------------------\u001b[0m",
      "\u001b[0;31mException\u001b[0m                                 Traceback (most recent call last)",
      "Cell \u001b[0;32mIn[29], line 1\u001b[0m\n\u001b[0;32m----> 1\u001b[0m \u001b[43mcluster\u001b[49m\u001b[38;5;241;43m.\u001b[39;49m\u001b[43mteardown\u001b[49m\u001b[43m(\u001b[49m\u001b[43m)\u001b[49m\n",
      "File \u001b[0;32m/opt/anaconda3/envs/myenv/lib/python3.10/site-packages/runhouse/resources/hardware/on_demand_cluster.py:645\u001b[0m, in \u001b[0;36mteardown\u001b[0;34m(self, verbose)\u001b[0m\n",
      "File \u001b[0;32m/opt/anaconda3/envs/myenv/lib/python3.10/site-packages/runhouse/resources/hardware/launcher_utils.py:305\u001b[0m, in \u001b[0;36mteardown\u001b[0;34m(cls, cluster, verbose)\u001b[0m\n",
      "File \u001b[0;32m/opt/anaconda3/envs/myenv/lib/python3.10/site-packages/runhouse/resources/hardware/launcher_utils.py:181\u001b[0m, in \u001b[0;36mrun_verbose\u001b[0;34m(cls, base_url, cluster_name, payload)\u001b[0m\n",
      "\u001b[0;31mException\u001b[0m: Received [500] from Den POST 'https://api.run.house/cluster/teardown': {'code': 500, 'detail': \"'py-2x4cpu' (GCP) is owned by account ['runhouse-org-den-launcher-482@runhouse-test.iam.gserviceaccount.com [project_id=runhouse-test]'], but the activated identity is ['minimal-sky-permissions-test-p@runhouse-test.iam.gserviceaccount.com [project_id=runhouse-test]'].\"}"
     ]
    }
   ],
   "source": [
    "cluster.teardown()"
   ]
  },
  {
   "cell_type": "code",
   "execution_count": null,
   "metadata": {},
   "outputs": [],
   "source": []
  },
  {
   "cell_type": "code",
   "execution_count": null,
   "metadata": {},
   "outputs": [],
   "source": []
  }
 ],
 "metadata": {
  "kernelspec": {
   "display_name": "myenv",
   "language": "python",
   "name": "python3"
  },
  "language_info": {
   "codemirror_mode": {
    "name": "ipython",
    "version": 3
   },
   "file_extension": ".py",
   "mimetype": "text/x-python",
   "name": "python",
   "nbconvert_exporter": "python",
   "pygments_lexer": "ipython3",
   "version": "3.10.13"
  }
 },
 "nbformat": 4,
 "nbformat_minor": 2
}
