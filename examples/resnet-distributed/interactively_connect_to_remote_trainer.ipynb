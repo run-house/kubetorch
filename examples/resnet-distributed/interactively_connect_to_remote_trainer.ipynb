{
 "cells": [
  {
   "cell_type": "markdown",
   "metadata": {},
   "source": [
    "# Interactive Mode with Remote Objects \n",
    "We can access the trainer class on remote, and work with it interactively *while* training is still happening. For instance, we might want to test out inference from local on the remote model as it trains. \n",
    "\n",
    "Runhouse gives researchers and ML engineers more options and powerful tools to interact with their workflows. "
   ]
  },
  {
   "cell_type": "code",
   "execution_count": 23,
   "metadata": {},
   "outputs": [
    {
     "name": "stdout",
     "output_type": "stream",
     "text": [
      "INFO | 2024-11-01 14:27:52 | runhouse.resources.hardware.cluster:1511 | Running command on py-2x1GPU: echo \"hello\"\n"
     ]
    },
    {
     "data": {
      "text/plain": [
       "True"
      ]
     },
     "execution_count": 23,
     "metadata": {},
     "output_type": "execute_result"
    }
   ],
   "source": [
    "import runhouse as rh \n",
    "\n",
    "# Connect to the cluster by name - possible only when using Runhouse Den to save resources\n",
    "gpu_cluster = rh.cluster(\n",
    "        name= 'py-2x1GPU')\n",
    "gpu_cluster.is_up()\n"
   ]
  },
  {
   "cell_type": "code",
   "execution_count": 27,
   "metadata": {},
   "outputs": [],
   "source": [
    "# Grab the remote model trainer (0th worker) from the cluster\n",
    "remote_model = gpu_cluster.get('train_1', default=None, remote=True)"
   ]
  },
  {
   "cell_type": "code",
   "execution_count": 21,
   "metadata": {},
   "outputs": [],
   "source": [
    "import requests\n",
    "from PIL import Image\n",
    "from io import BytesIO\n",
    "\n",
    "# URL of the image -  Aaron Judge\n",
    "image_url = \"https://pyxis.nymag.com/v1/imgs/181/899/caa5404cd8a7bf2bd3e5952a1e74da29ed-aaron-judge-yankees.1x.rsquare.w1400.jpg\"\n",
    "\n",
    "# Fetch the image from the URL\n",
    "response = requests.get(image_url)\n",
    "\n",
    "# Ensure the request was successful\n",
    "if response.status_code == 200:\n",
    "    # Create a PIL image from the response content\n",
    "    image = Image.open(BytesIO(response.content))\n",
    "else:\n",
    "    print(f\"Failed to retrieve the image. Status code: {response.status_code}\")\n"
   ]
  },
  {
   "cell_type": "markdown",
   "metadata": {},
   "source": [
    "Now we can use the remote model (as training is happpening) to see if it correctly predicts ballplayer"
   ]
  },
  {
   "cell_type": "code",
   "execution_count": 28,
   "metadata": {},
   "outputs": [
    {
     "name": "stdout",
     "output_type": "stream",
     "text": [
      "INFO | 2024-11-01 14:28:36 | runhouse.servers.http.http_client:432 | Calling train_1.predict\n",
      "---------\n",
      "\u001b[36mpy-2x1GPU\u001b[0m\n",
      "---------\n",
      "ERROR | 2024-11-01 14:28:41 | runhouse.servers.http.http_utils:311 | \u001b[36mError calling predict on train_1 on server: The actor died unexpectedly before finishing this task.\n",
      "ERROR | 2024-11-01 14:28:41 | runhouse.servers.http.http_utils:311 | \tclass_name: EnvServlet\n",
      "ERROR | 2024-11-01 14:28:41 | runhouse.servers.http.http_utils:311 | \tactor_id: de0e13b4822dd3abf8e977a901000000\n",
      "ERROR | 2024-11-01 14:28:41 | runhouse.servers.http.http_utils:311 | \tpid: 38112\n",
      "ERROR | 2024-11-01 14:28:41 | runhouse.servers.http.http_utils:311 | \tname: pytorch_env_1\n",
      "ERROR | 2024-11-01 14:28:41 | runhouse.servers.http.http_utils:311 | \tnamespace: runhouse\n",
      "ERROR | 2024-11-01 14:28:41 | runhouse.servers.http.http_utils:311 | \tip: 172.31.85.225\n",
      "ERROR | 2024-11-01 14:28:41 | runhouse.servers.http.http_utils:311 | The actor is dead because its worker process has died. Worker exit type: SYSTEM_ERROR Worker exit detail: Worker unexpectedly exits with a connection error code 2. End of file. There are some potential root causes. (1) The process is killed by SIGKILL by OOM killer due to high memory usage. (2) ray stop --force is called. (3) The worker is crashed unexpectedly due to SIGSEGV or other unexpected errors.\u001b[0m\n",
      "ERROR | 2024-11-01 14:28:41 | runhouse.servers.http.http_utils:312 | \u001b[36mTraceback: Traceback (most recent call last):\n",
      "ERROR | 2024-11-01 14:28:41 | runhouse.servers.http.http_utils:312 |   File \"/opt/conda/lib/python3.10/site-packages/runhouse/servers/http/http_server.py\", line 508, in _get_results_and_logs_generator\n",
      "ERROR | 2024-11-01 14:28:41 | runhouse.servers.http.http_utils:312 |     ret_val = fut.result()\n",
      "ERROR | 2024-11-01 14:28:41 | runhouse.servers.http.http_utils:312 |   File \"/opt/conda/lib/python3.10/site-packages/runhouse/servers/obj_store.py\", line 112, in wrapper\n",
      "ERROR | 2024-11-01 14:28:41 | runhouse.servers.http.http_utils:312 |     raise e\n",
      "ERROR | 2024-11-01 14:28:41 | runhouse.servers.http.http_utils:312 |   File \"/opt/conda/lib/python3.10/site-packages/runhouse/servers/obj_store.py\", line 110, in wrapper\n",
      "ERROR | 2024-11-01 14:28:41 | runhouse.servers.http.http_utils:312 |     res = await func(self, *args, **kwargs)\n",
      "ERROR | 2024-11-01 14:28:41 | runhouse.servers.http.http_utils:312 |   File \"/opt/conda/lib/python3.10/site-packages/runhouse/servers/obj_store.py\", line 1375, in acall\n",
      "ERROR | 2024-11-01 14:28:41 | runhouse.servers.http.http_utils:312 |     res = await self.acall_for_env_servlet_name(\n",
      "ERROR | 2024-11-01 14:28:41 | runhouse.servers.http.http_utils:312 |   File \"/opt/conda/lib/python3.10/site-packages/runhouse/servers/obj_store.py\", line 1081, in acall_for_env_servlet_name\n",
      "ERROR | 2024-11-01 14:28:41 | runhouse.servers.http.http_utils:312 |     return await self.acall_env_servlet_method(\n",
      "ERROR | 2024-11-01 14:28:41 | runhouse.servers.http.http_utils:312 |   File \"/opt/conda/lib/python3.10/site-packages/runhouse/servers/obj_store.py\", line 320, in acall_env_servlet_method\n",
      "ERROR | 2024-11-01 14:28:41 | runhouse.servers.http.http_utils:312 |     raise e\n",
      "ERROR | 2024-11-01 14:28:41 | runhouse.servers.http.http_utils:312 |   File \"/opt/conda/lib/python3.10/site-packages/runhouse/servers/obj_store.py\", line 311, in acall_env_servlet_method\n",
      "ERROR | 2024-11-01 14:28:41 | runhouse.servers.http.http_utils:312 |     return await ObjStore.acall_actor_method(\n",
      "ERROR | 2024-11-01 14:28:41 | runhouse.servers.http.http_utils:312 |   File \"/opt/conda/lib/python3.10/site-packages/runhouse/servers/obj_store.py\", line 328, in acall_actor_method\n",
      "ERROR | 2024-11-01 14:28:41 | runhouse.servers.http.http_utils:312 |     return await getattr(actor, method).remote(*args, **kwargs)\n",
      "ERROR | 2024-11-01 14:28:41 | runhouse.servers.http.http_utils:312 | ray.exceptions.ActorDiedError: The actor died unexpectedly before finishing this task.\n",
      "ERROR | 2024-11-01 14:28:41 | runhouse.servers.http.http_utils:312 | \tclass_name: EnvServlet\n",
      "ERROR | 2024-11-01 14:28:41 | runhouse.servers.http.http_utils:312 | \tactor_id: de0e13b4822dd3abf8e977a901000000\n",
      "ERROR | 2024-11-01 14:28:41 | runhouse.servers.http.http_utils:312 | \tpid: 38112\n",
      "ERROR | 2024-11-01 14:28:41 | runhouse.servers.http.http_utils:312 | \tname: pytorch_env_1\n",
      "ERROR | 2024-11-01 14:28:41 | runhouse.servers.http.http_utils:312 | \tnamespace: runhouse\n",
      "ERROR | 2024-11-01 14:28:41 | runhouse.servers.http.http_utils:312 | \tip: 172.31.85.225\n",
      "ERROR | 2024-11-01 14:28:41 | runhouse.servers.http.http_utils:312 | The actor is dead because its worker process has died. Worker exit type: SYSTEM_ERROR Worker exit detail: Worker unexpectedly exits with a connection error code 2. End of file. There are some potential root causes. (1) The process is killed by SIGKILL by OOM killer due to high memory usage. (2) ray stop --force is called. (3) The worker is crashed unexpectedly due to SIGSEGV or other unexpected errors.\n",
      "ERROR | 2024-11-01 14:28:41 | runhouse.servers.http.http_utils:312 | \u001b[0m\n"
     ]
    },
    {
     "ename": "ActorDiedError",
     "evalue": "The actor died unexpectedly before finishing this task.\n\tclass_name: EnvServlet\n\tactor_id: de0e13b4822dd3abf8e977a901000000\n\tpid: 38112\n\tname: pytorch_env_1\n\tnamespace: runhouse\n\tip: 172.31.85.225\nThe actor is dead because its worker process has died. Worker exit type: SYSTEM_ERROR Worker exit detail: Worker unexpectedly exits with a connection error code 2. End of file. There are some potential root causes. (1) The process is killed by SIGKILL by OOM killer due to high memory usage. (2) ray stop --force is called. (3) The worker is crashed unexpectedly due to SIGSEGV or other unexpected errors.",
     "output_type": "error",
     "traceback": [
      "\u001b[0;31m---------------------------------------------------------------------------\u001b[0m",
      "\u001b[0;31mActorDiedError\u001b[0m                            Traceback (most recent call last)",
      "Cell \u001b[0;32mIn[28], line 1\u001b[0m\n\u001b[0;32m----> 1\u001b[0m remote_model\u001b[38;5;241m.\u001b[39mpredict(image)\n",
      "File \u001b[0;32m/opt/anaconda3/envs/tempenv/lib/python3.11/site-packages/runhouse/resources/module.py:660\u001b[0m, in \u001b[0;36mModule.__getattribute__.<locals>.RemoteMethodWrapper.__call__\u001b[0;34m(self, *args, **kwargs)\u001b[0m\n\u001b[1;32m    648\u001b[0m     \u001b[38;5;28;01mreturn\u001b[39;00m client_call_wrapper(\n\u001b[1;32m    649\u001b[0m         client,\n\u001b[1;32m    650\u001b[0m         system,\n\u001b[0;32m   (...)\u001b[0m\n\u001b[1;32m    657\u001b[0m         data\u001b[38;5;241m=\u001b[39m{\u001b[38;5;124m\"\u001b[39m\u001b[38;5;124margs\u001b[39m\u001b[38;5;124m\"\u001b[39m: args, \u001b[38;5;124m\"\u001b[39m\u001b[38;5;124mkwargs\u001b[39m\u001b[38;5;124m\"\u001b[39m: kwargs},\n\u001b[1;32m    658\u001b[0m     )\n\u001b[1;32m    659\u001b[0m \u001b[38;5;28;01melse\u001b[39;00m:\n\u001b[0;32m--> 660\u001b[0m     \u001b[38;5;28;01mreturn\u001b[39;00m client_call_wrapper(\n\u001b[1;32m    661\u001b[0m         client,\n\u001b[1;32m    662\u001b[0m         system,\n\u001b[1;32m    663\u001b[0m         \u001b[38;5;124m\"\u001b[39m\u001b[38;5;124mcall\u001b[39m\u001b[38;5;124m\"\u001b[39m,\n\u001b[1;32m    664\u001b[0m         name,\n\u001b[1;32m    665\u001b[0m         item,\n\u001b[1;32m    666\u001b[0m         run_name\u001b[38;5;241m=\u001b[39mkwargs\u001b[38;5;241m.\u001b[39mpop(\u001b[38;5;124m\"\u001b[39m\u001b[38;5;124mrun_name\u001b[39m\u001b[38;5;124m\"\u001b[39m, \u001b[38;5;28;01mNone\u001b[39;00m),\n\u001b[1;32m    667\u001b[0m         stream_logs\u001b[38;5;241m=\u001b[39mkwargs\u001b[38;5;241m.\u001b[39mpop(\u001b[38;5;124m\"\u001b[39m\u001b[38;5;124mstream_logs\u001b[39m\u001b[38;5;124m\"\u001b[39m, \u001b[38;5;28;01mTrue\u001b[39;00m),\n\u001b[1;32m    668\u001b[0m         remote\u001b[38;5;241m=\u001b[39mkwargs\u001b[38;5;241m.\u001b[39mpop(\u001b[38;5;124m\"\u001b[39m\u001b[38;5;124mremote\u001b[39m\u001b[38;5;124m\"\u001b[39m, \u001b[38;5;28;01mFalse\u001b[39;00m),\n\u001b[1;32m    669\u001b[0m         data\u001b[38;5;241m=\u001b[39m{\u001b[38;5;124m\"\u001b[39m\u001b[38;5;124margs\u001b[39m\u001b[38;5;124m\"\u001b[39m: args, \u001b[38;5;124m\"\u001b[39m\u001b[38;5;124mkwargs\u001b[39m\u001b[38;5;124m\"\u001b[39m: kwargs},\n\u001b[1;32m    670\u001b[0m     )\n",
      "File \u001b[0;32m/opt/anaconda3/envs/tempenv/lib/python3.11/site-packages/runhouse/utils.py:345\u001b[0m, in \u001b[0;36mclient_call_wrapper\u001b[0;34m(client, system, client_method_name, *args, **kwargs)\u001b[0m\n\u001b[1;32m    342\u001b[0m \u001b[38;5;28;01mfrom\u001b[39;00m \u001b[38;5;21;01mrunhouse\u001b[39;00m\u001b[38;5;21;01m.\u001b[39;00m\u001b[38;5;21;01mresources\u001b[39;00m\u001b[38;5;21;01m.\u001b[39;00m\u001b[38;5;21;01mhardware\u001b[39;00m \u001b[38;5;28;01mimport\u001b[39;00m Cluster\n\u001b[1;32m    344\u001b[0m \u001b[38;5;28;01mif\u001b[39;00m system \u001b[38;5;129;01mand\u001b[39;00m \u001b[38;5;28misinstance\u001b[39m(system, Cluster) \u001b[38;5;129;01mand\u001b[39;00m \u001b[38;5;129;01mnot\u001b[39;00m system\u001b[38;5;241m.\u001b[39mon_this_cluster():\n\u001b[0;32m--> 345\u001b[0m     \u001b[38;5;28;01mreturn\u001b[39;00m system\u001b[38;5;241m.\u001b[39mcall_client_method(client_method_name, \u001b[38;5;241m*\u001b[39margs, \u001b[38;5;241m*\u001b[39m\u001b[38;5;241m*\u001b[39mkwargs)\n\u001b[1;32m    346\u001b[0m method \u001b[38;5;241m=\u001b[39m \u001b[38;5;28mgetattr\u001b[39m(client, client_method_name)\n\u001b[1;32m    347\u001b[0m \u001b[38;5;28;01mreturn\u001b[39;00m method(\u001b[38;5;241m*\u001b[39margs, \u001b[38;5;241m*\u001b[39m\u001b[38;5;241m*\u001b[39mkwargs)\n",
      "File \u001b[0;32m/opt/anaconda3/envs/tempenv/lib/python3.11/site-packages/runhouse/resources/hardware/cluster.py:743\u001b[0m, in \u001b[0;36mCluster.call_client_method\u001b[0;34m(self, client_method_name, *args, **kwargs)\u001b[0m\n\u001b[1;32m    741\u001b[0m     \u001b[38;5;28;01mreturn\u001b[39;00m method(\u001b[38;5;241m*\u001b[39margs, \u001b[38;5;241m*\u001b[39m\u001b[38;5;241m*\u001b[39mkwargs)\n\u001b[1;32m    742\u001b[0m \u001b[38;5;28;01mexcept\u001b[39;00m \u001b[38;5;167;01mException\u001b[39;00m \u001b[38;5;28;01mas\u001b[39;00m e:\n\u001b[0;32m--> 743\u001b[0m     \u001b[38;5;28;01mraise\u001b[39;00m e\n",
      "File \u001b[0;32m/opt/anaconda3/envs/tempenv/lib/python3.11/site-packages/runhouse/resources/hardware/cluster.py:733\u001b[0m, in \u001b[0;36mCluster.call_client_method\u001b[0;34m(self, client_method_name, *args, **kwargs)\u001b[0m\n\u001b[1;32m    731\u001b[0m method \u001b[38;5;241m=\u001b[39m \u001b[38;5;28mgetattr\u001b[39m(\u001b[38;5;28mself\u001b[39m\u001b[38;5;241m.\u001b[39mclient, client_method_name)\n\u001b[1;32m    732\u001b[0m \u001b[38;5;28;01mtry\u001b[39;00m:\n\u001b[0;32m--> 733\u001b[0m     \u001b[38;5;28;01mreturn\u001b[39;00m method(\u001b[38;5;241m*\u001b[39margs, \u001b[38;5;241m*\u001b[39m\u001b[38;5;241m*\u001b[39mkwargs)\n\u001b[1;32m    734\u001b[0m \u001b[38;5;28;01mexcept\u001b[39;00m (\u001b[38;5;167;01mConnectionError\u001b[39;00m, requests\u001b[38;5;241m.\u001b[39mexceptions\u001b[38;5;241m.\u001b[39mConnectionError):\n\u001b[1;32m    735\u001b[0m     \u001b[38;5;28;01mtry\u001b[39;00m:\n",
      "File \u001b[0;32m/opt/anaconda3/envs/tempenv/lib/python3.11/site-packages/runhouse/servers/http/http_client.py:394\u001b[0m, in \u001b[0;36mHTTPClient.call\u001b[0;34m(self, key, method_name, data, serialization, run_name, stream_logs, remote, save, headers)\u001b[0m\n\u001b[1;32m    381\u001b[0m \u001b[38;5;28;01mdef\u001b[39;00m \u001b[38;5;21mcall\u001b[39m(\n\u001b[1;32m    382\u001b[0m     \u001b[38;5;28mself\u001b[39m,\n\u001b[1;32m    383\u001b[0m     key: \u001b[38;5;28mstr\u001b[39m,\n\u001b[0;32m   (...)\u001b[0m\n\u001b[1;32m    391\u001b[0m     headers\u001b[38;5;241m=\u001b[39m\u001b[38;5;28;01mNone\u001b[39;00m,\n\u001b[1;32m    392\u001b[0m ):\n\u001b[1;32m    393\u001b[0m \u001b[38;5;250m    \u001b[39m\u001b[38;5;124;03m\"\"\"wrapper to temporarily support cluster's call signature\"\"\"\u001b[39;00m\n\u001b[0;32m--> 394\u001b[0m     \u001b[38;5;28;01mreturn\u001b[39;00m \u001b[38;5;28mself\u001b[39m\u001b[38;5;241m.\u001b[39mcall_module_method(\n\u001b[1;32m    395\u001b[0m         key,\n\u001b[1;32m    396\u001b[0m         method_name,\n\u001b[1;32m    397\u001b[0m         data\u001b[38;5;241m=\u001b[39mdata,\n\u001b[1;32m    398\u001b[0m         serialization\u001b[38;5;241m=\u001b[39mserialization,\n\u001b[1;32m    399\u001b[0m         run_name\u001b[38;5;241m=\u001b[39mrun_name,\n\u001b[1;32m    400\u001b[0m         stream_logs\u001b[38;5;241m=\u001b[39mstream_logs,\n\u001b[1;32m    401\u001b[0m         remote\u001b[38;5;241m=\u001b[39mremote,\n\u001b[1;32m    402\u001b[0m         save\u001b[38;5;241m=\u001b[39msave,\n\u001b[1;32m    403\u001b[0m         system\u001b[38;5;241m=\u001b[39m\u001b[38;5;28mself\u001b[39m\u001b[38;5;241m.\u001b[39msystem,\n\u001b[1;32m    404\u001b[0m         headers\u001b[38;5;241m=\u001b[39mheaders,\n\u001b[1;32m    405\u001b[0m     )\n",
      "File \u001b[0;32m/opt/anaconda3/envs/tempenv/lib/python3.11/site-packages/runhouse/servers/http/http_client.py:477\u001b[0m, in \u001b[0;36mHTTPClient.call_module_method\u001b[0;34m(self, key, method_name, data, serialization, run_name, stream_logs, remote, save, system, headers)\u001b[0m\n\u001b[1;32m    475\u001b[0m     resp \u001b[38;5;241m=\u001b[39m json\u001b[38;5;241m.\u001b[39mloads(responses_json)\n\u001b[1;32m    476\u001b[0m     output_type \u001b[38;5;241m=\u001b[39m resp[\u001b[38;5;124m\"\u001b[39m\u001b[38;5;124moutput_type\u001b[39m\u001b[38;5;124m\"\u001b[39m]\n\u001b[0;32m--> 477\u001b[0m     result \u001b[38;5;241m=\u001b[39m handle_response(\n\u001b[1;32m    478\u001b[0m         resp, output_type, error_str, log_formatter\u001b[38;5;241m=\u001b[39m\u001b[38;5;28mself\u001b[39m\u001b[38;5;241m.\u001b[39mlog_formatter\n\u001b[1;32m    479\u001b[0m     )\n\u001b[1;32m    481\u001b[0m     result \u001b[38;5;241m=\u001b[39m \u001b[38;5;28mself\u001b[39m\u001b[38;5;241m.\u001b[39m_process_call_result(result, system, output_type)\n\u001b[1;32m    483\u001b[0m end \u001b[38;5;241m=\u001b[39m time\u001b[38;5;241m.\u001b[39mtime()\n",
      "File \u001b[0;32m/opt/anaconda3/envs/tempenv/lib/python3.11/site-packages/runhouse/servers/http/http_utils.py:313\u001b[0m, in \u001b[0;36mhandle_response\u001b[0;34m(response_data, output_type, err_str, log_formatter)\u001b[0m\n\u001b[1;32m    311\u001b[0m         logger\u001b[38;5;241m.\u001b[39merror(\u001b[38;5;124mf\u001b[39m\u001b[38;5;124m\"\u001b[39m\u001b[38;5;132;01m{\u001b[39;00msystem_color\u001b[38;5;132;01m}\u001b[39;00m\u001b[38;5;132;01m{\u001b[39;00merr_str\u001b[38;5;132;01m}\u001b[39;00m\u001b[38;5;124m: \u001b[39m\u001b[38;5;132;01m{\u001b[39;00mfn_exception\u001b[38;5;132;01m}\u001b[39;00m\u001b[38;5;132;01m{\u001b[39;00mreset_color\u001b[38;5;132;01m}\u001b[39;00m\u001b[38;5;124m\"\u001b[39m)\n\u001b[1;32m    312\u001b[0m         logger\u001b[38;5;241m.\u001b[39merror(\u001b[38;5;124mf\u001b[39m\u001b[38;5;124m\"\u001b[39m\u001b[38;5;132;01m{\u001b[39;00msystem_color\u001b[38;5;132;01m}\u001b[39;00m\u001b[38;5;124mTraceback: \u001b[39m\u001b[38;5;132;01m{\u001b[39;00mfn_traceback\u001b[38;5;132;01m}\u001b[39;00m\u001b[38;5;132;01m{\u001b[39;00mreset_color\u001b[38;5;132;01m}\u001b[39;00m\u001b[38;5;124m\"\u001b[39m)\n\u001b[0;32m--> 313\u001b[0m     \u001b[38;5;28;01mraise\u001b[39;00m fn_exception\n\u001b[1;32m    314\u001b[0m \u001b[38;5;28;01melif\u001b[39;00m output_type \u001b[38;5;241m==\u001b[39m OutputType\u001b[38;5;241m.\u001b[39mSTDOUT:\n\u001b[1;32m    315\u001b[0m     res \u001b[38;5;241m=\u001b[39m response_data[\u001b[38;5;124m\"\u001b[39m\u001b[38;5;124mdata\u001b[39m\u001b[38;5;124m\"\u001b[39m]\n",
      "\u001b[0;31mActorDiedError\u001b[0m: The actor died unexpectedly before finishing this task.\n\tclass_name: EnvServlet\n\tactor_id: de0e13b4822dd3abf8e977a901000000\n\tpid: 38112\n\tname: pytorch_env_1\n\tnamespace: runhouse\n\tip: 172.31.85.225\nThe actor is dead because its worker process has died. Worker exit type: SYSTEM_ERROR Worker exit detail: Worker unexpectedly exits with a connection error code 2. End of file. There are some potential root causes. (1) The process is killed by SIGKILL by OOM killer due to high memory usage. (2) ray stop --force is called. (3) The worker is crashed unexpectedly due to SIGSEGV or other unexpected errors."
     ]
    }
   ],
   "source": [
    "remote_model.predict(image)"
   ]
  },
  {
   "cell_type": "code",
   "execution_count": 26,
   "metadata": {},
   "outputs": [],
   "source": [
    "remote_model"
   ]
  }
 ],
 "metadata": {
  "kernelspec": {
   "display_name": "tempenv",
   "language": "python",
   "name": "python3"
  },
  "language_info": {
   "codemirror_mode": {
    "name": "ipython",
    "version": 3
   },
   "file_extension": ".py",
   "mimetype": "text/x-python",
   "name": "python",
   "nbconvert_exporter": "python",
   "pygments_lexer": "ipython3",
   "version": "3.11.8"
  }
 },
 "nbformat": 4,
 "nbformat_minor": 2
}
