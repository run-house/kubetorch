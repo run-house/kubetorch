{
 "cells": [
  {
   "cell_type": "markdown",
   "metadata": {},
   "source": [
    "# Interactive Mode with Remote Objects \n",
    "We can access the trainer class on remote, and work with it interactively *while* training is still happening. For instance, we might want to test out inference from local on the remote model as it trains. \n",
    "\n",
    "Runhouse gives researchers and ML engineers more options and powerful tools to interact with their workflows. "
   ]
  },
  {
   "cell_type": "code",
   "execution_count": 23,
   "metadata": {},
   "outputs": [
    {
     "name": "stdout",
     "output_type": "stream",
     "text": [
      "INFO | 2024-11-01 14:27:52 | runhouse.resources.hardware.cluster:1511 | Running command on py-2x1GPU: echo \"hello\"\n"
     ]
    },
    {
     "data": {
      "text/plain": [
       "True"
      ]
     },
     "execution_count": 23,
     "metadata": {},
     "output_type": "execute_result"
    }
   ],
   "source": [
    "import runhouse as rh \n",
    "\n",
    "# Connect to the cluster by name - possible only when using Runhouse Den to save resources\n",
    "gpu_cluster = rh.cluster(\n",
    "        name= 'py-2x1GPU')\n",
    "gpu_cluster.is_up()\n"
   ]
  },
  {
   "cell_type": "code",
   "execution_count": 27,
   "metadata": {},
   "outputs": [],
   "source": [
    "# Grab the remote model trainer (0th worker) from the cluster\n",
    "remote_model = gpu_cluster.get('train_1', default=None, remote=True)"
   ]
  },
  {
   "cell_type": "code",
   "execution_count": 21,
   "metadata": {},
   "outputs": [],
   "source": [
    "import requests\n",
    "from PIL import Image\n",
    "from io import BytesIO\n",
    "\n",
    "# URL of the image -  Aaron Judge\n",
    "image_url = \"https://pyxis.nymag.com/v1/imgs/181/899/caa5404cd8a7bf2bd3e5952a1e74da29ed-aaron-judge-yankees.1x.rsquare.w1400.jpg\"\n",
    "\n",
    "# Fetch the image from the URL\n",
    "response = requests.get(image_url)\n",
    "\n",
    "# Ensure the request was successful\n",
    "if response.status_code == 200:\n",
    "    # Create a PIL image from the response content\n",
    "    image = Image.open(BytesIO(response.content))\n",
    "else:\n",
    "    print(f\"Failed to retrieve the image. Status code: {response.status_code}\")\n"
   ]
  },
  {
   "cell_type": "markdown",
   "metadata": {},
   "source": [
    "Now we can use the remote model (as training is happpening) to see if it correctly predicts ballplayer"
   ]
  },
  {
   "cell_type": "code",
   "execution_count": null,
   "metadata": {},
   "outputs": [],
   "source": [
    "remote_model.predict(image)"
   ]
  }
 ],
 "metadata": {
  "kernelspec": {
   "display_name": "tempenv",
   "language": "python",
   "name": "python3"
  },
  "language_info": {
   "codemirror_mode": {
    "name": "ipython",
    "version": 3
   },
   "file_extension": ".py",
   "mimetype": "text/x-python",
   "name": "python",
   "nbconvert_exporter": "python",
   "pygments_lexer": "ipython3",
   "version": "3.11.8"
  }
 },
 "nbformat": 4,
 "nbformat_minor": 2
}
